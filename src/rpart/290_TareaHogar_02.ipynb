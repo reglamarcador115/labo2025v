{
  "nbformat": 4,
  "nbformat_minor": 0,
  "metadata": {
    "colab": {
      "provenance": [],
      "include_colab_link": true
    },
    "kernelspec": {
      "name": "ir",
      "display_name": "R"
    },
    "language_info": {
      "name": "R"
    }
  },
  "cells": [
    {
      "cell_type": "markdown",
      "metadata": {
        "id": "view-in-github",
        "colab_type": "text"
      },
      "source": [
        "<a href=\"https://colab.research.google.com/github/reglamarcador115/labo2025v/blob/main/src/rpart/290_TareaHogar_02.ipynb\" target=\"_parent\"><img src=\"https://colab.research.google.com/assets/colab-badge.svg\" alt=\"Open In Colab\"/></a>"
      ]
    },
    {
      "cell_type": "markdown",
      "source": [
        "# Tarea para el Hogar 02"
      ],
      "metadata": {
        "id": "F3r8aa3pBigj"
      }
    },
    {
      "cell_type": "markdown",
      "source": [
        "Esta Tarea para el Hogar 02 se entrega el final de la segunda clase\n",
        "<br> se espera de usted que intente avanzar con los desafios propuestos y que los traiga terminados para la Clase 03, ya que se analizarán los resultados"
      ],
      "metadata": {
        "id": "nBm4ktHUBmZt"
      }
    },
    {
      "cell_type": "markdown",
      "source": [
        "##  1. Ensembles de Modelos"
      ],
      "metadata": {
        "id": "TK-M04ElCESC"
      }
    },
    {
      "cell_type": "markdown",
      "source": [
        "Vea el siguiente video [BBC - The Code - The Wisdom of the Crowd](https://www.youtube.com/watch?v=iOucwX7Z1HU)    ( 5 min)\n"
      ],
      "metadata": {
        "id": "biPYxgobCOSS"
      }
    },
    {
      "cell_type": "markdown",
      "source": [
        "Lea los siguientes artículos\n",
        "\n",
        "\n",
        "*   [The Wisdom of Crowds (Vox Populi) by Francis Galton](https://www.all-about-psychology.com/the-wisdom-of-crowds.html)  (10 min)\n",
        "*   [A Gentle Introduction to Ensemble Learning](https://machinelearningmastery.com/what-is-ensemble-learning/)  (10 min)\n",
        "\n"
      ],
      "metadata": {
        "id": "FBszBRyNCcjp"
      }
    },
    {
      "cell_type": "markdown",
      "source": [
        "\n",
        "\n",
        "---\n",
        "\n"
      ],
      "metadata": {
        "id": "x7SebtV2lpHQ"
      }
    },
    {
      "cell_type": "markdown",
      "source": [
        "##  2.  Zero2Hero   primera parte\n",
        "Se han lanzado los primeros fascículos coleccionables llamados \"from Zero to Hero\" que muy detalladamente, paso a paso enseñan todo lo necesario de R para entender los scripts oficiales de la asignatura.\n",
        "Están en el repositorio oficial de la asignatura, carpeta  **src/zero2hero**"
      ],
      "metadata": {
        "id": "NQcY8u2MDSLT"
      }
    },
    {
      "cell_type": "markdown",
      "source": [
        "\n",
        "\n",
        "---\n",
        "\n"
      ],
      "metadata": {
        "id": "GcO0OSiIEAGy"
      }
    },
    {
      "cell_type": "markdown",
      "source": [
        "## 3.  Grid Search"
      ],
      "metadata": {
        "id": "6MStcyn0EBdT"
      }
    },
    {
      "cell_type": "markdown",
      "source": [
        "Busque en internet el precido significado de los hiperparámetros de la librería **rpart**  que está implementando el algoritmo **CART**  Classification and Regression Trees  propuesto en el año 1984 por Leo Brieman:\n",
        "\n",
        "*   cp\n",
        "*   maxdepth\n",
        "*   minsplit\n",
        "*   minbucket\n",
        "\n",
        "Entienda que valores es razonable tome cada hiperparámetro,  en particular profundice en el hiperparámetro  **cp**  y la posibilidad que tome valores negativos.  Es válido consultar a su amigo de *capacidades especiales*  ChatGPT\n"
      ],
      "metadata": {
        "id": "gM8RKXDgEIY0"
      }
    },
    {
      "cell_type": "markdown",
      "source": [
        "En las siguientes celdas a un notebook incompleto, un esqueleto de codigo brindado a modo de facilitarle la tarea de codeo y permitir que su valiosa cognición se concentre temas conceptuales de Ciencia de Datos\n",
        "\n",
        "Modifiquelo agregando loops para que recorra TODOS los hiperparámetros de rpart  < cp, maxdepth, minsplit, minbucket >, y luego póngalo a correr. Recuerde cambiar por SU semilla\n",
        "Tenga muy presente la granularidad que eligirá para cada hiperparámetro."
      ],
      "metadata": {
        "id": "_k7eT3HIFy9y"
      }
    },
    {
      "cell_type": "markdown",
      "source": [
        "### Seteo del ambiente en Google Colab"
      ],
      "metadata": {
        "id": "kmLygy1TYPfg"
      }
    },
    {
      "cell_type": "markdown",
      "source": [
        "Esta parte se debe correr con el runtime en Python3\n",
        "<br>Ir al menu, Runtime -> Change Runtime Tipe -> Runtime type ->  **Python 3**"
      ],
      "metadata": {
        "id": "OikOm5K2YU3X"
      }
    },
    {
      "cell_type": "markdown",
      "source": [
        "Conectar la virtual machine donde esta corriendo Google Colab con el  Google Drive, para poder tener persistencia de archivos"
      ],
      "metadata": {
        "id": "4fmV5LyZdFyI"
      }
    },
    {
      "cell_type": "code",
      "source": [
        "# primero establecer el Runtime de Python 3\n",
        "from google.colab import drive\n",
        "drive.mount('/content/.drive')"
      ],
      "metadata": {
        "id": "ilEZ-bE2VybW",
        "outputId": "6da89bb7-214a-4613-b6f1-b11974b0aab2",
        "colab": {
          "base_uri": "https://localhost:8080/"
        }
      },
      "execution_count": 1,
      "outputs": [
        {
          "output_type": "stream",
          "name": "stdout",
          "text": [
            "Mounted at /content/.drive\n"
          ]
        }
      ]
    },
    {
      "cell_type": "markdown",
      "source": [
        "Para correr la siguiente celda es fundamental en Arranque en Frio haber copiado el archivo kaggle.json al Google Drive, en la carpeta indicada en el instructivo\n",
        "\n",
        "<br>los siguientes comando estan en shell script de Linux\n",
        "*   Crear las carpetas en el Google Drive\n",
        "*   \"instalar\" el archivo kaggle.json desde el Google Drive a la virtual machine para que pueda ser utilizado por la libreria  kaggle de Python\n",
        "*   Bajar el  **dataset_pequeno**  al  Google Drive  y tambien al disco local de la virtual machine que esta corriendo Google Colab\n",
        "\n"
      ],
      "metadata": {
        "id": "ilaKtqWldeWg"
      }
    },
    {
      "cell_type": "code",
      "source": [
        "%%shell\n",
        "\n",
        "mkdir -p \"/content/.drive/My Drive/labo1\"\n",
        "mkdir -p \"/content/buckets\"\n",
        "ln -s \"/content/.drive/My Drive/labo1\" /content/buckets/b1\n",
        "\n",
        "mkdir -p ~/.kaggle\n",
        "cp /content/buckets/b1/kaggle/kaggle.json  ~/.kaggle\n",
        "chmod 600 ~/.kaggle/kaggle.json\n",
        "\n",
        "\n",
        "mkdir -p /content/buckets/b1/exp\n",
        "mkdir -p /content/buckets/b1/datasets\n",
        "mkdir -p /content/datasets\n",
        "\n",
        "\n",
        "\n",
        "archivo_origen=\"https://storage.googleapis.com/open-courses/austral2025-af91/dataset_pequeno.csv\"\n",
        "archivo_destino=\"/content/datasets/dataset_pequeno.csv\"\n",
        "archivo_destino_bucket=\"/content/buckets/b1/datasets/dataset_pequeno.csv\"\n",
        "\n",
        "if ! test -f $archivo_destino_bucket; then\n",
        "  wget  $archivo_origen  -O $archivo_destino_bucket\n",
        "fi\n",
        "\n",
        "\n",
        "if ! test -f $archivo_destino; then\n",
        "  cp  $archivo_destino_bucket  $archivo_destino\n",
        "fi\n",
        "\n"
      ],
      "metadata": {
        "id": "W8dQFI5QYCFa",
        "outputId": "835e256d-29f8-4395-c8f2-4de998842ab4",
        "colab": {
          "base_uri": "https://localhost:8080/"
        }
      },
      "execution_count": 2,
      "outputs": [
        {
          "output_type": "execute_result",
          "data": {
            "text/plain": []
          },
          "metadata": {},
          "execution_count": 2
        }
      ]
    },
    {
      "cell_type": "markdown",
      "source": [
        "limpio el ambiente de R"
      ],
      "metadata": {
        "id": "SE94XRhWsxkX"
      }
    },
    {
      "cell_type": "code",
      "source": [
        "# limpio la memoria\n",
        "rm(list=ls(all.names=TRUE)) # remove all objects\n",
        "gc(full=TRUE, verbose=FALSE) # garbage collection"
      ],
      "metadata": {
        "id": "oZG_4br6szlT",
        "outputId": "71634846-7aa8-425c-a88f-38801d3bd05a",
        "colab": {
          "base_uri": "https://localhost:8080/",
          "height": 129
        }
      },
      "execution_count": 36,
      "outputs": [
        {
          "output_type": "display_data",
          "data": {
            "text/html": [
              "<table class=\"dataframe\">\n",
              "<caption>A matrix: 2 × 6 of type dbl</caption>\n",
              "<thead>\n",
              "\t<tr><th></th><th scope=col>used</th><th scope=col>(Mb)</th><th scope=col>gc trigger</th><th scope=col>(Mb)</th><th scope=col>max used</th><th scope=col>(Mb)</th></tr>\n",
              "</thead>\n",
              "<tbody>\n",
              "\t<tr><th scope=row>Ncells</th><td> 829029</td><td>44.3</td><td> 1454465</td><td> 77.7</td><td>  1454465</td><td> 77.7</td></tr>\n",
              "\t<tr><th scope=row>Vcells</th><td>1582719</td><td>12.1</td><td>88361807</td><td>674.2</td><td>114964040</td><td>877.2</td></tr>\n",
              "</tbody>\n",
              "</table>\n"
            ],
            "text/markdown": "\nA matrix: 2 × 6 of type dbl\n\n| <!--/--> | used | (Mb) | gc trigger | (Mb) | max used | (Mb) |\n|---|---|---|---|---|---|---|\n| Ncells |  829029 | 44.3 |  1454465 |  77.7 |   1454465 |  77.7 |\n| Vcells | 1582719 | 12.1 | 88361807 | 674.2 | 114964040 | 877.2 |\n\n",
            "text/latex": "A matrix: 2 × 6 of type dbl\n\\begin{tabular}{r|llllll}\n  & used & (Mb) & gc trigger & (Mb) & max used & (Mb)\\\\\n\\hline\n\tNcells &  829029 & 44.3 &  1454465 &  77.7 &   1454465 &  77.7\\\\\n\tVcells & 1582719 & 12.1 & 88361807 & 674.2 & 114964040 & 877.2\\\\\n\\end{tabular}\n",
            "text/plain": [
              "       used    (Mb) gc trigger (Mb)  max used  (Mb) \n",
              "Ncells  829029 44.3  1454465    77.7   1454465  77.7\n",
              "Vcells 1582719 12.1 88361807   674.2 114964040 877.2"
            ]
          },
          "metadata": {}
        }
      ]
    },
    {
      "cell_type": "code",
      "source": [
        "# cargo las librerias que necesito\n",
        "require(\"data.table\")\n",
        "require(\"rpart\")\n",
        "require(\"parallel\")\n",
        "if (!require(\"primes\")) install.packages(\"primes\")\n",
        "require(\"primes\")"
      ],
      "metadata": {
        "id": "JO-12d7YHkWy"
      },
      "execution_count": 37,
      "outputs": []
    },
    {
      "cell_type": "markdown",
      "source": [
        "Aqui debe poner SU semiila primigenia"
      ],
      "metadata": {
        "id": "0MclPEJ6Q8Bp"
      }
    },
    {
      "cell_type": "code",
      "source": [
        "PARAM <- list()\n",
        "# reemplazar por su primer semilla\n",
        "PARAM$semilla_primigenia <- 234511\n",
        "PARAM$qsemillas <- 1\n",
        "\n",
        "PARAM$training_pct <- 70L  # entre  1L y 99L\n",
        "\n",
        "# elegir SU dataset comentando/ descomentando\n",
        "PARAM$dataset_nom <- \"~/datasets/dataset_pequeno.csv\""
      ],
      "metadata": {
        "id": "Vt5fC6bWHu5r"
      },
      "execution_count": 38,
      "outputs": []
    },
    {
      "cell_type": "code",
      "source": [
        "# particionar agrega una columna llamada fold a un dataset\n",
        "#  que consiste en una particion estratificada segun agrupa\n",
        "# particionar( data=dataset, division=c(70,30), agrupa=clase_ternaria, seed=semilla)\n",
        "#   crea una particion 70, 30\n",
        "\n",
        "particionar <- function(data, division, agrupa = \"\", campo = \"fold\", start = 1, seed = NA) {\n",
        "  if (!is.na(seed)) set.seed(seed)\n",
        "\n",
        "  bloque <- unlist(mapply(function(x, y) {\n",
        "    rep(y, x)\n",
        "  }, division, seq(from = start, length.out = length(division))))\n",
        "\n",
        "  data[, (campo) := sample(rep(bloque, ceiling(.N / length(bloque))))[1:.N],\n",
        "    by = agrupa\n",
        "  ]\n",
        "}\n"
      ],
      "metadata": {
        "id": "Z1dchsrWH4MD"
      },
      "execution_count": 39,
      "outputs": []
    },
    {
      "cell_type": "code",
      "source": [
        "ArbolEstimarGanancia <- function(semilla, training_pct, param_basicos) {\n",
        "  # particiono estratificadamente el dataset\n",
        "  particionar(dataset,\n",
        "    division = c(training_pct, 100L -training_pct),\n",
        "    agrupa = \"clase_ternaria\",\n",
        "    seed = semilla # aqui se usa SU semilla\n",
        "  )\n",
        "\n",
        "  # genero el modelo\n",
        "  # predecir clase_ternaria a partir del resto\n",
        "  modelo <- rpart(\"clase_ternaria ~ .\",\n",
        "    data = dataset[fold == 1], # fold==1  es training,  el 70% de los datos\n",
        "    xval = 0,\n",
        "    control = param_basicos\n",
        "  ) # aqui van los parametros del arbol\n",
        "\n",
        "  # aplico el modelo a los datos de testing\n",
        "  prediccion <- predict(modelo, # el modelo que genere recien\n",
        "    dataset[fold == 2], # fold==2  es testing, el 30% de los datos\n",
        "    type = \"prob\"\n",
        "  ) # type= \"prob\"  es que devuelva la probabilidad\n",
        "\n",
        "  # prediccion es una matriz con TRES columnas,\n",
        "  #  llamadas \"BAJA+1\", \"BAJA+2\"  y \"CONTINUA\"\n",
        "  # cada columna es el vector de probabilidades\n",
        "\n",
        "\n",
        "  # calculo la ganancia en testing  qu es fold==2\n",
        "  ganancia_test <- dataset[\n",
        "    fold == 2,\n",
        "    sum(ifelse(prediccion[, \"BAJA+2\"] > 0.025,\n",
        "      ifelse(clase_ternaria == \"BAJA+2\", 117000, -3000),\n",
        "      0\n",
        "    ))\n",
        "  ]\n",
        "\n",
        "  # escalo la ganancia como si fuera todo el dataset\n",
        "  ganancia_test_normalizada <- ganancia_test / (( 100 - PARAM$training_pct ) / 100 )\n",
        "\n",
        "  return(\n",
        "    c( list(\"semilla\" = semilla),\n",
        "      param_basicos,\n",
        "      list( \"ganancia_test\" = ganancia_test_normalizada )\n",
        "     )\n",
        "  )\n",
        "}\n"
      ],
      "metadata": {
        "id": "xsHwS1CzIA70"
      },
      "execution_count": 40,
      "outputs": []
    },
    {
      "cell_type": "code",
      "source": [
        "ArbolesMontecarlo <- function(semillas, param_basicos) {\n",
        "\n",
        "  # la funcion mcmapply  llama a la funcion ArbolEstimarGanancia\n",
        "  #  tantas veces como valores tenga el vector  PARAM$semillas\n",
        "  salida <- mcmapply(ArbolEstimarGanancia,\n",
        "    semillas, # paso el vector de semillas\n",
        "    MoreArgs = list(PARAM$training_pct, param_basicos), # aqui paso el segundo parametro\n",
        "    SIMPLIFY = FALSE,\n",
        "    mc.cores = detectCores()\n",
        "  )\n",
        "\n",
        "  return(salida)\n",
        "}\n"
      ],
      "metadata": {
        "id": "BvBVOuhqIEjD"
      },
      "execution_count": 41,
      "outputs": []
    },
    {
      "cell_type": "code",
      "source": [
        "# carpeta de trabajo\n",
        "# por fabor cambiar numero de experimento si se cambia el loop principal\n",
        "setwd(\"/content/buckets/b1/exp\")\n",
        "experimento <- \"HT2900\"\n",
        "dir.create(experimento, showWarnings=FALSE)\n",
        "setwd( paste0(\"/content/buckets/b1/exp/\", experimento ))"
      ],
      "metadata": {
        "id": "L-DOGHOjIG7G"
      },
      "execution_count": 42,
      "outputs": []
    },
    {
      "cell_type": "code",
      "source": [
        "# lectura del dataset\n",
        "dataset <- fread(\"/content/datasets/dataset_pequeno.csv\")\n",
        "\n",
        "# trabajo solo con los datos con clase, es decir 202107\n",
        "dataset <- dataset[clase_ternaria != \"\"]"
      ],
      "metadata": {
        "id": "NM-mrLWcIPo6"
      },
      "execution_count": 43,
      "outputs": []
    },
    {
      "cell_type": "code",
      "source": [
        "\n",
        "# genero numeros primos\n",
        "primos <- generate_primes(min = 100000, max = 1000000)\n",
        "set.seed(PARAM$semilla_primigenia) # inicializo\n",
        "# me quedo con PARAM$qsemillas   semillas\n",
        "PARAM$semillas <- sample(primos, PARAM$qsemillas )\n"
      ],
      "metadata": {
        "id": "tSlY0EcgIWdi"
      },
      "execution_count": 44,
      "outputs": []
    },
    {
      "cell_type": "code",
      "source": [
        "# genero la data.table donde van los resultados detallados del Grid Search\n",
        "# un registro para cada combinacion de < semilla, parametros >\n",
        "\n",
        "if(file.exists(\"gridsearch_detalle.txt\")){\n",
        "  tb_grid_search_detalle <- fread(\"gridsearch_detalle.txt\")\n",
        "}else{\n",
        "  tb_grid_search_detalle <- data.table(\n",
        "    semilla = integer(),\n",
        "    cp = numeric(),\n",
        "    maxdepth = integer(),\n",
        "   minsplit = integer(),\n",
        "    minbucket = integer(),\n",
        "    ganancia_test = numeric()\n",
        "  )\n",
        "}\n",
        "\n",
        "nrow( tb_grid_search_detalle )"
      ],
      "metadata": {
        "id": "xxCAwIKyIaTl",
        "outputId": "e1aa0ccb-da47-47b8-f08e-348eeed3c448",
        "colab": {
          "base_uri": "https://localhost:8080/",
          "height": 34
        }
      },
      "execution_count": 45,
      "outputs": [
        {
          "output_type": "display_data",
          "data": {
            "text/html": [
              "24"
            ],
            "text/markdown": "24",
            "text/latex": "24",
            "text/plain": [
              "[1] 24"
            ]
          },
          "metadata": {}
        }
      ]
    },
    {
      "cell_type": "markdown",
      "source": [
        "Esta es la parte del código que usted debe expandir a TODOS los hiperparámetros de rpart,\n",
        "<br>ya que actualmente apenas recorre  maxdepth y  minsplit  dejando fijos  cp=-0.5  y minbucket=5"
      ],
      "metadata": {
        "id": "eAuGBNL8IkOD"
      }
    },
    {
      "cell_type": "code",
      "source": [
        "\n",
        "# Itero por los loops anidados para cada hiperparametro\n",
        "iter <- 0\n",
        "\n",
        "for (vmax_depth in c(8, 12, 16)) { #4, 6, 8, 10, 12, 14\n",
        "  for (vmin_split in c(1000, 500, 100)) { #1000, 800, 600, 400, 200, 100, 50, 20, 10\n",
        "    for (vcp in c(-1, -0.5, -0.1, 0.1)) { #-0.5, -0.1, -0.05, -0.01, 0\n",
        "      for (vminbucket in c(5, 25, 50)) { #\n",
        "        iter <- iter + 1\n",
        "        cat(iter, \" \")\n",
        "        flush.console()\n",
        "        if (iter * PARAM$qsemillas < nrow(tb_grid_search_detalle) + 1) next\n",
        "\n",
        "        # Parametros basicos\n",
        "        param_basicos <- list(\n",
        "          \"cp\" = vcp, # Complejidad minima\n",
        "          \"maxdepth\" = vmax_depth, # Profundidad maxima del arbol\n",
        "          \"minsplit\" = vmin_split, # Tamano minimo de nodo para split\n",
        "          \"minbucket\" = vminbucket # Minima cantidad de registros en hoja\n",
        "        )\n",
        "\n",
        "        # Llamado con semillas\n",
        "        ganancias <- ArbolesMontecarlo(PARAM$semillas, param_basicos)\n",
        "\n",
        "\n",
        "        # Agrego a la tabla\n",
        "        tb_grid_search_detalle <- rbindlist(\n",
        "          list(tb_grid_search_detalle, rbindlist(ganancias))\n",
        "        )\n",
        "      }\n",
        "    }\n",
        "  }\n",
        "\n",
        "  # Grabo la tabla en el loop mas externo\n",
        "  fwrite(tb_grid_search_detalle,\n",
        "         file = \"gridsearch_detalle.txt\",\n",
        "         sep = \"\\t\")\n",
        "}"
      ],
      "metadata": {
        "id": "ipLHm3STIfmb",
        "outputId": "78ac7a01-16b8-4ce6-e292-29ca2e6105b8",
        "colab": {
          "base_uri": "https://localhost:8080/"
        }
      },
      "execution_count": 46,
      "outputs": [
        {
          "output_type": "stream",
          "name": "stdout",
          "text": [
            "1  2  3  4  5  6  7  8  9  10  11  12  13  14  15  16  17  18  19  20  21  22  23  24  25  26  27  28  29  30  31  32  33  34  35  36  37  38  39  40  41  42  43  44  45  46  47  48  49  50  51  52  53  54  55  56  57  58  59  60  61  62  63  64  65  66  67  68  69  70  71  72  73  74  75  76  77  78  79  80  81  82  83  84  85  86  87  88  89  90  91  92  93  94  95  96  97  98  99  100  101  102  103  104  105  106  107  108  "
          ]
        }
      ]
    },
    {
      "cell_type": "code",
      "source": [
        "fwrite( tb_grid_search_detalle,\n",
        "   file = \"gridsearch_detalle.txt\",\n",
        "   sep = \"\\t\"\n",
        ")"
      ],
      "metadata": {
        "id": "WZaSqYBxiDFu"
      },
      "execution_count": 47,
      "outputs": []
    },
    {
      "cell_type": "code",
      "source": [
        "# cantidad de registros de la tabla\n",
        "nrow(tb_grid_search_detalle)"
      ],
      "metadata": {
        "id": "STp0duM-RYVJ",
        "outputId": "6773a034-f45a-48ff-9525-abb32c64d024",
        "colab": {
          "base_uri": "https://localhost:8080/",
          "height": 34
        }
      },
      "execution_count": 48,
      "outputs": [
        {
          "output_type": "display_data",
          "data": {
            "text/html": [
              "108"
            ],
            "text/markdown": "108",
            "text/latex": "108",
            "text/plain": [
              "[1] 108"
            ]
          },
          "metadata": {}
        }
      ]
    },
    {
      "cell_type": "code",
      "source": [
        "# muestro la tabla\n",
        "tb_grid_search_detalle"
      ],
      "metadata": {
        "id": "k7fhk_H0iNez",
        "outputId": "254cb540-a945-4098-f2e5-c60ea461cc06",
        "colab": {
          "base_uri": "https://localhost:8080/",
          "height": 1000
        }
      },
      "execution_count": 49,
      "outputs": [
        {
          "output_type": "display_data",
          "data": {
            "text/html": [
              "<table class=\"dataframe\">\n",
              "<caption>A data.table: 108 × 6</caption>\n",
              "<thead>\n",
              "\t<tr><th scope=col>semilla</th><th scope=col>cp</th><th scope=col>maxdepth</th><th scope=col>minsplit</th><th scope=col>minbucket</th><th scope=col>ganancia_test</th></tr>\n",
              "\t<tr><th scope=col>&lt;int&gt;</th><th scope=col>&lt;dbl&gt;</th><th scope=col>&lt;dbl&gt;</th><th scope=col>&lt;dbl&gt;</th><th scope=col>&lt;dbl&gt;</th><th scope=col>&lt;dbl&gt;</th></tr>\n",
              "</thead>\n",
              "<tbody>\n",
              "\t<tr><td>586073</td><td>-1.0</td><td> 4</td><td>1000</td><td> 5</td><td>46520000</td></tr>\n",
              "\t<tr><td>586073</td><td>-1.0</td><td> 4</td><td>1000</td><td>50</td><td>49620000</td></tr>\n",
              "\t<tr><td>586073</td><td> 0.0</td><td> 4</td><td>1000</td><td> 5</td><td>       0</td></tr>\n",
              "\t<tr><td>586073</td><td> 0.0</td><td> 4</td><td>1000</td><td>50</td><td>       0</td></tr>\n",
              "\t<tr><td>586073</td><td>-1.0</td><td> 4</td><td>  10</td><td> 5</td><td>46550000</td></tr>\n",
              "\t<tr><td>586073</td><td>-1.0</td><td> 4</td><td>  10</td><td>50</td><td>49620000</td></tr>\n",
              "\t<tr><td>586073</td><td> 0.0</td><td> 4</td><td>  10</td><td> 5</td><td>38160000</td></tr>\n",
              "\t<tr><td>586073</td><td> 0.0</td><td> 4</td><td>  10</td><td>50</td><td>       0</td></tr>\n",
              "\t<tr><td>586073</td><td>-1.0</td><td>20</td><td>1000</td><td> 5</td><td>51820000</td></tr>\n",
              "\t<tr><td>586073</td><td>-1.0</td><td>20</td><td>1000</td><td>50</td><td>49330000</td></tr>\n",
              "\t<tr><td>586073</td><td> 0.0</td><td>20</td><td>1000</td><td> 5</td><td>44840000</td></tr>\n",
              "\t<tr><td>586073</td><td> 0.0</td><td>20</td><td>1000</td><td>50</td><td>       0</td></tr>\n",
              "\t<tr><td>586073</td><td>-1.0</td><td>20</td><td>  10</td><td> 5</td><td>24120000</td></tr>\n",
              "\t<tr><td>586073</td><td>-1.0</td><td>20</td><td>  10</td><td>50</td><td>34150000</td></tr>\n",
              "\t<tr><td>586073</td><td> 0.0</td><td>20</td><td>  10</td><td> 5</td><td>34130000</td></tr>\n",
              "\t<tr><td>586073</td><td> 0.0</td><td>20</td><td>  10</td><td>50</td><td>       0</td></tr>\n",
              "\t<tr><td>586073</td><td>-0.5</td><td>20</td><td>1000</td><td>25</td><td>46620000</td></tr>\n",
              "\t<tr><td>586073</td><td>-0.5</td><td>20</td><td>1000</td><td>50</td><td>49330000</td></tr>\n",
              "\t<tr><td>586073</td><td>-1.0</td><td>20</td><td> 500</td><td> 5</td><td>47360000</td></tr>\n",
              "\t<tr><td>586073</td><td>-1.0</td><td>20</td><td> 500</td><td>25</td><td>41360000</td></tr>\n",
              "\t<tr><td>586073</td><td>-1.0</td><td>20</td><td> 500</td><td>50</td><td>44060000</td></tr>\n",
              "\t<tr><td>586073</td><td>-0.5</td><td>20</td><td> 500</td><td> 5</td><td>47360000</td></tr>\n",
              "\t<tr><td>586073</td><td>-0.5</td><td>20</td><td> 500</td><td>25</td><td>41360000</td></tr>\n",
              "\t<tr><td>586073</td><td>-0.5</td><td>20</td><td> 500</td><td>50</td><td>44060000</td></tr>\n",
              "\t<tr><td>586073</td><td>-1.0</td><td> 8</td><td> 100</td><td> 5</td><td>50810000</td></tr>\n",
              "\t<tr><td>586073</td><td>-1.0</td><td> 8</td><td> 100</td><td>25</td><td>48170000</td></tr>\n",
              "\t<tr><td>586073</td><td>-1.0</td><td> 8</td><td> 100</td><td>50</td><td>46140000</td></tr>\n",
              "\t<tr><td>586073</td><td>-0.5</td><td> 8</td><td> 100</td><td> 5</td><td>50810000</td></tr>\n",
              "\t<tr><td>586073</td><td>-0.5</td><td> 8</td><td> 100</td><td>25</td><td>48170000</td></tr>\n",
              "\t<tr><td>586073</td><td>-0.5</td><td> 8</td><td> 100</td><td>50</td><td>46140000</td></tr>\n",
              "\t<tr><td>⋮</td><td>⋮</td><td>⋮</td><td>⋮</td><td>⋮</td><td>⋮</td></tr>\n",
              "\t<tr><td>586073</td><td>-0.1</td><td>16</td><td>1000</td><td> 5</td><td>53280000</td></tr>\n",
              "\t<tr><td>586073</td><td>-0.1</td><td>16</td><td>1000</td><td>25</td><td>48680000</td></tr>\n",
              "\t<tr><td>586073</td><td>-0.1</td><td>16</td><td>1000</td><td>50</td><td>49720000</td></tr>\n",
              "\t<tr><td>586073</td><td> 0.1</td><td>16</td><td>1000</td><td> 5</td><td>       0</td></tr>\n",
              "\t<tr><td>586073</td><td> 0.1</td><td>16</td><td>1000</td><td>25</td><td>       0</td></tr>\n",
              "\t<tr><td>586073</td><td> 0.1</td><td>16</td><td>1000</td><td>50</td><td>       0</td></tr>\n",
              "\t<tr><td>586073</td><td>-1.0</td><td>16</td><td> 500</td><td> 5</td><td>49650000</td></tr>\n",
              "\t<tr><td>586073</td><td>-1.0</td><td>16</td><td> 500</td><td>25</td><td>43970000</td></tr>\n",
              "\t<tr><td>586073</td><td>-1.0</td><td>16</td><td> 500</td><td>50</td><td>44450000</td></tr>\n",
              "\t<tr><td>586073</td><td>-0.5</td><td>16</td><td> 500</td><td> 5</td><td>49650000</td></tr>\n",
              "\t<tr><td>586073</td><td>-0.5</td><td>16</td><td> 500</td><td>25</td><td>43970000</td></tr>\n",
              "\t<tr><td>586073</td><td>-0.5</td><td>16</td><td> 500</td><td>50</td><td>44450000</td></tr>\n",
              "\t<tr><td>586073</td><td>-0.1</td><td>16</td><td> 500</td><td> 5</td><td>49650000</td></tr>\n",
              "\t<tr><td>586073</td><td>-0.1</td><td>16</td><td> 500</td><td>25</td><td>43970000</td></tr>\n",
              "\t<tr><td>586073</td><td>-0.1</td><td>16</td><td> 500</td><td>50</td><td>44450000</td></tr>\n",
              "\t<tr><td>586073</td><td> 0.1</td><td>16</td><td> 500</td><td> 5</td><td>       0</td></tr>\n",
              "\t<tr><td>586073</td><td> 0.1</td><td>16</td><td> 500</td><td>25</td><td>       0</td></tr>\n",
              "\t<tr><td>586073</td><td> 0.1</td><td>16</td><td> 500</td><td>50</td><td>       0</td></tr>\n",
              "\t<tr><td>586073</td><td>-1.0</td><td>16</td><td> 100</td><td> 5</td><td>43240000</td></tr>\n",
              "\t<tr><td>586073</td><td>-1.0</td><td>16</td><td> 100</td><td>25</td><td>35400000</td></tr>\n",
              "\t<tr><td>586073</td><td>-1.0</td><td>16</td><td> 100</td><td>50</td><td>35660000</td></tr>\n",
              "\t<tr><td>586073</td><td>-0.5</td><td>16</td><td> 100</td><td> 5</td><td>43240000</td></tr>\n",
              "\t<tr><td>586073</td><td>-0.5</td><td>16</td><td> 100</td><td>25</td><td>35400000</td></tr>\n",
              "\t<tr><td>586073</td><td>-0.5</td><td>16</td><td> 100</td><td>50</td><td>35660000</td></tr>\n",
              "\t<tr><td>586073</td><td>-0.1</td><td>16</td><td> 100</td><td> 5</td><td>43240000</td></tr>\n",
              "\t<tr><td>586073</td><td>-0.1</td><td>16</td><td> 100</td><td>25</td><td>35400000</td></tr>\n",
              "\t<tr><td>586073</td><td>-0.1</td><td>16</td><td> 100</td><td>50</td><td>35660000</td></tr>\n",
              "\t<tr><td>586073</td><td> 0.1</td><td>16</td><td> 100</td><td> 5</td><td>       0</td></tr>\n",
              "\t<tr><td>586073</td><td> 0.1</td><td>16</td><td> 100</td><td>25</td><td>       0</td></tr>\n",
              "\t<tr><td>586073</td><td> 0.1</td><td>16</td><td> 100</td><td>50</td><td>       0</td></tr>\n",
              "</tbody>\n",
              "</table>\n"
            ],
            "text/markdown": "\nA data.table: 108 × 6\n\n| semilla &lt;int&gt; | cp &lt;dbl&gt; | maxdepth &lt;dbl&gt; | minsplit &lt;dbl&gt; | minbucket &lt;dbl&gt; | ganancia_test &lt;dbl&gt; |\n|---|---|---|---|---|---|\n| 586073 | -1.0 |  4 | 1000 |  5 | 46520000 |\n| 586073 | -1.0 |  4 | 1000 | 50 | 49620000 |\n| 586073 |  0.0 |  4 | 1000 |  5 |        0 |\n| 586073 |  0.0 |  4 | 1000 | 50 |        0 |\n| 586073 | -1.0 |  4 |   10 |  5 | 46550000 |\n| 586073 | -1.0 |  4 |   10 | 50 | 49620000 |\n| 586073 |  0.0 |  4 |   10 |  5 | 38160000 |\n| 586073 |  0.0 |  4 |   10 | 50 |        0 |\n| 586073 | -1.0 | 20 | 1000 |  5 | 51820000 |\n| 586073 | -1.0 | 20 | 1000 | 50 | 49330000 |\n| 586073 |  0.0 | 20 | 1000 |  5 | 44840000 |\n| 586073 |  0.0 | 20 | 1000 | 50 |        0 |\n| 586073 | -1.0 | 20 |   10 |  5 | 24120000 |\n| 586073 | -1.0 | 20 |   10 | 50 | 34150000 |\n| 586073 |  0.0 | 20 |   10 |  5 | 34130000 |\n| 586073 |  0.0 | 20 |   10 | 50 |        0 |\n| 586073 | -0.5 | 20 | 1000 | 25 | 46620000 |\n| 586073 | -0.5 | 20 | 1000 | 50 | 49330000 |\n| 586073 | -1.0 | 20 |  500 |  5 | 47360000 |\n| 586073 | -1.0 | 20 |  500 | 25 | 41360000 |\n| 586073 | -1.0 | 20 |  500 | 50 | 44060000 |\n| 586073 | -0.5 | 20 |  500 |  5 | 47360000 |\n| 586073 | -0.5 | 20 |  500 | 25 | 41360000 |\n| 586073 | -0.5 | 20 |  500 | 50 | 44060000 |\n| 586073 | -1.0 |  8 |  100 |  5 | 50810000 |\n| 586073 | -1.0 |  8 |  100 | 25 | 48170000 |\n| 586073 | -1.0 |  8 |  100 | 50 | 46140000 |\n| 586073 | -0.5 |  8 |  100 |  5 | 50810000 |\n| 586073 | -0.5 |  8 |  100 | 25 | 48170000 |\n| 586073 | -0.5 |  8 |  100 | 50 | 46140000 |\n| ⋮ | ⋮ | ⋮ | ⋮ | ⋮ | ⋮ |\n| 586073 | -0.1 | 16 | 1000 |  5 | 53280000 |\n| 586073 | -0.1 | 16 | 1000 | 25 | 48680000 |\n| 586073 | -0.1 | 16 | 1000 | 50 | 49720000 |\n| 586073 |  0.1 | 16 | 1000 |  5 |        0 |\n| 586073 |  0.1 | 16 | 1000 | 25 |        0 |\n| 586073 |  0.1 | 16 | 1000 | 50 |        0 |\n| 586073 | -1.0 | 16 |  500 |  5 | 49650000 |\n| 586073 | -1.0 | 16 |  500 | 25 | 43970000 |\n| 586073 | -1.0 | 16 |  500 | 50 | 44450000 |\n| 586073 | -0.5 | 16 |  500 |  5 | 49650000 |\n| 586073 | -0.5 | 16 |  500 | 25 | 43970000 |\n| 586073 | -0.5 | 16 |  500 | 50 | 44450000 |\n| 586073 | -0.1 | 16 |  500 |  5 | 49650000 |\n| 586073 | -0.1 | 16 |  500 | 25 | 43970000 |\n| 586073 | -0.1 | 16 |  500 | 50 | 44450000 |\n| 586073 |  0.1 | 16 |  500 |  5 |        0 |\n| 586073 |  0.1 | 16 |  500 | 25 |        0 |\n| 586073 |  0.1 | 16 |  500 | 50 |        0 |\n| 586073 | -1.0 | 16 |  100 |  5 | 43240000 |\n| 586073 | -1.0 | 16 |  100 | 25 | 35400000 |\n| 586073 | -1.0 | 16 |  100 | 50 | 35660000 |\n| 586073 | -0.5 | 16 |  100 |  5 | 43240000 |\n| 586073 | -0.5 | 16 |  100 | 25 | 35400000 |\n| 586073 | -0.5 | 16 |  100 | 50 | 35660000 |\n| 586073 | -0.1 | 16 |  100 |  5 | 43240000 |\n| 586073 | -0.1 | 16 |  100 | 25 | 35400000 |\n| 586073 | -0.1 | 16 |  100 | 50 | 35660000 |\n| 586073 |  0.1 | 16 |  100 |  5 |        0 |\n| 586073 |  0.1 | 16 |  100 | 25 |        0 |\n| 586073 |  0.1 | 16 |  100 | 50 |        0 |\n\n",
            "text/latex": "A data.table: 108 × 6\n\\begin{tabular}{llllll}\n semilla & cp & maxdepth & minsplit & minbucket & ganancia\\_test\\\\\n <int> & <dbl> & <dbl> & <dbl> & <dbl> & <dbl>\\\\\n\\hline\n\t 586073 & -1.0 &  4 & 1000 &  5 & 46520000\\\\\n\t 586073 & -1.0 &  4 & 1000 & 50 & 49620000\\\\\n\t 586073 &  0.0 &  4 & 1000 &  5 &        0\\\\\n\t 586073 &  0.0 &  4 & 1000 & 50 &        0\\\\\n\t 586073 & -1.0 &  4 &   10 &  5 & 46550000\\\\\n\t 586073 & -1.0 &  4 &   10 & 50 & 49620000\\\\\n\t 586073 &  0.0 &  4 &   10 &  5 & 38160000\\\\\n\t 586073 &  0.0 &  4 &   10 & 50 &        0\\\\\n\t 586073 & -1.0 & 20 & 1000 &  5 & 51820000\\\\\n\t 586073 & -1.0 & 20 & 1000 & 50 & 49330000\\\\\n\t 586073 &  0.0 & 20 & 1000 &  5 & 44840000\\\\\n\t 586073 &  0.0 & 20 & 1000 & 50 &        0\\\\\n\t 586073 & -1.0 & 20 &   10 &  5 & 24120000\\\\\n\t 586073 & -1.0 & 20 &   10 & 50 & 34150000\\\\\n\t 586073 &  0.0 & 20 &   10 &  5 & 34130000\\\\\n\t 586073 &  0.0 & 20 &   10 & 50 &        0\\\\\n\t 586073 & -0.5 & 20 & 1000 & 25 & 46620000\\\\\n\t 586073 & -0.5 & 20 & 1000 & 50 & 49330000\\\\\n\t 586073 & -1.0 & 20 &  500 &  5 & 47360000\\\\\n\t 586073 & -1.0 & 20 &  500 & 25 & 41360000\\\\\n\t 586073 & -1.0 & 20 &  500 & 50 & 44060000\\\\\n\t 586073 & -0.5 & 20 &  500 &  5 & 47360000\\\\\n\t 586073 & -0.5 & 20 &  500 & 25 & 41360000\\\\\n\t 586073 & -0.5 & 20 &  500 & 50 & 44060000\\\\\n\t 586073 & -1.0 &  8 &  100 &  5 & 50810000\\\\\n\t 586073 & -1.0 &  8 &  100 & 25 & 48170000\\\\\n\t 586073 & -1.0 &  8 &  100 & 50 & 46140000\\\\\n\t 586073 & -0.5 &  8 &  100 &  5 & 50810000\\\\\n\t 586073 & -0.5 &  8 &  100 & 25 & 48170000\\\\\n\t 586073 & -0.5 &  8 &  100 & 50 & 46140000\\\\\n\t ⋮ & ⋮ & ⋮ & ⋮ & ⋮ & ⋮\\\\\n\t 586073 & -0.1 & 16 & 1000 &  5 & 53280000\\\\\n\t 586073 & -0.1 & 16 & 1000 & 25 & 48680000\\\\\n\t 586073 & -0.1 & 16 & 1000 & 50 & 49720000\\\\\n\t 586073 &  0.1 & 16 & 1000 &  5 &        0\\\\\n\t 586073 &  0.1 & 16 & 1000 & 25 &        0\\\\\n\t 586073 &  0.1 & 16 & 1000 & 50 &        0\\\\\n\t 586073 & -1.0 & 16 &  500 &  5 & 49650000\\\\\n\t 586073 & -1.0 & 16 &  500 & 25 & 43970000\\\\\n\t 586073 & -1.0 & 16 &  500 & 50 & 44450000\\\\\n\t 586073 & -0.5 & 16 &  500 &  5 & 49650000\\\\\n\t 586073 & -0.5 & 16 &  500 & 25 & 43970000\\\\\n\t 586073 & -0.5 & 16 &  500 & 50 & 44450000\\\\\n\t 586073 & -0.1 & 16 &  500 &  5 & 49650000\\\\\n\t 586073 & -0.1 & 16 &  500 & 25 & 43970000\\\\\n\t 586073 & -0.1 & 16 &  500 & 50 & 44450000\\\\\n\t 586073 &  0.1 & 16 &  500 &  5 &        0\\\\\n\t 586073 &  0.1 & 16 &  500 & 25 &        0\\\\\n\t 586073 &  0.1 & 16 &  500 & 50 &        0\\\\\n\t 586073 & -1.0 & 16 &  100 &  5 & 43240000\\\\\n\t 586073 & -1.0 & 16 &  100 & 25 & 35400000\\\\\n\t 586073 & -1.0 & 16 &  100 & 50 & 35660000\\\\\n\t 586073 & -0.5 & 16 &  100 &  5 & 43240000\\\\\n\t 586073 & -0.5 & 16 &  100 & 25 & 35400000\\\\\n\t 586073 & -0.5 & 16 &  100 & 50 & 35660000\\\\\n\t 586073 & -0.1 & 16 &  100 &  5 & 43240000\\\\\n\t 586073 & -0.1 & 16 &  100 & 25 & 35400000\\\\\n\t 586073 & -0.1 & 16 &  100 & 50 & 35660000\\\\\n\t 586073 &  0.1 & 16 &  100 &  5 &        0\\\\\n\t 586073 &  0.1 & 16 &  100 & 25 &        0\\\\\n\t 586073 &  0.1 & 16 &  100 & 50 &        0\\\\\n\\end{tabular}\n",
            "text/plain": [
              "    semilla cp   maxdepth minsplit minbucket ganancia_test\n",
              "1   586073  -1.0  4       1000      5        46520000     \n",
              "2   586073  -1.0  4       1000     50        49620000     \n",
              "3   586073   0.0  4       1000      5               0     \n",
              "4   586073   0.0  4       1000     50               0     \n",
              "5   586073  -1.0  4         10      5        46550000     \n",
              "6   586073  -1.0  4         10     50        49620000     \n",
              "7   586073   0.0  4         10      5        38160000     \n",
              "8   586073   0.0  4         10     50               0     \n",
              "9   586073  -1.0 20       1000      5        51820000     \n",
              "10  586073  -1.0 20       1000     50        49330000     \n",
              "11  586073   0.0 20       1000      5        44840000     \n",
              "12  586073   0.0 20       1000     50               0     \n",
              "13  586073  -1.0 20         10      5        24120000     \n",
              "14  586073  -1.0 20         10     50        34150000     \n",
              "15  586073   0.0 20         10      5        34130000     \n",
              "16  586073   0.0 20         10     50               0     \n",
              "17  586073  -0.5 20       1000     25        46620000     \n",
              "18  586073  -0.5 20       1000     50        49330000     \n",
              "19  586073  -1.0 20        500      5        47360000     \n",
              "20  586073  -1.0 20        500     25        41360000     \n",
              "21  586073  -1.0 20        500     50        44060000     \n",
              "22  586073  -0.5 20        500      5        47360000     \n",
              "23  586073  -0.5 20        500     25        41360000     \n",
              "24  586073  -0.5 20        500     50        44060000     \n",
              "25  586073  -1.0  8        100      5        50810000     \n",
              "26  586073  -1.0  8        100     25        48170000     \n",
              "27  586073  -1.0  8        100     50        46140000     \n",
              "28  586073  -0.5  8        100      5        50810000     \n",
              "29  586073  -0.5  8        100     25        48170000     \n",
              "30  586073  -0.5  8        100     50        46140000     \n",
              "⋮   ⋮       ⋮    ⋮        ⋮        ⋮         ⋮            \n",
              "79  586073  -0.1 16       1000      5        53280000     \n",
              "80  586073  -0.1 16       1000     25        48680000     \n",
              "81  586073  -0.1 16       1000     50        49720000     \n",
              "82  586073   0.1 16       1000      5               0     \n",
              "83  586073   0.1 16       1000     25               0     \n",
              "84  586073   0.1 16       1000     50               0     \n",
              "85  586073  -1.0 16        500      5        49650000     \n",
              "86  586073  -1.0 16        500     25        43970000     \n",
              "87  586073  -1.0 16        500     50        44450000     \n",
              "88  586073  -0.5 16        500      5        49650000     \n",
              "89  586073  -0.5 16        500     25        43970000     \n",
              "90  586073  -0.5 16        500     50        44450000     \n",
              "91  586073  -0.1 16        500      5        49650000     \n",
              "92  586073  -0.1 16        500     25        43970000     \n",
              "93  586073  -0.1 16        500     50        44450000     \n",
              "94  586073   0.1 16        500      5               0     \n",
              "95  586073   0.1 16        500     25               0     \n",
              "96  586073   0.1 16        500     50               0     \n",
              "97  586073  -1.0 16        100      5        43240000     \n",
              "98  586073  -1.0 16        100     25        35400000     \n",
              "99  586073  -1.0 16        100     50        35660000     \n",
              "100 586073  -0.5 16        100      5        43240000     \n",
              "101 586073  -0.5 16        100     25        35400000     \n",
              "102 586073  -0.5 16        100     50        35660000     \n",
              "103 586073  -0.1 16        100      5        43240000     \n",
              "104 586073  -0.1 16        100     25        35400000     \n",
              "105 586073  -0.1 16        100     50        35660000     \n",
              "106 586073   0.1 16        100      5               0     \n",
              "107 586073   0.1 16        100     25               0     \n",
              "108 586073   0.1 16        100     50               0     "
            ]
          },
          "metadata": {}
        }
      ]
    },
    {
      "cell_type": "code",
      "source": [
        "# genero y grabo el resumen\n",
        "tb_grid_search <- tb_grid_search_detalle[,\n",
        "  list( \"ganancia_mean\" = mean(ganancia_test),\n",
        "    \"qty\" = .N ),\n",
        "  list( cp, maxdepth, minsplit, minbucket )\n",
        "]\n"
      ],
      "metadata": {
        "id": "DjCxtx8bIsgl"
      },
      "execution_count": 50,
      "outputs": []
    },
    {
      "cell_type": "code",
      "source": [
        "# ordeno descendente por ganancia\n",
        "setorder( tb_grid_search, -ganancia_mean )\n"
      ],
      "metadata": {
        "id": "LU29UhL1Ivg5"
      },
      "execution_count": 51,
      "outputs": []
    },
    {
      "cell_type": "code",
      "source": [
        "# veo los 10 mejores hiperparámetros\n",
        "tb_grid_search[1:10]"
      ],
      "metadata": {
        "id": "g-EjGY7aIyWL",
        "outputId": "4b3ee979-6e8d-468b-e995-2f764128e330",
        "colab": {
          "base_uri": "https://localhost:8080/",
          "height": 412
        }
      },
      "execution_count": 52,
      "outputs": [
        {
          "output_type": "display_data",
          "data": {
            "text/html": [
              "<table class=\"dataframe\">\n",
              "<caption>A data.table: 10 × 6</caption>\n",
              "<thead>\n",
              "\t<tr><th scope=col>cp</th><th scope=col>maxdepth</th><th scope=col>minsplit</th><th scope=col>minbucket</th><th scope=col>ganancia_mean</th><th scope=col>qty</th></tr>\n",
              "\t<tr><th scope=col>&lt;dbl&gt;</th><th scope=col>&lt;dbl&gt;</th><th scope=col>&lt;dbl&gt;</th><th scope=col>&lt;dbl&gt;</th><th scope=col>&lt;dbl&gt;</th><th scope=col>&lt;int&gt;</th></tr>\n",
              "</thead>\n",
              "<tbody>\n",
              "\t<tr><td>-1.0</td><td>16</td><td>1000</td><td>5</td><td>53280000</td><td>1</td></tr>\n",
              "\t<tr><td>-0.5</td><td>16</td><td>1000</td><td>5</td><td>53280000</td><td>1</td></tr>\n",
              "\t<tr><td>-0.1</td><td>16</td><td>1000</td><td>5</td><td>53280000</td><td>1</td></tr>\n",
              "\t<tr><td>-1.0</td><td>12</td><td>1000</td><td>5</td><td>52900000</td><td>1</td></tr>\n",
              "\t<tr><td>-0.5</td><td>12</td><td>1000</td><td>5</td><td>52900000</td><td>1</td></tr>\n",
              "\t<tr><td>-0.1</td><td>12</td><td>1000</td><td>5</td><td>52900000</td><td>1</td></tr>\n",
              "\t<tr><td>-1.0</td><td>20</td><td>1000</td><td>5</td><td>51820000</td><td>1</td></tr>\n",
              "\t<tr><td>-1.0</td><td> 8</td><td> 100</td><td>5</td><td>50810000</td><td>1</td></tr>\n",
              "\t<tr><td>-0.5</td><td> 8</td><td> 100</td><td>5</td><td>50810000</td><td>1</td></tr>\n",
              "\t<tr><td>-0.1</td><td> 8</td><td> 100</td><td>5</td><td>50810000</td><td>1</td></tr>\n",
              "</tbody>\n",
              "</table>\n"
            ],
            "text/markdown": "\nA data.table: 10 × 6\n\n| cp &lt;dbl&gt; | maxdepth &lt;dbl&gt; | minsplit &lt;dbl&gt; | minbucket &lt;dbl&gt; | ganancia_mean &lt;dbl&gt; | qty &lt;int&gt; |\n|---|---|---|---|---|---|\n| -1.0 | 16 | 1000 | 5 | 53280000 | 1 |\n| -0.5 | 16 | 1000 | 5 | 53280000 | 1 |\n| -0.1 | 16 | 1000 | 5 | 53280000 | 1 |\n| -1.0 | 12 | 1000 | 5 | 52900000 | 1 |\n| -0.5 | 12 | 1000 | 5 | 52900000 | 1 |\n| -0.1 | 12 | 1000 | 5 | 52900000 | 1 |\n| -1.0 | 20 | 1000 | 5 | 51820000 | 1 |\n| -1.0 |  8 |  100 | 5 | 50810000 | 1 |\n| -0.5 |  8 |  100 | 5 | 50810000 | 1 |\n| -0.1 |  8 |  100 | 5 | 50810000 | 1 |\n\n",
            "text/latex": "A data.table: 10 × 6\n\\begin{tabular}{llllll}\n cp & maxdepth & minsplit & minbucket & ganancia\\_mean & qty\\\\\n <dbl> & <dbl> & <dbl> & <dbl> & <dbl> & <int>\\\\\n\\hline\n\t -1.0 & 16 & 1000 & 5 & 53280000 & 1\\\\\n\t -0.5 & 16 & 1000 & 5 & 53280000 & 1\\\\\n\t -0.1 & 16 & 1000 & 5 & 53280000 & 1\\\\\n\t -1.0 & 12 & 1000 & 5 & 52900000 & 1\\\\\n\t -0.5 & 12 & 1000 & 5 & 52900000 & 1\\\\\n\t -0.1 & 12 & 1000 & 5 & 52900000 & 1\\\\\n\t -1.0 & 20 & 1000 & 5 & 51820000 & 1\\\\\n\t -1.0 &  8 &  100 & 5 & 50810000 & 1\\\\\n\t -0.5 &  8 &  100 & 5 & 50810000 & 1\\\\\n\t -0.1 &  8 &  100 & 5 & 50810000 & 1\\\\\n\\end{tabular}\n",
            "text/plain": [
              "   cp   maxdepth minsplit minbucket ganancia_mean qty\n",
              "1  -1.0 16       1000     5         53280000      1  \n",
              "2  -0.5 16       1000     5         53280000      1  \n",
              "3  -0.1 16       1000     5         53280000      1  \n",
              "4  -1.0 12       1000     5         52900000      1  \n",
              "5  -0.5 12       1000     5         52900000      1  \n",
              "6  -0.1 12       1000     5         52900000      1  \n",
              "7  -1.0 20       1000     5         51820000      1  \n",
              "8  -1.0  8        100     5         50810000      1  \n",
              "9  -0.5  8        100     5         50810000      1  \n",
              "10 -0.1  8        100     5         50810000      1  "
            ]
          },
          "metadata": {}
        }
      ]
    },
    {
      "cell_type": "code",
      "source": [
        "# genero un id a la tabla\n",
        "tb_grid_search[, id := .I ]\n",
        "\n",
        "fwrite( tb_grid_search,\n",
        "  file = \"gridsearch.txt\",\n",
        "  sep = \"\\t\"\n",
        ")\n"
      ],
      "metadata": {
        "id": "K3S-I2PTI5ZE"
      },
      "execution_count": 53,
      "outputs": []
    },
    {
      "cell_type": "markdown",
      "source": [
        "# 4.  Análisis de resultados de Grid Search"
      ],
      "metadata": {
        "id": "1rYHk1YkI_9k"
      }
    },
    {
      "cell_type": "markdown",
      "source": [
        "La salida de la corrida anterior queda en ~/buckets/b1/exp/HT2900  que corresponde a su Google Drive\n",
        "<br>HT significa Hyperparameter Tuning\n",
        "<br>El Grid Search es un método de fuerza bruta de un altísimo costo computacional.\n",
        "<br>Queremos ver si es posible crear un algoritmo de optimización de hiperparámetros que se ahorre recorrer ciertas porciones muy malas del espacio de búsqueda. Algo del estilo “cada vez que pruebo una combinación de hiperparámetros donde  cp > 1 , la ganancia es muy mala, con lo cual ni vale la pena perder el tiempo explorando en esa region”\n"
      ],
      "metadata": {
        "id": "ZTJgPhMWJHTk"
      }
    },
    {
      "cell_type": "markdown",
      "source": [
        "<br>Levante el archivo de salida gridsearch.txt  a una planilla tipo Excel y analícelo detenidamente\n",
        "<br>Ordene por ganancia_mean descendente\n",
        "<br>\n",
        "<br>El de mayor ganancia_mean  decimos que es el primero del ranking\n",
        "En Zulip, correspondiente channel  #Tarea Hogar 02 , topic Analisis Grid Search   intente contestar estas preguntas:\n",
        "\n",
        "* ¿Qué combinaciones de hiperparámetros poseen una ganancia muy buena?\n",
        "* ¿Hay algun hiperparámetro que para cierto valor siempre genera una ganancia muy mala, a independientemente de lo que valgan los otros hiperparámetros ?\n",
        "* ¿Que combinaciones de hiperparámetros es pésima y hubiera sido bueno ahorrarse esas corridas ?\n",
        "\n",
        "( tiempo estimado 30 minutos, dificultad media )"
      ],
      "metadata": {
        "id": "IaVgMu4tPwyB"
      }
    }
  ]
}