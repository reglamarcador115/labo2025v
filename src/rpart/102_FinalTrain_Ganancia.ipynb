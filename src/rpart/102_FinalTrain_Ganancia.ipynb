{
  "nbformat": 4,
  "nbformat_minor": 0,
  "metadata": {
    "colab": {
      "provenance": [],
      "include_colab_link": true
    },
    "kernelspec": {
      "name": "ir",
      "display_name": "R"
    },
    "language_info": {
      "name": "R"
    }
  },
  "cells": [
    {
      "cell_type": "markdown",
      "metadata": {
        "id": "view-in-github",
        "colab_type": "text"
      },
      "source": [
        "<a href=\"https://colab.research.google.com/github/reglamarcador115/labo2025v/blob/main/src/rpart/102_FinalTrain_Ganancia.ipynb\" target=\"_parent\"><img src=\"https://colab.research.google.com/assets/colab-badge.svg\" alt=\"Open In Colab\"/></a>"
      ]
    },
    {
      "cell_type": "markdown",
      "source": [
        "# Arbol elemental con libreria  rpart"
      ],
      "metadata": {
        "id": "x79hZRjomDop"
      }
    },
    {
      "cell_type": "markdown",
      "source": [
        "## Introduccion"
      ],
      "metadata": {
        "id": "_4490Ry5cqPo"
      }
    },
    {
      "cell_type": "markdown",
      "source": [
        "Este es el primer notebook/script de la materia Laboratorio de Implementacion I, se expone en la primera clase.\n",
        "<br>Se utilizan Arboles de Decision, librería **rpart**,  el primer algoritmo, el más simple que utilizaremos en la materia pero que es el fundamento de los Ensembles de Arboles de Decision tales como  Random Forest y  Gradient Boosting of Decision Trees (XGBoost/LightGBM)\n",
        "<br>La materia posee un dataset con 31 meses, en las primeras clases toda la cohorte, independiente de la modalidad elegida, utilizará **dataset_pequeno** que posee apenas un mes histórico 202107 y obviamente el mes donde se debe realizar la predicción 202109\n",
        "<br>Este primer notebook/script **no** desarrolla todas las etapas necesarias para la generación de un buen modelo, apenas posee la parte final del pipeline/workflow."
      ],
      "metadata": {
        "id": "aAYUcclYjDCi"
      }
    },
    {
      "cell_type": "markdown",
      "source": [
        "### Limitaciones\n",
        "\n"
      ],
      "metadata": {
        "id": "kjl2iZNJjTTn"
      }
    },
    {
      "cell_type": "markdown",
      "source": [
        "Este primer y elemental notebook/script supone estas simplificaciónes:\n",
        "* Solo se dispone del mes 202107 con el campo clase_ternaria completo, es el unico mes donde entrenar\n",
        "* Se decidió previamente, de alguna forma, que la etapa de Final Training se hará sobre TODO el dataset de 202107\n",
        "* Se obtuvieron previamente los hiperparámetros optimos de la libería **rpart** para este problema, mediante algun tipo de busqueda búsqueda.  Esta es la etapa que demandará decenas de horas para quienes opten por la *modalidad Analista Senior*\n",
        "* No se realiza ningun tipo de feature engineering intra-mes\n",
        "* Al no disponer de datos históricos no se realiza ningun tipo de feature engineering histórico\n",
        "* No hay ningun analisis de la calidad de los campos, no se analiza si ocurrió alguna catástrofe ese mes y algun campo no se calculó correctamente\n",
        "* Noy hay ningun tipo de análisis de Data Drifting entre los meses de 202107 y 202109\n",
        "* Obedientemente se trabaja utlizando como clase el campo **clase_ternaria** sin ningun tipo de transformacion\n",
        "\n",
        "\n",
        "<br> Obviamente, a lo largo de la materia se avanzará sobre todas las limitacinoes anteriores."
      ],
      "metadata": {
        "id": "Ls6hLk6Vja_C"
      }
    },
    {
      "cell_type": "markdown",
      "source": [
        "## Seteo del ambiente en Google Colab"
      ],
      "metadata": {
        "id": "kmLygy1TYPfg"
      }
    },
    {
      "cell_type": "markdown",
      "source": [
        "Esta parte se debe correr con el runtime en Python3\n",
        "<br>Ir al menu, Runtime -> Change Runtime Tipe -> Runtime type ->  **Python 3**"
      ],
      "metadata": {
        "id": "OikOm5K2YU3X"
      }
    },
    {
      "cell_type": "markdown",
      "source": [
        "Conectar la virtual machine donde esta corriendo Google Colab con el  Google Drive, para poder tener persistencia de archivos"
      ],
      "metadata": {
        "id": "4fmV5LyZdFyI"
      }
    },
    {
      "cell_type": "code",
      "source": [
        "# primero establecer el Runtime de Python 3\n",
        "from google.colab import drive\n",
        "drive.mount('/content/.drive')"
      ],
      "metadata": {
        "id": "ilEZ-bE2VybW",
        "outputId": "4c0ee013-6b91-4b2c-ef4d-1255c975a47b",
        "colab": {
          "base_uri": "https://localhost:8080/"
        }
      },
      "execution_count": 1,
      "outputs": [
        {
          "output_type": "stream",
          "name": "stdout",
          "text": [
            "Mounted at /content/.drive\n"
          ]
        }
      ]
    },
    {
      "cell_type": "markdown",
      "source": [
        "Para correr la siguiente celda es fundamental en Arranque en Frio haber copiado el archivo kaggle.json al Google Drive, en la carpeta indicada en el instructivo\n",
        "\n",
        "<br>los siguientes comando estan en shell script de Linux\n",
        "*   Crear las carpetas en el Google Drive\n",
        "*   \"instalar\" el archivo kaggle.json desde el Google Drive a la virtual machine para que pueda ser utilizado por la libreria  kaggle de Python\n",
        "*   Bajar el  **dataset_pequeno**  al  Google Drive  y tambien al disco local de la virtual machine que esta corriendo Google Colab\n",
        "\n"
      ],
      "metadata": {
        "id": "ilaKtqWldeWg"
      }
    },
    {
      "cell_type": "code",
      "source": [
        "%%shell\n",
        "\n",
        "mkdir -p \"/content/.drive/My Drive/labo1\"\n",
        "mkdir -p \"/content/buckets\"\n",
        "ln -s \"/content/.drive/My Drive/labo1\" /content/buckets/b1\n",
        "\n",
        "mkdir -p ~/.kaggle\n",
        "cp /content/buckets/b1/kaggle/kaggle.json  ~/.kaggle\n",
        "chmod 600 ~/.kaggle/kaggle.json\n",
        "\n",
        "\n",
        "mkdir -p /content/buckets/b1/exp\n",
        "mkdir -p /content/buckets/b1/datasets\n",
        "mkdir -p /content/datasets\n",
        "\n",
        "\n",
        "\n",
        "archivo_origen=\"https://storage.googleapis.com/open-courses/austral2025-af91/dataset_pequeno.csv\"\n",
        "archivo_destino=\"/content/datasets/dataset_pequeno.csv\"\n",
        "archivo_destino_bucket=\"/content/buckets/b1/datasets/dataset_pequeno.csv\"\n",
        "\n",
        "if ! test -f $archivo_destino_bucket; then\n",
        "  wget  $archivo_origen  -O $archivo_destino_bucket\n",
        "fi\n",
        "\n",
        "\n",
        "if ! test -f $archivo_destino; then\n",
        "  cp  $archivo_destino_bucket  $archivo_destino\n",
        "fi\n"
      ],
      "metadata": {
        "id": "W8dQFI5QYCFa",
        "outputId": "15bd902a-020d-4fa6-d520-678287b852a8",
        "colab": {
          "base_uri": "https://localhost:8080/"
        }
      },
      "execution_count": 2,
      "outputs": [
        {
          "output_type": "execute_result",
          "data": {
            "text/plain": []
          },
          "metadata": {},
          "execution_count": 2
        }
      ]
    },
    {
      "cell_type": "markdown",
      "source": [
        "## Final Train y generacion de la prediccion"
      ],
      "metadata": {
        "id": "GfY5gFQAaWDe"
      }
    },
    {
      "cell_type": "markdown",
      "source": [
        "Esta parte se debe correr con el runtime en lenguaje **R** Ir al menu, Runtime -> Change Runtime Tipe -> Runtime type -> R"
      ],
      "metadata": {
        "id": "SBXPU-_tabMb"
      }
    },
    {
      "cell_type": "markdown",
      "source": [
        "limpio el ambiente de R"
      ],
      "metadata": {
        "id": "SE94XRhWsxkX"
      }
    },
    {
      "cell_type": "markdown",
      "source": [
        "* Instalacion de la libreria  rpart.plot  para dibujar el arbol\n",
        "* invocacion de las librerias  **data.table**  **rpart** y  **rpart.plot**"
      ],
      "metadata": {
        "id": "3BrrQ47PeEb2"
      }
    },
    {
      "cell_type": "code",
      "source": [
        "# cargo las librerias que necesito\n",
        "require(\"data.table\")\n",
        "require(\"rpart\")\n",
        "if (!require(\"rpart.plot\")) install.packages(\"rpart.plot\")\n",
        "require(\"rpart.plot\")"
      ],
      "metadata": {
        "id": "SxO-0Ql0khn6",
        "outputId": "61951ddc-72ad-436c-8bab-f5c1b1d8ff05",
        "colab": {
          "base_uri": "https://localhost:8080/"
        }
      },
      "execution_count": 1,
      "outputs": [
        {
          "output_type": "stream",
          "name": "stderr",
          "text": [
            "Loading required package: data.table\n",
            "\n",
            "Loading required package: rpart\n",
            "\n",
            "Loading required package: rpart.plot\n",
            "\n",
            "Warning message in library(package, lib.loc = lib.loc, character.only = TRUE, logical.return = TRUE, :\n",
            "“there is no package called ‘rpart.plot’”\n",
            "Installing package into ‘/usr/local/lib/R/site-library’\n",
            "(as ‘lib’ is unspecified)\n",
            "\n",
            "Loading required package: rpart.plot\n",
            "\n"
          ]
        }
      ]
    },
    {
      "cell_type": "markdown",
      "source": [
        "Crear y moverse a la carpeta donde se va a trabajar"
      ],
      "metadata": {
        "id": "apAqiSA2eXSr"
      }
    },
    {
      "cell_type": "markdown",
      "source": [
        "## Final Training"
      ],
      "metadata": {
        "id": "8ZvIUVwIWUTo"
      }
    },
    {
      "cell_type": "markdown",
      "source": [
        "### Final Train Dataset"
      ],
      "metadata": {
        "id": "XLOILuGOXR2J"
      }
    },
    {
      "cell_type": "markdown",
      "source": [
        "Es importante notar que para el entrenamiento final utilizo el mes de 202107 completo sin ningun tipo particion  train/test, aqui no hay random, aqui no hay semillas"
      ],
      "metadata": {
        "id": "xWhnTG7lxQQ-"
      }
    },
    {
      "cell_type": "markdown",
      "source": [
        "Aqui los hiperparámetros estan hardcodeados\n",
        "<br> Usted puede jugar con ellos manualmente\n",
        "<br> En las siguientes clases veremos como encontrar previamente los hiperparámetros óptimos, para ser copiados aquí"
      ],
      "metadata": {
        "id": "pfCLuBh4zJ2g"
      }
    },
    {
      "cell_type": "code",
      "source": [
        "# limpio la memoria\n",
        "rm(list=ls(all.names=TRUE)) # remove all objects\n",
        "gc(full=TRUE, verbose=FALSE) # garbage collection"
      ],
      "metadata": {
        "id": "oZG_4br6szlT",
        "outputId": "56c9af91-7c31-4c93-cd5c-91a06898c819",
        "colab": {
          "base_uri": "https://localhost:8080/",
          "height": 129
        }
      },
      "execution_count": 2,
      "outputs": [
        {
          "output_type": "display_data",
          "data": {
            "text/html": [
              "<table class=\"dataframe\">\n",
              "<caption>A matrix: 2 × 6 of type dbl</caption>\n",
              "<thead>\n",
              "\t<tr><th></th><th scope=col>used</th><th scope=col>(Mb)</th><th scope=col>gc trigger</th><th scope=col>(Mb)</th><th scope=col>max used</th><th scope=col>(Mb)</th></tr>\n",
              "</thead>\n",
              "<tbody>\n",
              "\t<tr><th scope=row>Ncells</th><td> 701770</td><td>37.5</td><td>1454457</td><td>77.7</td><td>1454457</td><td>77.7</td></tr>\n",
              "\t<tr><th scope=row>Vcells</th><td>1303654</td><td>10.0</td><td>8388608</td><td>64.0</td><td>5503454</td><td>42.0</td></tr>\n",
              "</tbody>\n",
              "</table>\n"
            ],
            "text/markdown": "\nA matrix: 2 × 6 of type dbl\n\n| <!--/--> | used | (Mb) | gc trigger | (Mb) | max used | (Mb) |\n|---|---|---|---|---|---|---|\n| Ncells |  701770 | 37.5 | 1454457 | 77.7 | 1454457 | 77.7 |\n| Vcells | 1303654 | 10.0 | 8388608 | 64.0 | 5503454 | 42.0 |\n\n",
            "text/latex": "A matrix: 2 × 6 of type dbl\n\\begin{tabular}{r|llllll}\n  & used & (Mb) & gc trigger & (Mb) & max used & (Mb)\\\\\n\\hline\n\tNcells &  701770 & 37.5 & 1454457 & 77.7 & 1454457 & 77.7\\\\\n\tVcells & 1303654 & 10.0 & 8388608 & 64.0 & 5503454 & 42.0\\\\\n\\end{tabular}\n",
            "text/plain": [
              "       used    (Mb) gc trigger (Mb) max used (Mb)\n",
              "Ncells  701770 37.5 1454457    77.7 1454457  77.7\n",
              "Vcells 1303654 10.0 8388608    64.0 5503454  42.0"
            ]
          },
          "metadata": {}
        }
      ]
    },
    {
      "cell_type": "code",
      "source": [
        "id  <- \"1c1ZlJ2szjDRPwzKSvM2pWWb7N4a-ltYz\"\n",
        "url <- sprintf(\"https://docs.google.com/uc?id=%s&export=download\", id)\n",
        "\n",
        "df <- read.table(\n",
        "  url,\n",
        "  header = TRUE,\n",
        "  sep = \";\",                 # espacios/tabs como separadores\n",
        "  fill = TRUE,              # completa filas cortas\n",
        "  comment.char = \"\",        # no trate nada como comentario\n",
        "  blank.lines.skip = TRUE,  # salta líneas en blanco\n",
        "  strip.white = TRUE,       # limpia espacios extra\n",
        "  col.names = c(\"cp\",\"maxdepth\",\"minsplit\",\"minbucket\",\"ganancia_test\")\n",
        ")\n",
        "\n",
        "\n",
        "library(dplyr)\n",
        "\n",
        "df_ordenado <- df %>%\n",
        "  arrange(desc(ganancia_test))\n",
        "\n",
        "df_ordenado\n"
      ],
      "metadata": {
        "id": "IQg5p_zALW4A",
        "outputId": "4add7fda-3ab0-4d89-9ada-e0e93b1ab907",
        "colab": {
          "base_uri": "https://localhost:8080/",
          "height": 1000
        }
      },
      "execution_count": 3,
      "outputs": [
        {
          "output_type": "stream",
          "name": "stderr",
          "text": [
            "\n",
            "Attaching package: ‘dplyr’\n",
            "\n",
            "\n",
            "The following objects are masked from ‘package:data.table’:\n",
            "\n",
            "    between, first, last\n",
            "\n",
            "\n",
            "The following objects are masked from ‘package:stats’:\n",
            "\n",
            "    filter, lag\n",
            "\n",
            "\n",
            "The following objects are masked from ‘package:base’:\n",
            "\n",
            "    intersect, setdiff, setequal, union\n",
            "\n",
            "\n"
          ]
        },
        {
          "output_type": "display_data",
          "data": {
            "text/html": [
              "<table class=\"dataframe\">\n",
              "<caption>A data.frame: 471 × 5</caption>\n",
              "<thead>\n",
              "\t<tr><th scope=col>cp</th><th scope=col>maxdepth</th><th scope=col>minsplit</th><th scope=col>minbucket</th><th scope=col>ganancia_test</th></tr>\n",
              "\t<tr><th scope=col>&lt;dbl&gt;</th><th scope=col>&lt;int&gt;</th><th scope=col>&lt;int&gt;</th><th scope=col>&lt;int&gt;</th><th scope=col>&lt;dbl&gt;</th></tr>\n",
              "</thead>\n",
              "<tbody>\n",
              "\t<tr><td>-1.0</td><td>16</td><td>1000</td><td> 5</td><td>53280000</td></tr>\n",
              "\t<tr><td>-0.5</td><td>16</td><td>1000</td><td> 5</td><td>53280000</td></tr>\n",
              "\t<tr><td>-0.1</td><td>16</td><td>1000</td><td> 5</td><td>53280000</td></tr>\n",
              "\t<tr><td>-1.0</td><td>12</td><td>1000</td><td> 5</td><td>52900000</td></tr>\n",
              "\t<tr><td>-0.5</td><td>12</td><td>1000</td><td> 5</td><td>52900000</td></tr>\n",
              "\t<tr><td>-0.1</td><td>12</td><td>1000</td><td> 5</td><td>52900000</td></tr>\n",
              "\t<tr><td>-1.0</td><td>12</td><td>1000</td><td>10</td><td>52250000</td></tr>\n",
              "\t<tr><td>-0.5</td><td>12</td><td>1000</td><td>10</td><td>52250000</td></tr>\n",
              "\t<tr><td>-1.0</td><td> 8</td><td> 800</td><td>21</td><td>52240000</td></tr>\n",
              "\t<tr><td>-1.0</td><td> 8</td><td> 850</td><td>21</td><td>52240000</td></tr>\n",
              "\t<tr><td>-1.0</td><td> 8</td><td> 900</td><td>21</td><td>52240000</td></tr>\n",
              "\t<tr><td>-1.0</td><td> 8</td><td> 800</td><td>23</td><td>52110000</td></tr>\n",
              "\t<tr><td>-1.0</td><td> 8</td><td> 850</td><td>23</td><td>52110000</td></tr>\n",
              "\t<tr><td>-1.0</td><td> 8</td><td> 900</td><td>23</td><td>52110000</td></tr>\n",
              "\t<tr><td>-1.0</td><td> 8</td><td> 800</td><td>24</td><td>52070000</td></tr>\n",
              "\t<tr><td>-1.0</td><td> 8</td><td> 800</td><td>25</td><td>52070000</td></tr>\n",
              "\t<tr><td>-1.0</td><td> 8</td><td> 800</td><td>26</td><td>52070000</td></tr>\n",
              "\t<tr><td>-1.0</td><td> 8</td><td> 850</td><td>24</td><td>52070000</td></tr>\n",
              "\t<tr><td>-1.0</td><td> 8</td><td> 850</td><td>25</td><td>52070000</td></tr>\n",
              "\t<tr><td>-1.0</td><td> 8</td><td> 850</td><td>26</td><td>52070000</td></tr>\n",
              "\t<tr><td>-1.0</td><td> 8</td><td> 900</td><td>24</td><td>52070000</td></tr>\n",
              "\t<tr><td>-1.0</td><td> 8</td><td> 900</td><td>25</td><td>52070000</td></tr>\n",
              "\t<tr><td>-1.0</td><td> 8</td><td> 900</td><td>26</td><td>52070000</td></tr>\n",
              "\t<tr><td>-1.0</td><td> 8</td><td>1000</td><td>21</td><td>52050000</td></tr>\n",
              "\t<tr><td>-1.0</td><td> 8</td><td> 750</td><td>21</td><td>52000000</td></tr>\n",
              "\t<tr><td>-1.0</td><td> 8</td><td> 775</td><td>21</td><td>52000000</td></tr>\n",
              "\t<tr><td>-1.0</td><td> 8</td><td>1000</td><td>23</td><td>51920000</td></tr>\n",
              "\t<tr><td>-1.0</td><td> 8</td><td>1000</td><td>24</td><td>51880000</td></tr>\n",
              "\t<tr><td>-1.0</td><td> 8</td><td>1000</td><td>25</td><td>51880000</td></tr>\n",
              "\t<tr><td>-1.0</td><td> 8</td><td>1000</td><td>26</td><td>51880000</td></tr>\n",
              "\t<tr><td>⋮</td><td>⋮</td><td>⋮</td><td>⋮</td><td>⋮</td></tr>\n",
              "\t<tr><td>-0.5</td><td>14</td><td> 50</td><td> 3</td><td>39390000</td></tr>\n",
              "\t<tr><td>-1.0</td><td>12</td><td> 20</td><td>30</td><td>39210000</td></tr>\n",
              "\t<tr><td>-0.5</td><td>12</td><td> 20</td><td>30</td><td>39210000</td></tr>\n",
              "\t<tr><td>-0.5</td><td>12</td><td> 20</td><td> 7</td><td>39000000</td></tr>\n",
              "\t<tr><td>-0.5</td><td>14</td><td> 50</td><td> 7</td><td>38800000</td></tr>\n",
              "\t<tr><td>-0.5</td><td>14</td><td> 50</td><td> 5</td><td>38640000</td></tr>\n",
              "\t<tr><td>-1.0</td><td>12</td><td>100</td><td>50</td><td>38200000</td></tr>\n",
              "\t<tr><td>-0.5</td><td>12</td><td>100</td><td>50</td><td>38200000</td></tr>\n",
              "\t<tr><td>-0.1</td><td>12</td><td>100</td><td>50</td><td>38200000</td></tr>\n",
              "\t<tr><td>-0.5</td><td>10</td><td> 10</td><td> 5</td><td>37670000</td></tr>\n",
              "\t<tr><td>-0.5</td><td>10</td><td> 10</td><td> 3</td><td>37620000</td></tr>\n",
              "\t<tr><td>-0.5</td><td>12</td><td> 20</td><td> 3</td><td>37530000</td></tr>\n",
              "\t<tr><td>-0.5</td><td>12</td><td> 20</td><td> 5</td><td>37060000</td></tr>\n",
              "\t<tr><td>-1.0</td><td>16</td><td>100</td><td>50</td><td>35660000</td></tr>\n",
              "\t<tr><td>-0.5</td><td>16</td><td>100</td><td>50</td><td>35660000</td></tr>\n",
              "\t<tr><td>-0.1</td><td>16</td><td>100</td><td>50</td><td>35660000</td></tr>\n",
              "\t<tr><td>-0.5</td><td>12</td><td> 10</td><td> 7</td><td>35500000</td></tr>\n",
              "\t<tr><td>-1.0</td><td>16</td><td>100</td><td>25</td><td>35400000</td></tr>\n",
              "\t<tr><td>-0.5</td><td>16</td><td>100</td><td>25</td><td>35400000</td></tr>\n",
              "\t<tr><td>-0.1</td><td>16</td><td>100</td><td>25</td><td>35400000</td></tr>\n",
              "\t<tr><td>-0.5</td><td>14</td><td> 20</td><td> 7</td><td>34930000</td></tr>\n",
              "\t<tr><td>-1.0</td><td>20</td><td> 10</td><td>50</td><td>34150000</td></tr>\n",
              "\t<tr><td>-0.5</td><td>12</td><td> 10</td><td> 3</td><td>33940000</td></tr>\n",
              "\t<tr><td>-0.5</td><td>12</td><td> 10</td><td> 5</td><td>32980000</td></tr>\n",
              "\t<tr><td>-0.5</td><td>14</td><td> 20</td><td> 3</td><td>31540000</td></tr>\n",
              "\t<tr><td>-0.5</td><td>14</td><td> 10</td><td> 7</td><td>31380000</td></tr>\n",
              "\t<tr><td>-0.5</td><td>14</td><td> 20</td><td> 5</td><td>30480000</td></tr>\n",
              "\t<tr><td>-0.5</td><td>14</td><td> 10</td><td> 3</td><td>26870000</td></tr>\n",
              "\t<tr><td>-0.5</td><td>14</td><td> 10</td><td> 5</td><td>25060000</td></tr>\n",
              "\t<tr><td>-1.0</td><td>20</td><td> 10</td><td> 5</td><td>24120000</td></tr>\n",
              "</tbody>\n",
              "</table>\n"
            ],
            "text/markdown": "\nA data.frame: 471 × 5\n\n| cp &lt;dbl&gt; | maxdepth &lt;int&gt; | minsplit &lt;int&gt; | minbucket &lt;int&gt; | ganancia_test &lt;dbl&gt; |\n|---|---|---|---|---|\n| -1.0 | 16 | 1000 |  5 | 53280000 |\n| -0.5 | 16 | 1000 |  5 | 53280000 |\n| -0.1 | 16 | 1000 |  5 | 53280000 |\n| -1.0 | 12 | 1000 |  5 | 52900000 |\n| -0.5 | 12 | 1000 |  5 | 52900000 |\n| -0.1 | 12 | 1000 |  5 | 52900000 |\n| -1.0 | 12 | 1000 | 10 | 52250000 |\n| -0.5 | 12 | 1000 | 10 | 52250000 |\n| -1.0 |  8 |  800 | 21 | 52240000 |\n| -1.0 |  8 |  850 | 21 | 52240000 |\n| -1.0 |  8 |  900 | 21 | 52240000 |\n| -1.0 |  8 |  800 | 23 | 52110000 |\n| -1.0 |  8 |  850 | 23 | 52110000 |\n| -1.0 |  8 |  900 | 23 | 52110000 |\n| -1.0 |  8 |  800 | 24 | 52070000 |\n| -1.0 |  8 |  800 | 25 | 52070000 |\n| -1.0 |  8 |  800 | 26 | 52070000 |\n| -1.0 |  8 |  850 | 24 | 52070000 |\n| -1.0 |  8 |  850 | 25 | 52070000 |\n| -1.0 |  8 |  850 | 26 | 52070000 |\n| -1.0 |  8 |  900 | 24 | 52070000 |\n| -1.0 |  8 |  900 | 25 | 52070000 |\n| -1.0 |  8 |  900 | 26 | 52070000 |\n| -1.0 |  8 | 1000 | 21 | 52050000 |\n| -1.0 |  8 |  750 | 21 | 52000000 |\n| -1.0 |  8 |  775 | 21 | 52000000 |\n| -1.0 |  8 | 1000 | 23 | 51920000 |\n| -1.0 |  8 | 1000 | 24 | 51880000 |\n| -1.0 |  8 | 1000 | 25 | 51880000 |\n| -1.0 |  8 | 1000 | 26 | 51880000 |\n| ⋮ | ⋮ | ⋮ | ⋮ | ⋮ |\n| -0.5 | 14 |  50 |  3 | 39390000 |\n| -1.0 | 12 |  20 | 30 | 39210000 |\n| -0.5 | 12 |  20 | 30 | 39210000 |\n| -0.5 | 12 |  20 |  7 | 39000000 |\n| -0.5 | 14 |  50 |  7 | 38800000 |\n| -0.5 | 14 |  50 |  5 | 38640000 |\n| -1.0 | 12 | 100 | 50 | 38200000 |\n| -0.5 | 12 | 100 | 50 | 38200000 |\n| -0.1 | 12 | 100 | 50 | 38200000 |\n| -0.5 | 10 |  10 |  5 | 37670000 |\n| -0.5 | 10 |  10 |  3 | 37620000 |\n| -0.5 | 12 |  20 |  3 | 37530000 |\n| -0.5 | 12 |  20 |  5 | 37060000 |\n| -1.0 | 16 | 100 | 50 | 35660000 |\n| -0.5 | 16 | 100 | 50 | 35660000 |\n| -0.1 | 16 | 100 | 50 | 35660000 |\n| -0.5 | 12 |  10 |  7 | 35500000 |\n| -1.0 | 16 | 100 | 25 | 35400000 |\n| -0.5 | 16 | 100 | 25 | 35400000 |\n| -0.1 | 16 | 100 | 25 | 35400000 |\n| -0.5 | 14 |  20 |  7 | 34930000 |\n| -1.0 | 20 |  10 | 50 | 34150000 |\n| -0.5 | 12 |  10 |  3 | 33940000 |\n| -0.5 | 12 |  10 |  5 | 32980000 |\n| -0.5 | 14 |  20 |  3 | 31540000 |\n| -0.5 | 14 |  10 |  7 | 31380000 |\n| -0.5 | 14 |  20 |  5 | 30480000 |\n| -0.5 | 14 |  10 |  3 | 26870000 |\n| -0.5 | 14 |  10 |  5 | 25060000 |\n| -1.0 | 20 |  10 |  5 | 24120000 |\n\n",
            "text/latex": "A data.frame: 471 × 5\n\\begin{tabular}{lllll}\n cp & maxdepth & minsplit & minbucket & ganancia\\_test\\\\\n <dbl> & <int> & <int> & <int> & <dbl>\\\\\n\\hline\n\t -1.0 & 16 & 1000 &  5 & 53280000\\\\\n\t -0.5 & 16 & 1000 &  5 & 53280000\\\\\n\t -0.1 & 16 & 1000 &  5 & 53280000\\\\\n\t -1.0 & 12 & 1000 &  5 & 52900000\\\\\n\t -0.5 & 12 & 1000 &  5 & 52900000\\\\\n\t -0.1 & 12 & 1000 &  5 & 52900000\\\\\n\t -1.0 & 12 & 1000 & 10 & 52250000\\\\\n\t -0.5 & 12 & 1000 & 10 & 52250000\\\\\n\t -1.0 &  8 &  800 & 21 & 52240000\\\\\n\t -1.0 &  8 &  850 & 21 & 52240000\\\\\n\t -1.0 &  8 &  900 & 21 & 52240000\\\\\n\t -1.0 &  8 &  800 & 23 & 52110000\\\\\n\t -1.0 &  8 &  850 & 23 & 52110000\\\\\n\t -1.0 &  8 &  900 & 23 & 52110000\\\\\n\t -1.0 &  8 &  800 & 24 & 52070000\\\\\n\t -1.0 &  8 &  800 & 25 & 52070000\\\\\n\t -1.0 &  8 &  800 & 26 & 52070000\\\\\n\t -1.0 &  8 &  850 & 24 & 52070000\\\\\n\t -1.0 &  8 &  850 & 25 & 52070000\\\\\n\t -1.0 &  8 &  850 & 26 & 52070000\\\\\n\t -1.0 &  8 &  900 & 24 & 52070000\\\\\n\t -1.0 &  8 &  900 & 25 & 52070000\\\\\n\t -1.0 &  8 &  900 & 26 & 52070000\\\\\n\t -1.0 &  8 & 1000 & 21 & 52050000\\\\\n\t -1.0 &  8 &  750 & 21 & 52000000\\\\\n\t -1.0 &  8 &  775 & 21 & 52000000\\\\\n\t -1.0 &  8 & 1000 & 23 & 51920000\\\\\n\t -1.0 &  8 & 1000 & 24 & 51880000\\\\\n\t -1.0 &  8 & 1000 & 25 & 51880000\\\\\n\t -1.0 &  8 & 1000 & 26 & 51880000\\\\\n\t ⋮ & ⋮ & ⋮ & ⋮ & ⋮\\\\\n\t -0.5 & 14 &  50 &  3 & 39390000\\\\\n\t -1.0 & 12 &  20 & 30 & 39210000\\\\\n\t -0.5 & 12 &  20 & 30 & 39210000\\\\\n\t -0.5 & 12 &  20 &  7 & 39000000\\\\\n\t -0.5 & 14 &  50 &  7 & 38800000\\\\\n\t -0.5 & 14 &  50 &  5 & 38640000\\\\\n\t -1.0 & 12 & 100 & 50 & 38200000\\\\\n\t -0.5 & 12 & 100 & 50 & 38200000\\\\\n\t -0.1 & 12 & 100 & 50 & 38200000\\\\\n\t -0.5 & 10 &  10 &  5 & 37670000\\\\\n\t -0.5 & 10 &  10 &  3 & 37620000\\\\\n\t -0.5 & 12 &  20 &  3 & 37530000\\\\\n\t -0.5 & 12 &  20 &  5 & 37060000\\\\\n\t -1.0 & 16 & 100 & 50 & 35660000\\\\\n\t -0.5 & 16 & 100 & 50 & 35660000\\\\\n\t -0.1 & 16 & 100 & 50 & 35660000\\\\\n\t -0.5 & 12 &  10 &  7 & 35500000\\\\\n\t -1.0 & 16 & 100 & 25 & 35400000\\\\\n\t -0.5 & 16 & 100 & 25 & 35400000\\\\\n\t -0.1 & 16 & 100 & 25 & 35400000\\\\\n\t -0.5 & 14 &  20 &  7 & 34930000\\\\\n\t -1.0 & 20 &  10 & 50 & 34150000\\\\\n\t -0.5 & 12 &  10 &  3 & 33940000\\\\\n\t -0.5 & 12 &  10 &  5 & 32980000\\\\\n\t -0.5 & 14 &  20 &  3 & 31540000\\\\\n\t -0.5 & 14 &  10 &  7 & 31380000\\\\\n\t -0.5 & 14 &  20 &  5 & 30480000\\\\\n\t -0.5 & 14 &  10 &  3 & 26870000\\\\\n\t -0.5 & 14 &  10 &  5 & 25060000\\\\\n\t -1.0 & 20 &  10 &  5 & 24120000\\\\\n\\end{tabular}\n",
            "text/plain": [
              "    cp   maxdepth minsplit minbucket ganancia_test\n",
              "1   -1.0 16       1000      5        53280000     \n",
              "2   -0.5 16       1000      5        53280000     \n",
              "3   -0.1 16       1000      5        53280000     \n",
              "4   -1.0 12       1000      5        52900000     \n",
              "5   -0.5 12       1000      5        52900000     \n",
              "6   -0.1 12       1000      5        52900000     \n",
              "7   -1.0 12       1000     10        52250000     \n",
              "8   -0.5 12       1000     10        52250000     \n",
              "9   -1.0  8        800     21        52240000     \n",
              "10  -1.0  8        850     21        52240000     \n",
              "11  -1.0  8        900     21        52240000     \n",
              "12  -1.0  8        800     23        52110000     \n",
              "13  -1.0  8        850     23        52110000     \n",
              "14  -1.0  8        900     23        52110000     \n",
              "15  -1.0  8        800     24        52070000     \n",
              "16  -1.0  8        800     25        52070000     \n",
              "17  -1.0  8        800     26        52070000     \n",
              "18  -1.0  8        850     24        52070000     \n",
              "19  -1.0  8        850     25        52070000     \n",
              "20  -1.0  8        850     26        52070000     \n",
              "21  -1.0  8        900     24        52070000     \n",
              "22  -1.0  8        900     25        52070000     \n",
              "23  -1.0  8        900     26        52070000     \n",
              "24  -1.0  8       1000     21        52050000     \n",
              "25  -1.0  8        750     21        52000000     \n",
              "26  -1.0  8        775     21        52000000     \n",
              "27  -1.0  8       1000     23        51920000     \n",
              "28  -1.0  8       1000     24        51880000     \n",
              "29  -1.0  8       1000     25        51880000     \n",
              "30  -1.0  8       1000     26        51880000     \n",
              "⋮   ⋮    ⋮        ⋮        ⋮         ⋮            \n",
              "442 -0.5 14        50       3        39390000     \n",
              "443 -1.0 12        20      30        39210000     \n",
              "444 -0.5 12        20      30        39210000     \n",
              "445 -0.5 12        20       7        39000000     \n",
              "446 -0.5 14        50       7        38800000     \n",
              "447 -0.5 14        50       5        38640000     \n",
              "448 -1.0 12       100      50        38200000     \n",
              "449 -0.5 12       100      50        38200000     \n",
              "450 -0.1 12       100      50        38200000     \n",
              "451 -0.5 10        10       5        37670000     \n",
              "452 -0.5 10        10       3        37620000     \n",
              "453 -0.5 12        20       3        37530000     \n",
              "454 -0.5 12        20       5        37060000     \n",
              "455 -1.0 16       100      50        35660000     \n",
              "456 -0.5 16       100      50        35660000     \n",
              "457 -0.1 16       100      50        35660000     \n",
              "458 -0.5 12        10       7        35500000     \n",
              "459 -1.0 16       100      25        35400000     \n",
              "460 -0.5 16       100      25        35400000     \n",
              "461 -0.1 16       100      25        35400000     \n",
              "462 -0.5 14        20       7        34930000     \n",
              "463 -1.0 20        10      50        34150000     \n",
              "464 -0.5 12        10       3        33940000     \n",
              "465 -0.5 12        10       5        32980000     \n",
              "466 -0.5 14        20       3        31540000     \n",
              "467 -0.5 14        10       7        31380000     \n",
              "468 -0.5 14        20       5        30480000     \n",
              "469 -0.5 14        10       3        26870000     \n",
              "470 -0.5 14        10       5        25060000     \n",
              "471 -1.0 20        10       5        24120000     "
            ]
          },
          "metadata": {}
        }
      ]
    },
    {
      "cell_type": "code",
      "source": [
        "param_final <- list (\n",
        "  \"cp\"= -1, # complejidad minima\n",
        "  \"minsplit\"= 50, # minima cantidad de regs en un nodo para hacer el split\n",
        "  \"minbucket\"= 25, # minima cantidad de regs en una hoja\n",
        "  \"maxdepth\"= 2 # profundidad máxima del arbol\n",
        ")"
      ],
      "metadata": {
        "id": "OaCUo3gYXgYV"
      },
      "execution_count": 4,
      "outputs": []
    },
    {
      "cell_type": "markdown",
      "source": [
        "### Training"
      ],
      "metadata": {
        "id": "0PBsV__gXqJq"
      }
    },
    {
      "cell_type": "code",
      "source": [
        "# genero el modelo,  aqui se construye el arbol\n",
        "# quiero predecir clase_ternaria a partir de el resto de las variables\n",
        "modelo_final <- rpart(\n",
        "    formula= \"ganancia_test ~ .\",\n",
        "    data= df, # los datos donde voy a entrenar\n",
        "    xval=0,\n",
        "    control= param_final\n",
        ")\n"
      ],
      "metadata": {
        "id": "SZz1lLIyke0U"
      },
      "execution_count": 5,
      "outputs": []
    },
    {
      "cell_type": "markdown",
      "source": [
        "#### Impresion del modelo"
      ],
      "metadata": {
        "id": "nsZbb_9-X9EZ"
      }
    },
    {
      "cell_type": "code",
      "source": [
        "# grafico el arbol\n",
        "options(repr.plot.width=30, repr.plot.height=20 )\n",
        "\n",
        "prp(modelo_final,\n",
        "    extra= 101,\n",
        "    digits= -5,\n",
        "    branch= 1,\n",
        "    type= 4,\n",
        "    varlen= 0,\n",
        "    faclen= 0,\n",
        "    cex=1.5\n",
        ")"
      ],
      "metadata": {
        "id": "mAVWy614X6hJ",
        "outputId": "a5969a1b-cf4f-40e6-a92b-71d48bdf53c4",
        "colab": {
          "base_uri": "https://localhost:8080/",
          "height": 1000
        }
      },
      "execution_count": 6,
      "outputs": [
        {
          "output_type": "display_data",
          "data": {
            "text/plain": [
              "plot without title"
            ],
            "image/png": "[encoded data removed]"
          },
          "metadata": {
            "image/png": {
              "width": 1800,
              "height": 1200
            }
          }
        }
      ]
    },
    {
      "cell_type": "markdown",
      "source": [
        "## Dataset Future"
      ],
      "metadata": {
        "id": "xN2ig210f6-N"
      }
    },
    {
      "cell_type": "markdown",
      "source": [
        "Aqui se define el dataset donde quiero hacer la prediccion final, generalmente esto viene dado por el problema y es trivial su eleccion"
      ],
      "metadata": {
        "id": "ZJioDs4Jf-lB"
      }
    },
    {
      "cell_type": "code",
      "source": [
        "dfuture <- dataset[foto_mes == 202109] # defino donde voy a aplicar el modelo"
      ],
      "metadata": {
        "id": "h7JErrOagHbH"
      },
      "execution_count": null,
      "outputs": []
    },
    {
      "cell_type": "markdown",
      "source": [
        "### Scoring"
      ],
      "metadata": {
        "id": "spyjXPVYj6Nk"
      }
    },
    {
      "cell_type": "markdown",
      "source": [
        "Aplico el modelo_final a los datos del futuro"
      ],
      "metadata": {
        "id": "CNMKS5m6gLX-"
      }
    },
    {
      "cell_type": "code",
      "source": [
        "# aplico el modelo a los datos nuevos\n",
        "prediccion <- predict(\n",
        "    object= modelo_final,\n",
        "    newdata= dfuture,\n",
        "    type= \"prob\"\n",
        ")\n",
        "\n",
        "# veo que  quedó en predccion\n",
        "# es una matriz, una linea por registro del dataset dfuture\n",
        "# una columna para cada uno de los valores de la clase\n",
        "prediccion"
      ],
      "metadata": {
        "id": "2iS68RYaZhLJ",
        "outputId": "e23d2e13-4597-4df6-b20f-d54617337455",
        "colab": {
          "base_uri": "https://localhost:8080/",
          "height": 1000
        }
      },
      "execution_count": null,
      "outputs": [
        {
          "output_type": "display_data",
          "data": {
            "text/html": [
              "<table class=\"dataframe\">\n",
              "<caption>A matrix: 165093 × 3 of type dbl</caption>\n",
              "<thead>\n",
              "\t<tr><th></th><th scope=col>BAJA+1</th><th scope=col>BAJA+2</th><th scope=col>CONTINUA</th></tr>\n",
              "</thead>\n",
              "<tbody>\n",
              "\t<tr><th scope=row>1</th><td>0.0001215916</td><td>0.000334377</td><td>0.9995440</td></tr>\n",
              "\t<tr><th scope=row>2</th><td>0.0001215916</td><td>0.000334377</td><td>0.9995440</td></tr>\n",
              "\t<tr><th scope=row>3</th><td>0.0143329658</td><td>0.014884234</td><td>0.9707828</td></tr>\n",
              "\t<tr><th scope=row>4</th><td>0.0007248231</td><td>0.001449646</td><td>0.9978255</td></tr>\n",
              "\t<tr><th scope=row>5</th><td>0.0007248231</td><td>0.001449646</td><td>0.9978255</td></tr>\n",
              "\t<tr><th scope=row>6</th><td>0.0001215916</td><td>0.000334377</td><td>0.9995440</td></tr>\n",
              "\t<tr><th scope=row>7</th><td>0.0001215916</td><td>0.000334377</td><td>0.9995440</td></tr>\n",
              "\t<tr><th scope=row>8</th><td>0.0007248231</td><td>0.001449646</td><td>0.9978255</td></tr>\n",
              "\t<tr><th scope=row>9</th><td>0.0007248231</td><td>0.001449646</td><td>0.9978255</td></tr>\n",
              "\t<tr><th scope=row>10</th><td>0.0030386740</td><td>0.003867403</td><td>0.9930939</td></tr>\n",
              "\t<tr><th scope=row>11</th><td>0.0001215916</td><td>0.000334377</td><td>0.9995440</td></tr>\n",
              "\t<tr><th scope=row>12</th><td>0.0016959932</td><td>0.002755989</td><td>0.9955480</td></tr>\n",
              "\t<tr><th scope=row>13</th><td>0.0007248231</td><td>0.001449646</td><td>0.9978255</td></tr>\n",
              "\t<tr><th scope=row>14</th><td>0.0007248231</td><td>0.001449646</td><td>0.9978255</td></tr>\n",
              "\t<tr><th scope=row>15</th><td>0.0018454441</td><td>0.002998847</td><td>0.9951557</td></tr>\n",
              "\t<tr><th scope=row>16</th><td>0.0018454441</td><td>0.002998847</td><td>0.9951557</td></tr>\n",
              "\t<tr><th scope=row>17</th><td>0.0001215916</td><td>0.000334377</td><td>0.9995440</td></tr>\n",
              "\t<tr><th scope=row>18</th><td>0.0007248231</td><td>0.001449646</td><td>0.9978255</td></tr>\n",
              "\t<tr><th scope=row>19</th><td>0.0001215916</td><td>0.000334377</td><td>0.9995440</td></tr>\n",
              "\t<tr><th scope=row>20</th><td>0.0001215916</td><td>0.000334377</td><td>0.9995440</td></tr>\n",
              "\t<tr><th scope=row>21</th><td>0.0007248231</td><td>0.001449646</td><td>0.9978255</td></tr>\n",
              "\t<tr><th scope=row>22</th><td>0.0031479538</td><td>0.010493179</td><td>0.9863589</td></tr>\n",
              "\t<tr><th scope=row>23</th><td>0.0001215916</td><td>0.000334377</td><td>0.9995440</td></tr>\n",
              "\t<tr><th scope=row>24</th><td>0.0016332591</td><td>0.001781737</td><td>0.9965850</td></tr>\n",
              "\t<tr><th scope=row>25</th><td>0.0016332591</td><td>0.001781737</td><td>0.9965850</td></tr>\n",
              "\t<tr><th scope=row>26</th><td>0.0007248231</td><td>0.001449646</td><td>0.9978255</td></tr>\n",
              "\t<tr><th scope=row>27</th><td>0.0007248231</td><td>0.001449646</td><td>0.9978255</td></tr>\n",
              "\t<tr><th scope=row>28</th><td>0.0001215916</td><td>0.000334377</td><td>0.9995440</td></tr>\n",
              "\t<tr><th scope=row>29</th><td>0.0016332591</td><td>0.001781737</td><td>0.9965850</td></tr>\n",
              "\t<tr><th scope=row>30</th><td>0.0001215916</td><td>0.000334377</td><td>0.9995440</td></tr>\n",
              "\t<tr><th scope=row>⋮</th><td>⋮</td><td>⋮</td><td>⋮</td></tr>\n",
              "\t<tr><th scope=row>165064</th><td>0.0087976540</td><td>0.009775171</td><td>0.9814272</td></tr>\n",
              "\t<tr><th scope=row>165065</th><td>0.0087976540</td><td>0.009775171</td><td>0.9814272</td></tr>\n",
              "\t<tr><th scope=row>165066</th><td>0.0087976540</td><td>0.009775171</td><td>0.9814272</td></tr>\n",
              "\t<tr><th scope=row>165067</th><td>0.0087976540</td><td>0.009775171</td><td>0.9814272</td></tr>\n",
              "\t<tr><th scope=row>165068</th><td>0.0087976540</td><td>0.009775171</td><td>0.9814272</td></tr>\n",
              "\t<tr><th scope=row>165069</th><td>0.0087976540</td><td>0.009775171</td><td>0.9814272</td></tr>\n",
              "\t<tr><th scope=row>165070</th><td>0.0087976540</td><td>0.009775171</td><td>0.9814272</td></tr>\n",
              "\t<tr><th scope=row>165071</th><td>0.0065913371</td><td>0.007532957</td><td>0.9858757</td></tr>\n",
              "\t<tr><th scope=row>165072</th><td>0.0087976540</td><td>0.009775171</td><td>0.9814272</td></tr>\n",
              "\t<tr><th scope=row>165073</th><td>0.0087976540</td><td>0.009775171</td><td>0.9814272</td></tr>\n",
              "\t<tr><th scope=row>165074</th><td>0.0087976540</td><td>0.009775171</td><td>0.9814272</td></tr>\n",
              "\t<tr><th scope=row>165075</th><td>0.0087976540</td><td>0.009775171</td><td>0.9814272</td></tr>\n",
              "\t<tr><th scope=row>165076</th><td>0.0000000000</td><td>0.015151515</td><td>0.9848485</td></tr>\n",
              "\t<tr><th scope=row>165077</th><td>0.0176366843</td><td>0.026455026</td><td>0.9559083</td></tr>\n",
              "\t<tr><th scope=row>165078</th><td>0.0087976540</td><td>0.009775171</td><td>0.9814272</td></tr>\n",
              "\t<tr><th scope=row>165079</th><td>0.0087976540</td><td>0.009775171</td><td>0.9814272</td></tr>\n",
              "\t<tr><th scope=row>165080</th><td>0.0087976540</td><td>0.009775171</td><td>0.9814272</td></tr>\n",
              "\t<tr><th scope=row>165081</th><td>0.0087976540</td><td>0.009775171</td><td>0.9814272</td></tr>\n",
              "\t<tr><th scope=row>165082</th><td>0.0087976540</td><td>0.009775171</td><td>0.9814272</td></tr>\n",
              "\t<tr><th scope=row>165083</th><td>0.0087976540</td><td>0.009775171</td><td>0.9814272</td></tr>\n",
              "\t<tr><th scope=row>165084</th><td>0.0005866823</td><td>0.002200059</td><td>0.9972133</td></tr>\n",
              "\t<tr><th scope=row>165085</th><td>0.0087976540</td><td>0.009775171</td><td>0.9814272</td></tr>\n",
              "\t<tr><th scope=row>165086</th><td>0.0087976540</td><td>0.009775171</td><td>0.9814272</td></tr>\n",
              "\t<tr><th scope=row>165087</th><td>0.0087976540</td><td>0.009775171</td><td>0.9814272</td></tr>\n",
              "\t<tr><th scope=row>165088</th><td>0.0087976540</td><td>0.009775171</td><td>0.9814272</td></tr>\n",
              "\t<tr><th scope=row>165089</th><td>0.0065913371</td><td>0.007532957</td><td>0.9858757</td></tr>\n",
              "\t<tr><th scope=row>165090</th><td>0.0000000000</td><td>0.000000000</td><td>1.0000000</td></tr>\n",
              "\t<tr><th scope=row>165091</th><td>0.0087976540</td><td>0.009775171</td><td>0.9814272</td></tr>\n",
              "\t<tr><th scope=row>165092</th><td>0.0087976540</td><td>0.009775171</td><td>0.9814272</td></tr>\n",
              "\t<tr><th scope=row>165093</th><td>0.0087976540</td><td>0.009775171</td><td>0.9814272</td></tr>\n",
              "</tbody>\n",
              "</table>\n"
            ],
            "text/markdown": "\nA matrix: 165093 × 3 of type dbl\n\n| <!--/--> | BAJA+1 | BAJA+2 | CONTINUA |\n|---|---|---|---|\n| 1 | 0.0001215916 | 0.000334377 | 0.9995440 |\n| 2 | 0.0001215916 | 0.000334377 | 0.9995440 |\n| 3 | 0.0143329658 | 0.014884234 | 0.9707828 |\n| 4 | 0.0007248231 | 0.001449646 | 0.9978255 |\n| 5 | 0.0007248231 | 0.001449646 | 0.9978255 |\n| 6 | 0.0001215916 | 0.000334377 | 0.9995440 |\n| 7 | 0.0001215916 | 0.000334377 | 0.9995440 |\n| 8 | 0.0007248231 | 0.001449646 | 0.9978255 |\n| 9 | 0.0007248231 | 0.001449646 | 0.9978255 |\n| 10 | 0.0030386740 | 0.003867403 | 0.9930939 |\n| 11 | 0.0001215916 | 0.000334377 | 0.9995440 |\n| 12 | 0.0016959932 | 0.002755989 | 0.9955480 |\n| 13 | 0.0007248231 | 0.001449646 | 0.9978255 |\n| 14 | 0.0007248231 | 0.001449646 | 0.9978255 |\n| 15 | 0.0018454441 | 0.002998847 | 0.9951557 |\n| 16 | 0.0018454441 | 0.002998847 | 0.9951557 |\n| 17 | 0.0001215916 | 0.000334377 | 0.9995440 |\n| 18 | 0.0007248231 | 0.001449646 | 0.9978255 |\n| 19 | 0.0001215916 | 0.000334377 | 0.9995440 |\n| 20 | 0.0001215916 | 0.000334377 | 0.9995440 |\n| 21 | 0.0007248231 | 0.001449646 | 0.9978255 |\n| 22 | 0.0031479538 | 0.010493179 | 0.9863589 |\n| 23 | 0.0001215916 | 0.000334377 | 0.9995440 |\n| 24 | 0.0016332591 | 0.001781737 | 0.9965850 |\n| 25 | 0.0016332591 | 0.001781737 | 0.9965850 |\n| 26 | 0.0007248231 | 0.001449646 | 0.9978255 |\n| 27 | 0.0007248231 | 0.001449646 | 0.9978255 |\n| 28 | 0.0001215916 | 0.000334377 | 0.9995440 |\n| 29 | 0.0016332591 | 0.001781737 | 0.9965850 |\n| 30 | 0.0001215916 | 0.000334377 | 0.9995440 |\n| ⋮ | ⋮ | ⋮ | ⋮ |\n| 165064 | 0.0087976540 | 0.009775171 | 0.9814272 |\n| 165065 | 0.0087976540 | 0.009775171 | 0.9814272 |\n| 165066 | 0.0087976540 | 0.009775171 | 0.9814272 |\n| 165067 | 0.0087976540 | 0.009775171 | 0.9814272 |\n| 165068 | 0.0087976540 | 0.009775171 | 0.9814272 |\n| 165069 | 0.0087976540 | 0.009775171 | 0.9814272 |\n| 165070 | 0.0087976540 | 0.009775171 | 0.9814272 |\n| 165071 | 0.0065913371 | 0.007532957 | 0.9858757 |\n| 165072 | 0.0087976540 | 0.009775171 | 0.9814272 |\n| 165073 | 0.0087976540 | 0.009775171 | 0.9814272 |\n| 165074 | 0.0087976540 | 0.009775171 | 0.9814272 |\n| 165075 | 0.0087976540 | 0.009775171 | 0.9814272 |\n| 165076 | 0.0000000000 | 0.015151515 | 0.9848485 |\n| 165077 | 0.0176366843 | 0.026455026 | 0.9559083 |\n| 165078 | 0.0087976540 | 0.009775171 | 0.9814272 |\n| 165079 | 0.0087976540 | 0.009775171 | 0.9814272 |\n| 165080 | 0.0087976540 | 0.009775171 | 0.9814272 |\n| 165081 | 0.0087976540 | 0.009775171 | 0.9814272 |\n| 165082 | 0.0087976540 | 0.009775171 | 0.9814272 |\n| 165083 | 0.0087976540 | 0.009775171 | 0.9814272 |\n| 165084 | 0.0005866823 | 0.002200059 | 0.9972133 |\n| 165085 | 0.0087976540 | 0.009775171 | 0.9814272 |\n| 165086 | 0.0087976540 | 0.009775171 | 0.9814272 |\n| 165087 | 0.0087976540 | 0.009775171 | 0.9814272 |\n| 165088 | 0.0087976540 | 0.009775171 | 0.9814272 |\n| 165089 | 0.0065913371 | 0.007532957 | 0.9858757 |\n| 165090 | 0.0000000000 | 0.000000000 | 1.0000000 |\n| 165091 | 0.0087976540 | 0.009775171 | 0.9814272 |\n| 165092 | 0.0087976540 | 0.009775171 | 0.9814272 |\n| 165093 | 0.0087976540 | 0.009775171 | 0.9814272 |\n\n",
            "text/latex": "A matrix: 165093 × 3 of type dbl\n\\begin{tabular}{r|lll}\n  & BAJA+1 & BAJA+2 & CONTINUA\\\\\n\\hline\n\t1 & 0.0001215916 & 0.000334377 & 0.9995440\\\\\n\t2 & 0.0001215916 & 0.000334377 & 0.9995440\\\\\n\t3 & 0.0143329658 & 0.014884234 & 0.9707828\\\\\n\t4 & 0.0007248231 & 0.001449646 & 0.9978255\\\\\n\t5 & 0.0007248231 & 0.001449646 & 0.9978255\\\\\n\t6 & 0.0001215916 & 0.000334377 & 0.9995440\\\\\n\t7 & 0.0001215916 & 0.000334377 & 0.9995440\\\\\n\t8 & 0.0007248231 & 0.001449646 & 0.9978255\\\\\n\t9 & 0.0007248231 & 0.001449646 & 0.9978255\\\\\n\t10 & 0.0030386740 & 0.003867403 & 0.9930939\\\\\n\t11 & 0.0001215916 & 0.000334377 & 0.9995440\\\\\n\t12 & 0.0016959932 & 0.002755989 & 0.9955480\\\\\n\t13 & 0.0007248231 & 0.001449646 & 0.9978255\\\\\n\t14 & 0.0007248231 & 0.001449646 & 0.9978255\\\\\n\t15 & 0.0018454441 & 0.002998847 & 0.9951557\\\\\n\t16 & 0.0018454441 & 0.002998847 & 0.9951557\\\\\n\t17 & 0.0001215916 & 0.000334377 & 0.9995440\\\\\n\t18 & 0.0007248231 & 0.001449646 & 0.9978255\\\\\n\t19 & 0.0001215916 & 0.000334377 & 0.9995440\\\\\n\t20 & 0.0001215916 & 0.000334377 & 0.9995440\\\\\n\t21 & 0.0007248231 & 0.001449646 & 0.9978255\\\\\n\t22 & 0.0031479538 & 0.010493179 & 0.9863589\\\\\n\t23 & 0.0001215916 & 0.000334377 & 0.9995440\\\\\n\t24 & 0.0016332591 & 0.001781737 & 0.9965850\\\\\n\t25 & 0.0016332591 & 0.001781737 & 0.9965850\\\\\n\t26 & 0.0007248231 & 0.001449646 & 0.9978255\\\\\n\t27 & 0.0007248231 & 0.001449646 & 0.9978255\\\\\n\t28 & 0.0001215916 & 0.000334377 & 0.9995440\\\\\n\t29 & 0.0016332591 & 0.001781737 & 0.9965850\\\\\n\t30 & 0.0001215916 & 0.000334377 & 0.9995440\\\\\n\t⋮ & ⋮ & ⋮ & ⋮\\\\\n\t165064 & 0.0087976540 & 0.009775171 & 0.9814272\\\\\n\t165065 & 0.0087976540 & 0.009775171 & 0.9814272\\\\\n\t165066 & 0.0087976540 & 0.009775171 & 0.9814272\\\\\n\t165067 & 0.0087976540 & 0.009775171 & 0.9814272\\\\\n\t165068 & 0.0087976540 & 0.009775171 & 0.9814272\\\\\n\t165069 & 0.0087976540 & 0.009775171 & 0.9814272\\\\\n\t165070 & 0.0087976540 & 0.009775171 & 0.9814272\\\\\n\t165071 & 0.0065913371 & 0.007532957 & 0.9858757\\\\\n\t165072 & 0.0087976540 & 0.009775171 & 0.9814272\\\\\n\t165073 & 0.0087976540 & 0.009775171 & 0.9814272\\\\\n\t165074 & 0.0087976540 & 0.009775171 & 0.9814272\\\\\n\t165075 & 0.0087976540 & 0.009775171 & 0.9814272\\\\\n\t165076 & 0.0000000000 & 0.015151515 & 0.9848485\\\\\n\t165077 & 0.0176366843 & 0.026455026 & 0.9559083\\\\\n\t165078 & 0.0087976540 & 0.009775171 & 0.9814272\\\\\n\t165079 & 0.0087976540 & 0.009775171 & 0.9814272\\\\\n\t165080 & 0.0087976540 & 0.009775171 & 0.9814272\\\\\n\t165081 & 0.0087976540 & 0.009775171 & 0.9814272\\\\\n\t165082 & 0.0087976540 & 0.009775171 & 0.9814272\\\\\n\t165083 & 0.0087976540 & 0.009775171 & 0.9814272\\\\\n\t165084 & 0.0005866823 & 0.002200059 & 0.9972133\\\\\n\t165085 & 0.0087976540 & 0.009775171 & 0.9814272\\\\\n\t165086 & 0.0087976540 & 0.009775171 & 0.9814272\\\\\n\t165087 & 0.0087976540 & 0.009775171 & 0.9814272\\\\\n\t165088 & 0.0087976540 & 0.009775171 & 0.9814272\\\\\n\t165089 & 0.0065913371 & 0.007532957 & 0.9858757\\\\\n\t165090 & 0.0000000000 & 0.000000000 & 1.0000000\\\\\n\t165091 & 0.0087976540 & 0.009775171 & 0.9814272\\\\\n\t165092 & 0.0087976540 & 0.009775171 & 0.9814272\\\\\n\t165093 & 0.0087976540 & 0.009775171 & 0.9814272\\\\\n\\end{tabular}\n",
            "text/plain": [
              "       BAJA+1       BAJA+2      CONTINUA \n",
              "1      0.0001215916 0.000334377 0.9995440\n",
              "2      0.0001215916 0.000334377 0.9995440\n",
              "3      0.0143329658 0.014884234 0.9707828\n",
              "4      0.0007248231 0.001449646 0.9978255\n",
              "5      0.0007248231 0.001449646 0.9978255\n",
              "6      0.0001215916 0.000334377 0.9995440\n",
              "7      0.0001215916 0.000334377 0.9995440\n",
              "8      0.0007248231 0.001449646 0.9978255\n",
              "9      0.0007248231 0.001449646 0.9978255\n",
              "10     0.0030386740 0.003867403 0.9930939\n",
              "11     0.0001215916 0.000334377 0.9995440\n",
              "12     0.0016959932 0.002755989 0.9955480\n",
              "13     0.0007248231 0.001449646 0.9978255\n",
              "14     0.0007248231 0.001449646 0.9978255\n",
              "15     0.0018454441 0.002998847 0.9951557\n",
              "16     0.0018454441 0.002998847 0.9951557\n",
              "17     0.0001215916 0.000334377 0.9995440\n",
              "18     0.0007248231 0.001449646 0.9978255\n",
              "19     0.0001215916 0.000334377 0.9995440\n",
              "20     0.0001215916 0.000334377 0.9995440\n",
              "21     0.0007248231 0.001449646 0.9978255\n",
              "22     0.0031479538 0.010493179 0.9863589\n",
              "23     0.0001215916 0.000334377 0.9995440\n",
              "24     0.0016332591 0.001781737 0.9965850\n",
              "25     0.0016332591 0.001781737 0.9965850\n",
              "26     0.0007248231 0.001449646 0.9978255\n",
              "27     0.0007248231 0.001449646 0.9978255\n",
              "28     0.0001215916 0.000334377 0.9995440\n",
              "29     0.0016332591 0.001781737 0.9965850\n",
              "30     0.0001215916 0.000334377 0.9995440\n",
              "⋮      ⋮            ⋮           ⋮        \n",
              "165064 0.0087976540 0.009775171 0.9814272\n",
              "165065 0.0087976540 0.009775171 0.9814272\n",
              "165066 0.0087976540 0.009775171 0.9814272\n",
              "165067 0.0087976540 0.009775171 0.9814272\n",
              "165068 0.0087976540 0.009775171 0.9814272\n",
              "165069 0.0087976540 0.009775171 0.9814272\n",
              "165070 0.0087976540 0.009775171 0.9814272\n",
              "165071 0.0065913371 0.007532957 0.9858757\n",
              "165072 0.0087976540 0.009775171 0.9814272\n",
              "165073 0.0087976540 0.009775171 0.9814272\n",
              "165074 0.0087976540 0.009775171 0.9814272\n",
              "165075 0.0087976540 0.009775171 0.9814272\n",
              "165076 0.0000000000 0.015151515 0.9848485\n",
              "165077 0.0176366843 0.026455026 0.9559083\n",
              "165078 0.0087976540 0.009775171 0.9814272\n",
              "165079 0.0087976540 0.009775171 0.9814272\n",
              "165080 0.0087976540 0.009775171 0.9814272\n",
              "165081 0.0087976540 0.009775171 0.9814272\n",
              "165082 0.0087976540 0.009775171 0.9814272\n",
              "165083 0.0087976540 0.009775171 0.9814272\n",
              "165084 0.0005866823 0.002200059 0.9972133\n",
              "165085 0.0087976540 0.009775171 0.9814272\n",
              "165086 0.0087976540 0.009775171 0.9814272\n",
              "165087 0.0087976540 0.009775171 0.9814272\n",
              "165088 0.0087976540 0.009775171 0.9814272\n",
              "165089 0.0065913371 0.007532957 0.9858757\n",
              "165090 0.0000000000 0.000000000 1.0000000\n",
              "165091 0.0087976540 0.009775171 0.9814272\n",
              "165092 0.0087976540 0.009775171 0.9814272\n",
              "165093 0.0087976540 0.009775171 0.9814272"
            ]
          },
          "metadata": {}
        }
      ]
    },
    {
      "cell_type": "markdown",
      "source": [
        "## Tabla Prediccion"
      ],
      "metadata": {
        "id": "YgEJUN2ZlLZN"
      }
    },
    {
      "cell_type": "code",
      "source": [
        "tb_prediccion <- as.data.table(list(\n",
        "  \"numero_de_cliente\" = dfuture$numero_de_cliente,\n",
        "  \"prob\"=prediccion[, \"BAJA+2\"]\n",
        "))"
      ],
      "metadata": {
        "id": "-UbcZ6u4lwuK"
      },
      "execution_count": null,
      "outputs": []
    },
    {
      "cell_type": "markdown",
      "source": [
        "## Decision"
      ],
      "metadata": {
        "id": "lbFzDPDwWcnM"
      }
    },
    {
      "cell_type": "code",
      "source": [
        "# decido a quien se envia estimulo y a quien no\n",
        "# como trabajo con clase_ternaria puedo hacer el corte en 1/40\n",
        "# solo le envio estimulo a los registros\n",
        "#  con probabilidad de BAJA+2 mayor  a  1/40\n",
        "\n",
        "tb_prediccion[, Predicted := prob > (1/40) ]\n",
        "\n",
        "# veo que hay en tb_prediccion\n",
        "tb_prediccion"
      ],
      "metadata": {
        "id": "m_8lCAWKWgbu",
        "outputId": "9f223fb0-836d-4b31-e824-5224c8af4ffa",
        "colab": {
          "base_uri": "https://localhost:8080/",
          "height": 1000
        }
      },
      "execution_count": null,
      "outputs": [
        {
          "output_type": "display_data",
          "data": {
            "text/html": [
              "<table class=\"dataframe\">\n",
              "<caption>A data.table: 165093 × 3</caption>\n",
              "<thead>\n",
              "\t<tr><th scope=col>numero_de_cliente</th><th scope=col>prob</th><th scope=col>Predicted</th></tr>\n",
              "\t<tr><th scope=col>&lt;int&gt;</th><th scope=col>&lt;dbl&gt;</th><th scope=col>&lt;lgl&gt;</th></tr>\n",
              "</thead>\n",
              "<tbody>\n",
              "\t<tr><td>29183733</td><td>0.000334377</td><td>FALSE</td></tr>\n",
              "\t<tr><td>29184468</td><td>0.000334377</td><td>FALSE</td></tr>\n",
              "\t<tr><td>29185245</td><td>0.014884234</td><td>FALSE</td></tr>\n",
              "\t<tr><td>29186441</td><td>0.001449646</td><td>FALSE</td></tr>\n",
              "\t<tr><td>29186475</td><td>0.001449646</td><td>FALSE</td></tr>\n",
              "\t<tr><td>29187730</td><td>0.000334377</td><td>FALSE</td></tr>\n",
              "\t<tr><td>29187764</td><td>0.000334377</td><td>FALSE</td></tr>\n",
              "\t<tr><td>29187961</td><td>0.001449646</td><td>FALSE</td></tr>\n",
              "\t<tr><td>29189899</td><td>0.001449646</td><td>FALSE</td></tr>\n",
              "\t<tr><td>29189993</td><td>0.003867403</td><td>FALSE</td></tr>\n",
              "\t<tr><td>29190113</td><td>0.000334377</td><td>FALSE</td></tr>\n",
              "\t<tr><td>29192179</td><td>0.002755989</td><td>FALSE</td></tr>\n",
              "\t<tr><td>29193101</td><td>0.001449646</td><td>FALSE</td></tr>\n",
              "\t<tr><td>29193281</td><td>0.001449646</td><td>FALSE</td></tr>\n",
              "\t<tr><td>29193324</td><td>0.002998847</td><td>FALSE</td></tr>\n",
              "\t<tr><td>29195356</td><td>0.002998847</td><td>FALSE</td></tr>\n",
              "\t<tr><td>29195433</td><td>0.000334377</td><td>FALSE</td></tr>\n",
              "\t<tr><td>29196099</td><td>0.001449646</td><td>FALSE</td></tr>\n",
              "\t<tr><td>29196902</td><td>0.000334377</td><td>FALSE</td></tr>\n",
              "\t<tr><td>29198055</td><td>0.000334377</td><td>FALSE</td></tr>\n",
              "\t<tr><td>29198891</td><td>0.001449646</td><td>FALSE</td></tr>\n",
              "\t<tr><td>29199242</td><td>0.010493179</td><td>FALSE</td></tr>\n",
              "\t<tr><td>29200335</td><td>0.000334377</td><td>FALSE</td></tr>\n",
              "\t<tr><td>29200343</td><td>0.001781737</td><td>FALSE</td></tr>\n",
              "\t<tr><td>29200514</td><td>0.001781737</td><td>FALSE</td></tr>\n",
              "\t<tr><td>29200651</td><td>0.001449646</td><td>FALSE</td></tr>\n",
              "\t<tr><td>29200727</td><td>0.001449646</td><td>FALSE</td></tr>\n",
              "\t<tr><td>29200770</td><td>0.000334377</td><td>FALSE</td></tr>\n",
              "\t<tr><td>29200984</td><td>0.001781737</td><td>FALSE</td></tr>\n",
              "\t<tr><td>29201086</td><td>0.000334377</td><td>FALSE</td></tr>\n",
              "\t<tr><td>⋮</td><td>⋮</td><td>⋮</td></tr>\n",
              "\t<tr><td>187967614</td><td>0.009775171</td><td>FALSE</td></tr>\n",
              "\t<tr><td>187969270</td><td>0.009775171</td><td>FALSE</td></tr>\n",
              "\t<tr><td>187989740</td><td>0.009775171</td><td>FALSE</td></tr>\n",
              "\t<tr><td>187999433</td><td>0.009775171</td><td>FALSE</td></tr>\n",
              "\t<tr><td>188009390</td><td>0.009775171</td><td>FALSE</td></tr>\n",
              "\t<tr><td>188009578</td><td>0.009775171</td><td>FALSE</td></tr>\n",
              "\t<tr><td>188015094</td><td>0.009775171</td><td>FALSE</td></tr>\n",
              "\t<tr><td>188017716</td><td>0.007532957</td><td>FALSE</td></tr>\n",
              "\t<tr><td>188019279</td><td>0.009775171</td><td>FALSE</td></tr>\n",
              "\t<tr><td>188031482</td><td>0.009775171</td><td>FALSE</td></tr>\n",
              "\t<tr><td>188042080</td><td>0.009775171</td><td>FALSE</td></tr>\n",
              "\t<tr><td>188054394</td><td>0.009775171</td><td>FALSE</td></tr>\n",
              "\t<tr><td>188055368</td><td>0.015151515</td><td>FALSE</td></tr>\n",
              "\t<tr><td>188057878</td><td>0.026455026</td><td> TRUE</td></tr>\n",
              "\t<tr><td>188061679</td><td>0.009775171</td><td>FALSE</td></tr>\n",
              "\t<tr><td>188062558</td><td>0.009775171</td><td>FALSE</td></tr>\n",
              "\t<tr><td>188064497</td><td>0.009775171</td><td>FALSE</td></tr>\n",
              "\t<tr><td>188071815</td><td>0.009775171</td><td>FALSE</td></tr>\n",
              "\t<tr><td>188073113</td><td>0.009775171</td><td>FALSE</td></tr>\n",
              "\t<tr><td>188074787</td><td>0.009775171</td><td>FALSE</td></tr>\n",
              "\t<tr><td>188084847</td><td>0.002200059</td><td>FALSE</td></tr>\n",
              "\t<tr><td>188096188</td><td>0.009775171</td><td>FALSE</td></tr>\n",
              "\t<tr><td>188097537</td><td>0.009775171</td><td>FALSE</td></tr>\n",
              "\t<tr><td>188100654</td><td>0.009775171</td><td>FALSE</td></tr>\n",
              "\t<tr><td>188101739</td><td>0.009775171</td><td>FALSE</td></tr>\n",
              "\t<tr><td>188115120</td><td>0.007532957</td><td>FALSE</td></tr>\n",
              "\t<tr><td>188116871</td><td>0.000000000</td><td>FALSE</td></tr>\n",
              "\t<tr><td>188122277</td><td>0.009775171</td><td>FALSE</td></tr>\n",
              "\t<tr><td>188128903</td><td>0.009775171</td><td>FALSE</td></tr>\n",
              "\t<tr><td>188136205</td><td>0.009775171</td><td>FALSE</td></tr>\n",
              "</tbody>\n",
              "</table>\n"
            ],
            "text/markdown": "\nA data.table: 165093 × 3\n\n| numero_de_cliente &lt;int&gt; | prob &lt;dbl&gt; | Predicted &lt;lgl&gt; |\n|---|---|---|\n| 29183733 | 0.000334377 | FALSE |\n| 29184468 | 0.000334377 | FALSE |\n| 29185245 | 0.014884234 | FALSE |\n| 29186441 | 0.001449646 | FALSE |\n| 29186475 | 0.001449646 | FALSE |\n| 29187730 | 0.000334377 | FALSE |\n| 29187764 | 0.000334377 | FALSE |\n| 29187961 | 0.001449646 | FALSE |\n| 29189899 | 0.001449646 | FALSE |\n| 29189993 | 0.003867403 | FALSE |\n| 29190113 | 0.000334377 | FALSE |\n| 29192179 | 0.002755989 | FALSE |\n| 29193101 | 0.001449646 | FALSE |\n| 29193281 | 0.001449646 | FALSE |\n| 29193324 | 0.002998847 | FALSE |\n| 29195356 | 0.002998847 | FALSE |\n| 29195433 | 0.000334377 | FALSE |\n| 29196099 | 0.001449646 | FALSE |\n| 29196902 | 0.000334377 | FALSE |\n| 29198055 | 0.000334377 | FALSE |\n| 29198891 | 0.001449646 | FALSE |\n| 29199242 | 0.010493179 | FALSE |\n| 29200335 | 0.000334377 | FALSE |\n| 29200343 | 0.001781737 | FALSE |\n| 29200514 | 0.001781737 | FALSE |\n| 29200651 | 0.001449646 | FALSE |\n| 29200727 | 0.001449646 | FALSE |\n| 29200770 | 0.000334377 | FALSE |\n| 29200984 | 0.001781737 | FALSE |\n| 29201086 | 0.000334377 | FALSE |\n| ⋮ | ⋮ | ⋮ |\n| 187967614 | 0.009775171 | FALSE |\n| 187969270 | 0.009775171 | FALSE |\n| 187989740 | 0.009775171 | FALSE |\n| 187999433 | 0.009775171 | FALSE |\n| 188009390 | 0.009775171 | FALSE |\n| 188009578 | 0.009775171 | FALSE |\n| 188015094 | 0.009775171 | FALSE |\n| 188017716 | 0.007532957 | FALSE |\n| 188019279 | 0.009775171 | FALSE |\n| 188031482 | 0.009775171 | FALSE |\n| 188042080 | 0.009775171 | FALSE |\n| 188054394 | 0.009775171 | FALSE |\n| 188055368 | 0.015151515 | FALSE |\n| 188057878 | 0.026455026 |  TRUE |\n| 188061679 | 0.009775171 | FALSE |\n| 188062558 | 0.009775171 | FALSE |\n| 188064497 | 0.009775171 | FALSE |\n| 188071815 | 0.009775171 | FALSE |\n| 188073113 | 0.009775171 | FALSE |\n| 188074787 | 0.009775171 | FALSE |\n| 188084847 | 0.002200059 | FALSE |\n| 188096188 | 0.009775171 | FALSE |\n| 188097537 | 0.009775171 | FALSE |\n| 188100654 | 0.009775171 | FALSE |\n| 188101739 | 0.009775171 | FALSE |\n| 188115120 | 0.007532957 | FALSE |\n| 188116871 | 0.000000000 | FALSE |\n| 188122277 | 0.009775171 | FALSE |\n| 188128903 | 0.009775171 | FALSE |\n| 188136205 | 0.009775171 | FALSE |\n\n",
            "text/latex": "A data.table: 165093 × 3\n\\begin{tabular}{lll}\n numero\\_de\\_cliente & prob & Predicted\\\\\n <int> & <dbl> & <lgl>\\\\\n\\hline\n\t 29183733 & 0.000334377 & FALSE\\\\\n\t 29184468 & 0.000334377 & FALSE\\\\\n\t 29185245 & 0.014884234 & FALSE\\\\\n\t 29186441 & 0.001449646 & FALSE\\\\\n\t 29186475 & 0.001449646 & FALSE\\\\\n\t 29187730 & 0.000334377 & FALSE\\\\\n\t 29187764 & 0.000334377 & FALSE\\\\\n\t 29187961 & 0.001449646 & FALSE\\\\\n\t 29189899 & 0.001449646 & FALSE\\\\\n\t 29189993 & 0.003867403 & FALSE\\\\\n\t 29190113 & 0.000334377 & FALSE\\\\\n\t 29192179 & 0.002755989 & FALSE\\\\\n\t 29193101 & 0.001449646 & FALSE\\\\\n\t 29193281 & 0.001449646 & FALSE\\\\\n\t 29193324 & 0.002998847 & FALSE\\\\\n\t 29195356 & 0.002998847 & FALSE\\\\\n\t 29195433 & 0.000334377 & FALSE\\\\\n\t 29196099 & 0.001449646 & FALSE\\\\\n\t 29196902 & 0.000334377 & FALSE\\\\\n\t 29198055 & 0.000334377 & FALSE\\\\\n\t 29198891 & 0.001449646 & FALSE\\\\\n\t 29199242 & 0.010493179 & FALSE\\\\\n\t 29200335 & 0.000334377 & FALSE\\\\\n\t 29200343 & 0.001781737 & FALSE\\\\\n\t 29200514 & 0.001781737 & FALSE\\\\\n\t 29200651 & 0.001449646 & FALSE\\\\\n\t 29200727 & 0.001449646 & FALSE\\\\\n\t 29200770 & 0.000334377 & FALSE\\\\\n\t 29200984 & 0.001781737 & FALSE\\\\\n\t 29201086 & 0.000334377 & FALSE\\\\\n\t ⋮ & ⋮ & ⋮\\\\\n\t 187967614 & 0.009775171 & FALSE\\\\\n\t 187969270 & 0.009775171 & FALSE\\\\\n\t 187989740 & 0.009775171 & FALSE\\\\\n\t 187999433 & 0.009775171 & FALSE\\\\\n\t 188009390 & 0.009775171 & FALSE\\\\\n\t 188009578 & 0.009775171 & FALSE\\\\\n\t 188015094 & 0.009775171 & FALSE\\\\\n\t 188017716 & 0.007532957 & FALSE\\\\\n\t 188019279 & 0.009775171 & FALSE\\\\\n\t 188031482 & 0.009775171 & FALSE\\\\\n\t 188042080 & 0.009775171 & FALSE\\\\\n\t 188054394 & 0.009775171 & FALSE\\\\\n\t 188055368 & 0.015151515 & FALSE\\\\\n\t 188057878 & 0.026455026 &  TRUE\\\\\n\t 188061679 & 0.009775171 & FALSE\\\\\n\t 188062558 & 0.009775171 & FALSE\\\\\n\t 188064497 & 0.009775171 & FALSE\\\\\n\t 188071815 & 0.009775171 & FALSE\\\\\n\t 188073113 & 0.009775171 & FALSE\\\\\n\t 188074787 & 0.009775171 & FALSE\\\\\n\t 188084847 & 0.002200059 & FALSE\\\\\n\t 188096188 & 0.009775171 & FALSE\\\\\n\t 188097537 & 0.009775171 & FALSE\\\\\n\t 188100654 & 0.009775171 & FALSE\\\\\n\t 188101739 & 0.009775171 & FALSE\\\\\n\t 188115120 & 0.007532957 & FALSE\\\\\n\t 188116871 & 0.000000000 & FALSE\\\\\n\t 188122277 & 0.009775171 & FALSE\\\\\n\t 188128903 & 0.009775171 & FALSE\\\\\n\t 188136205 & 0.009775171 & FALSE\\\\\n\\end{tabular}\n",
            "text/plain": [
              "       numero_de_cliente prob        Predicted\n",
              "1      29183733          0.000334377 FALSE    \n",
              "2      29184468          0.000334377 FALSE    \n",
              "3      29185245          0.014884234 FALSE    \n",
              "4      29186441          0.001449646 FALSE    \n",
              "5      29186475          0.001449646 FALSE    \n",
              "6      29187730          0.000334377 FALSE    \n",
              "7      29187764          0.000334377 FALSE    \n",
              "8      29187961          0.001449646 FALSE    \n",
              "9      29189899          0.001449646 FALSE    \n",
              "10     29189993          0.003867403 FALSE    \n",
              "11     29190113          0.000334377 FALSE    \n",
              "12     29192179          0.002755989 FALSE    \n",
              "13     29193101          0.001449646 FALSE    \n",
              "14     29193281          0.001449646 FALSE    \n",
              "15     29193324          0.002998847 FALSE    \n",
              "16     29195356          0.002998847 FALSE    \n",
              "17     29195433          0.000334377 FALSE    \n",
              "18     29196099          0.001449646 FALSE    \n",
              "19     29196902          0.000334377 FALSE    \n",
              "20     29198055          0.000334377 FALSE    \n",
              "21     29198891          0.001449646 FALSE    \n",
              "22     29199242          0.010493179 FALSE    \n",
              "23     29200335          0.000334377 FALSE    \n",
              "24     29200343          0.001781737 FALSE    \n",
              "25     29200514          0.001781737 FALSE    \n",
              "26     29200651          0.001449646 FALSE    \n",
              "27     29200727          0.001449646 FALSE    \n",
              "28     29200770          0.000334377 FALSE    \n",
              "29     29200984          0.001781737 FALSE    \n",
              "30     29201086          0.000334377 FALSE    \n",
              "⋮      ⋮                 ⋮           ⋮        \n",
              "165064 187967614         0.009775171 FALSE    \n",
              "165065 187969270         0.009775171 FALSE    \n",
              "165066 187989740         0.009775171 FALSE    \n",
              "165067 187999433         0.009775171 FALSE    \n",
              "165068 188009390         0.009775171 FALSE    \n",
              "165069 188009578         0.009775171 FALSE    \n",
              "165070 188015094         0.009775171 FALSE    \n",
              "165071 188017716         0.007532957 FALSE    \n",
              "165072 188019279         0.009775171 FALSE    \n",
              "165073 188031482         0.009775171 FALSE    \n",
              "165074 188042080         0.009775171 FALSE    \n",
              "165075 188054394         0.009775171 FALSE    \n",
              "165076 188055368         0.015151515 FALSE    \n",
              "165077 188057878         0.026455026  TRUE    \n",
              "165078 188061679         0.009775171 FALSE    \n",
              "165079 188062558         0.009775171 FALSE    \n",
              "165080 188064497         0.009775171 FALSE    \n",
              "165081 188071815         0.009775171 FALSE    \n",
              "165082 188073113         0.009775171 FALSE    \n",
              "165083 188074787         0.009775171 FALSE    \n",
              "165084 188084847         0.002200059 FALSE    \n",
              "165085 188096188         0.009775171 FALSE    \n",
              "165086 188097537         0.009775171 FALSE    \n",
              "165087 188100654         0.009775171 FALSE    \n",
              "165088 188101739         0.009775171 FALSE    \n",
              "165089 188115120         0.007532957 FALSE    \n",
              "165090 188116871         0.000000000 FALSE    \n",
              "165091 188122277         0.009775171 FALSE    \n",
              "165092 188128903         0.009775171 FALSE    \n",
              "165093 188136205         0.009775171 FALSE    "
            ]
          },
          "metadata": {}
        }
      ]
    },
    {
      "cell_type": "markdown",
      "source": [
        "## Kaggle"
      ],
      "metadata": {
        "id": "x8wauYqsn159"
      }
    },
    {
      "cell_type": "markdown",
      "source": [
        "## Tarea para el Hogar"
      ],
      "metadata": {
        "id": "yOPAzXbyvfVu"
      }
    },
    {
      "cell_type": "markdown",
      "source": [
        "Explorar manualmente que hiperparámetros genera una mayor ganancia en Kaggle\n",
        "<br> Si en un momento logra quedar en primera posición del Private Leaderboard, saquese una selfie"
      ],
      "metadata": {
        "id": "1m6BshdUvjqv"
      }
    }
  ]
}