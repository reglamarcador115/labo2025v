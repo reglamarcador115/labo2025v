{
  "nbformat": 4,
  "nbformat_minor": 0,
  "metadata": {
    "colab": {
      "provenance": [],
      "include_colab_link": true
    },
    "kernelspec": {
      "name": "ir",
      "display_name": "R"
    },
    "language_info": {
      "name": "R"
    }
  },
  "cells": [
    {
      "cell_type": "markdown",
      "metadata": {
        "id": "view-in-github",
        "colab_type": "text"
      },
      "source": [
        "<a href=\"https://colab.research.google.com/github/reglamarcador115/labo2025v/blob/main/src/CazaTalentos/CazaTalentosTRZ.ipynb\" target=\"_parent\"><img src=\"https://colab.research.google.com/assets/colab-badge.svg\" alt=\"Open In Colab\"/></a>"
      ]
    },
    {
      "cell_type": "markdown",
      "source": [
        "# Cazatalentos\n",
        "## buscando a  “La verdadera mejor encestadora”"
      ],
      "metadata": {
        "id": "5NHQWdqh3Sro"
      }
    },
    {
      "cell_type": "markdown",
      "source": [
        "## 1.Introduccion\n",
        "Este notebook analiza de forma didáctica la razón por la que se produce el overfitting.\n",
        "\n",
        "Ver los primeros cinco minutos de este video muy relacionado con lo que veremos\n",
        "[Veritasium El Éxito ¿es Suerte o Trabajo Duro?](https://storage.googleapis.com/open-courses/austral2025-af91/labo1r/veritasium_success_paradox.html)"
      ],
      "metadata": {
        "id": "q2mpBZS53jCQ"
      }
    },
    {
      "cell_type": "markdown",
      "source": [
        "### 1.1 Motivacion\n",
        "\n",
        "El siguiente desafío busca introducir el problema fundamental de la Ciencia de Datos que es el overfitting desde un ángulo distinto,  presentando los fenómenos del efecto del tamaño de la muestra,\n",
        "<br> el conocido problema de las múltiples comparaciones  y “la maldición del ganador”.\n",
        "<br>\n",
        "<br> Aunque anecdóticametne está basado en algo deportivo, se extiende fácilmente  a :\n",
        "*  la efectividad de acciones de marketing\n",
        "*  el testeo de medicamentos\n",
        "*  experimentos ciéntíficos https://www.ncbi.nlm.nih.gov/pmc/articles/PMC1182327/\n",
        "*  la comparación de modelos predictivos\n",
        "*  la elección del mejor corte en un nodo de un árbol de decisión, etc\n",
        "*  el examen único de **residencias médicas** de la República Argentina, y los incidentes presentados en el año 2025 https://www.infobae.com/salud/2025/08/08/examen-de-residencias-ninguno-de-los-117-medicos-que-se-presentaron-pudo-revalidar-su-nota-en-la-segunda-evaluacion/\n",
        "\n"
      ],
      "metadata": {
        "id": "BIwyaLbd3vAn"
      }
    },
    {
      "cell_type": "markdown",
      "source": [
        "### 1.2 Generalidades\n",
        "Vari@s cazatalent@s de la gran ciudad van recorriendo pueblos en búsqueda de las mejores jugadoras de basket para tiros libres en la Liga Femenina de Basket.\n",
        "<br>El procedimiento recomendado es el siguiente : un@ cazatalentos llega a un pueblo y va a la única cancha de basket del lugar donde la están esperando las adolescentes interesadas, las hace tirar tiros libres y elige a la mejor jugadora.\n",
        "<br>Posteriormente a la elección del mejor jugadora, si le parece a la entrenadora de la gran ciudad, se llevará a la jugadora a que demuestre que tan buena es.\n",
        "\n",
        "<br>A las jugadoras los podemos equiparar con modelos predictivos.\n"
      ],
      "metadata": {
        "id": "RDbj1N8U4Ain"
      }
    },
    {
      "cell_type": "markdown",
      "source": [
        "### 2 Definición del Problema\n",
        "\n",
        "¿Qué metodología de las que se plantearán es la que propone a la jugadora con mayor probabilidad de superar el umbral del 80% de aciertos en la nueva prueba que se hará en la gran ciudad?\n",
        "<br> Cada jugadora posee un “índice de enceste”, la cazatalentos no tiene forma de conocerlos; lo único que puede hacer la cazatalentos es hacer que las jugadoras hagan tiros libres, y medir los aciertos y no aciertos."
      ],
      "metadata": {
        "id": "-5pmca3q4NpX"
      }
    },
    {
      "cell_type": "markdown",
      "source": [
        "### 2.1  Caso fallido, una jugadora se quiere pasar de lista ...\n",
        "\n",
        "La cazatalentos llega a una pequeña localidad a la que le han dicho que hay dos adolescentes cuyas habilidades debe testear.\n",
        "<br> Una es super talentosa se llama Diana Taurasi  https://en.wikipedia.org/wiki/Diana_Taurasi, nosotros sabemos que tiene un “índice de enceste” del 0.85, es decir cada vez que hace un tiro libre su probabilidad de encestar es del 85%.   Si hace 100 tiros libres, en promedio encesta 85 veces,  a veces puede ser más, a veces menos, pero en promedio encesta 85 de 100.\n",
        "<br> La otra es un auténtico desastre, a quien llamaremos  Miss X, y su índice de enceste es de 0.10.  Esto quiere decir que si hace 100  tiros libres, en promedio encesta 10.\n",
        "<br> La cazatalentos NO tiene forma de conocer los valores de 0.85 y 0.10, solo puede hacerlas tirar y contar aciertos.\n",
        "\n",
        "<br>La cazatalentos llega al gimnasio,  y solo se encuentra Diana, con lo cual le indica que comience a tirar.  Al tiro 10, Diana lleva 8 encestes y 2 no-enceste.\n",
        "<br>En ese momento, llega con un andar cansino Miss X y las interrumpe :  ¿cuánto va Diana ? La cazatalentos le responde  8 de 10.  Miss X solicita permiso para tirar, tira una sola vez y acierta.\n",
        "<br>Ahí mismo dice : “paren las rotativas, yo soy la clara ganadora de este torneo,  mi indice de acierto es del  100% y el de Diana es del 80% ,  la matemática es clara”.\n",
        "<br>La cazatalentos monta en cólera y le dice :  pues usted joven solo ha realizado un tiro, ¿Si lo hubiera errado, aceptaría decir entonces que su indice de acierto es del 0%? Ciertamente no.\n",
        "<br>Pues ahora, usted deberá seguir tirando hasta completar sus 10 tiros libres, y recién ahí compararé.\n"
      ],
      "metadata": {
        "id": "nJj3sNJv4XYO"
      }
    },
    {
      "cell_type": "markdown",
      "source": [
        "### 2.2 Segundo Caso\n",
        "\n",
        "La cazatalentos tiene el siguiente algoritmo, hace que Diana Taurasi y Miss X hagan 10 tiros libres cada una, y elige a la ganadora de esos 10 tiros libres.\n",
        "¿Garantiza este método que por lo menos el 99% de las veces elige a Diana Taurasi?\n",
        "\n",
        "<br>¿La desastrosa Miss X puede llegar a encestar los 10 tiros libres?  <br>Efectivamente sí existe esa posibilidad, pero con una muy baja probabilidad, la probabilidad es de 0.10 ^10  =  1e-10\n",
        "<br>El símbolo de  ^  significa  \"elevado a la potencia de\"\n",
        "<br>\n",
        "<br>¿Cual es la probabilidad que Miss X tire una sola vez y acierte este tiro? <br>Simplemente 0.1 , una en diez, con lo cual ha tenido mucha suerte en su primer tiro, pero no la va a poder mantener !\n",
        "\n",
        "<br>¿La adolescente Diana Taurasi puede llegar a encestar los 10 tiros libres?  Efectivamente, su probabilidad es  0.85 ^10 = 0.1968744"
      ],
      "metadata": {
        "id": "zn2iG2Bw4wTm"
      }
    },
    {
      "cell_type": "markdown",
      "source": [
        "En el lenguaje R la instrucción  runif(10)  genera un vector con 10 números aleatorios con distribución uniforme en el intervalo [0,1], por ejemplo"
      ],
      "metadata": {
        "id": "ye8SFCwU6poc"
      }
    },
    {
      "cell_type": "markdown",
      "source": [
        "Ahora simulamos 10000 veces la estrategia de tirar 10 tiros libres y quedarse con la ganadora."
      ],
      "metadata": {
        "id": "VR6fbLmd6yR4"
      }
    },
    {
      "cell_type": "code",
      "source": [
        "missx_ganadora <- 0\n",
        "\n",
        "for( i  in 1:10000 )\n",
        "{\n",
        "  aciertos_taurasi <- sum( runif(10) < 0.85 )\n",
        "  aciertos_missx <- sum( runif(10) < 0.10 )\n",
        "\n",
        "  if( aciertos_missx > aciertos_taurasi )  missx_ganadora <- missx_ganadora +1\n",
        "}\n",
        "\n",
        "cat( \"Miss X gano un total de : \", missx_ganadora )"
      ],
      "metadata": {
        "id": "ZD8ZjxDp5tqt",
        "colab": {
          "base_uri": "https://localhost:8080/"
        },
        "outputId": "8f6ba0d9-a29b-4e89-8cf2-9a3c54325ade"
      },
      "execution_count": null,
      "outputs": [
        {
          "output_type": "stream",
          "name": "stdout",
          "text": [
            "Miss X gano un total de :  0"
          ]
        }
      ]
    },
    {
      "cell_type": "markdown",
      "source": [
        "Lo que da la cantidad de 0,  o sea que en 10000 veces, siempre ganó Diana Taurasi, con lo cual la estrategia de quedarse con el mejor de 10 tiros ha funcionado, para este obvio caso donde hay apenas dos jugadoras y hay una diferencia abismal entre ellas.\n",
        "\n",
        "En este caso NO aparece el overfitting por ningún lado"
      ],
      "metadata": {
        "id": "gYSZOgTv64Ta"
      }
    },
    {
      "cell_type": "markdown",
      "source": [
        "### 2.3  Aparece el Overfitting\n",
        "\n",
        "El cazatalentos llega ahora a un pueblo donde hay 100 jugadores los que son mucho más parejos entre sí desde el punto de vista del ratio de enceste.\n",
        "\n",
        "Hay un jugador, que llamaremos jugador 1 que tiene un “índice de enceste” de  0.70\n",
        "Los 99 jugadores restantes que llamaremos “el pelotón”  tienen los índices de enceste  { 0.501, 0.0502, 0.503, …, 0.599  }\n",
        "Es decir el jugador 1 tiene 0.70 y el mejor jugador del pelotón tiene 0.599,  hay un poco más de 0.10 de diferencia.  La diferencia de 0.10 es significativa en basket.\n",
        "\n",
        "¿Qué sucede con el algoritmo del cazatalentos de hacer tirar 10 tiros libres a cada uno de los jugadores y elegir al que más encestes logró ?\n"
      ],
      "metadata": {
        "id": "onrG79vw7CCQ"
      }
    },
    {
      "cell_type": "code",
      "source": [
        "\n",
        "\n",
        "set.seed( 234511 )\n",
        "\n",
        "# calcula cuantos encestes logra una jugadora con indice de enceste prob\n",
        "# haciendo qyt tiros libres\n",
        "\n",
        "ftirar  <- function( prob, qty ){\n",
        "  return( sum( runif(qty) < prob ) )\n",
        "}\n",
        "\n",
        "\n",
        "# defino las jugadoras\n",
        "taurasi    <- 0.7\n",
        "peloton    <- ( 501:599 ) / 1000\n",
        "jugadoras  <- c( taurasi, peloton )\n",
        "\n",
        "\n",
        "\n",
        "\n",
        "\n",
        "# hago que las 100 jugadoras tiren 10 veces cada una\n",
        "mapply( ftirar, jugadoras, 10 )\n",
        "\n",
        "primera_ganadora  <- 0\n",
        "\n",
        "for( i in 1:10000 ){  # diez mil experimentos\n",
        "\n",
        "  vaciertos  <- mapply( ftirar, jugadoras, 10 )  # 10 tiros libres cada jugadora\n",
        "\n",
        "  mejor  <- which.max( vaciertos )\n",
        "  if( mejor == 1 )  primera_ganadora  <- primera_ganadora + 1\n",
        "}\n",
        "\n",
        "cat(\"\\n\")\n",
        "cat( \"En los diez mil experimentos, se detecto correctamente a la mejor jugadora la cantidad de veces:\", primera_ganadora )\n"
      ],
      "metadata": {
        "id": "rjh8LUah7NRy",
        "colab": {
          "base_uri": "https://localhost:8080/",
          "height": 86
        },
        "outputId": "9f9d1ff9-5d3b-4be2-daa0-f7c4c2c61489"
      },
      "execution_count": null,
      "outputs": [
        {
          "output_type": "display_data",
          "data": {
            "text/html": [
              "<style>\n",
              ".list-inline {list-style: none; margin:0; padding: 0}\n",
              ".list-inline>li {display: inline-block}\n",
              ".list-inline>li:not(:last-child)::after {content: \"\\00b7\"; padding: 0 .5ex}\n",
              "</style>\n",
              "<ol class=list-inline><li>6</li><li>5</li><li>8</li><li>3</li><li>7</li><li>6</li><li>6</li><li>3</li><li>6</li><li>8</li><li>3</li><li>6</li><li>5</li><li>7</li><li>4</li><li>4</li><li>5</li><li>6</li><li>4</li><li>4</li><li>4</li><li>5</li><li>4</li><li>6</li><li>6</li><li>5</li><li>6</li><li>8</li><li>6</li><li>5</li><li>5</li><li>6</li><li>5</li><li>4</li><li>7</li><li>5</li><li>5</li><li>8</li><li>4</li><li>2</li><li>6</li><li>9</li><li>4</li><li>6</li><li>5</li><li>5</li><li>4</li><li>3</li><li>4</li><li>4</li><li>4</li><li>6</li><li>10</li><li>7</li><li>2</li><li>4</li><li>7</li><li>6</li><li>7</li><li>5</li><li>8</li><li>5</li><li>8</li><li>7</li><li>8</li><li>3</li><li>7</li><li>8</li><li>7</li><li>5</li><li>7</li><li>5</li><li>8</li><li>5</li><li>4</li><li>5</li><li>7</li><li>6</li><li>5</li><li>5</li><li>2</li><li>7</li><li>4</li><li>6</li><li>7</li><li>4</li><li>7</li><li>7</li><li>3</li><li>5</li><li>7</li><li>6</li><li>6</li><li>6</li><li>6</li><li>7</li><li>5</li><li>8</li><li>5</li><li>5</li></ol>\n"
            ],
            "text/markdown": "1. 6\n2. 5\n3. 8\n4. 3\n5. 7\n6. 6\n7. 6\n8. 3\n9. 6\n10. 8\n11. 3\n12. 6\n13. 5\n14. 7\n15. 4\n16. 4\n17. 5\n18. 6\n19. 4\n20. 4\n21. 4\n22. 5\n23. 4\n24. 6\n25. 6\n26. 5\n27. 6\n28. 8\n29. 6\n30. 5\n31. 5\n32. 6\n33. 5\n34. 4\n35. 7\n36. 5\n37. 5\n38. 8\n39. 4\n40. 2\n41. 6\n42. 9\n43. 4\n44. 6\n45. 5\n46. 5\n47. 4\n48. 3\n49. 4\n50. 4\n51. 4\n52. 6\n53. 10\n54. 7\n55. 2\n56. 4\n57. 7\n58. 6\n59. 7\n60. 5\n61. 8\n62. 5\n63. 8\n64. 7\n65. 8\n66. 3\n67. 7\n68. 8\n69. 7\n70. 5\n71. 7\n72. 5\n73. 8\n74. 5\n75. 4\n76. 5\n77. 7\n78. 6\n79. 5\n80. 5\n81. 2\n82. 7\n83. 4\n84. 6\n85. 7\n86. 4\n87. 7\n88. 7\n89. 3\n90. 5\n91. 7\n92. 6\n93. 6\n94. 6\n95. 6\n96. 7\n97. 5\n98. 8\n99. 5\n100. 5\n\n\n",
            "text/latex": "\\begin{enumerate*}\n\\item 6\n\\item 5\n\\item 8\n\\item 3\n\\item 7\n\\item 6\n\\item 6\n\\item 3\n\\item 6\n\\item 8\n\\item 3\n\\item 6\n\\item 5\n\\item 7\n\\item 4\n\\item 4\n\\item 5\n\\item 6\n\\item 4\n\\item 4\n\\item 4\n\\item 5\n\\item 4\n\\item 6\n\\item 6\n\\item 5\n\\item 6\n\\item 8\n\\item 6\n\\item 5\n\\item 5\n\\item 6\n\\item 5\n\\item 4\n\\item 7\n\\item 5\n\\item 5\n\\item 8\n\\item 4\n\\item 2\n\\item 6\n\\item 9\n\\item 4\n\\item 6\n\\item 5\n\\item 5\n\\item 4\n\\item 3\n\\item 4\n\\item 4\n\\item 4\n\\item 6\n\\item 10\n\\item 7\n\\item 2\n\\item 4\n\\item 7\n\\item 6\n\\item 7\n\\item 5\n\\item 8\n\\item 5\n\\item 8\n\\item 7\n\\item 8\n\\item 3\n\\item 7\n\\item 8\n\\item 7\n\\item 5\n\\item 7\n\\item 5\n\\item 8\n\\item 5\n\\item 4\n\\item 5\n\\item 7\n\\item 6\n\\item 5\n\\item 5\n\\item 2\n\\item 7\n\\item 4\n\\item 6\n\\item 7\n\\item 4\n\\item 7\n\\item 7\n\\item 3\n\\item 5\n\\item 7\n\\item 6\n\\item 6\n\\item 6\n\\item 6\n\\item 7\n\\item 5\n\\item 8\n\\item 5\n\\item 5\n\\end{enumerate*}\n",
            "text/plain": [
              "  [1]  6  5  8  3  7  6  6  3  6  8  3  6  5  7  4  4  5  6  4  4  4  5  4  6  6\n",
              " [26]  5  6  8  6  5  5  6  5  4  7  5  5  8  4  2  6  9  4  6  5  5  4  3  4  4\n",
              " [51]  4  6 10  7  2  4  7  6  7  5  8  5  8  7  8  3  7  8  7  5  7  5  8  5  4\n",
              " [76]  5  7  6  5  5  2  7  4  6  7  4  7  7  3  5  7  6  6  6  6  7  5  8  5  5"
            ]
          },
          "metadata": {}
        },
        {
          "output_type": "stream",
          "name": "stdout",
          "text": [
            "\n",
            "En los diez mil experimentos, se detecto correctamente a la mejor jugadora la cantidad de veces: 1416"
          ]
        }
      ]
    },
    {
      "cell_type": "markdown",
      "source": [
        "Aquí ya pasa algo asombroso, el overfitting en todo su esplendor.\n",
        "Si hago tirar 10 tiros libres a cada uno de las 100 jugadoras, apenas 1450 veces de las 10000 este método  devuelve a la verdadera mejor, que es la jugadora con un índice de enceste de 0.70\n",
        "\n",
        "Intuitivamente, lo que está sucediendo es que la inmensa mayoría de las veces, una de las 99 jugadoras del pelotón tiene mucha suerte y supera a la jugadora de 0.70, con lo cual se elige a una del pelotón y no a la verdadera mejor !  \n",
        "<br>El tener 99 jugadoras en el pelotón hace que al ser tantas hay varias que tienen mala suerte, pero también hay varias con muy buena suerte, y la que tuvo más suerte supera a la verdadera mejor !\n"
      ],
      "metadata": {
        "id": "Ctw9S6A17w4f"
      }
    },
    {
      "cell_type": "markdown",
      "source": [
        "### 2.4 Nueva ronda\n",
        "\n",
        "Ahora pasemos a ver aún algo más notable.\n",
        "Tenemos a nuestra jugadora de 0.70, y a las 99 jugadoras del pelotón.\n",
        "1.  Las hacemos tirar a cada una 10 tiros libres, y elegimos a la ganadora registrando cuántos aciertos tuvo\n",
        "2.  solo a esa ganadora la hacemos tirar una nueva ronda de 10 tiros libres\n",
        "3.  finalmente comparamos estos nuevos aciertos con los originales.\n"
      ],
      "metadata": {
        "id": "B0uks59u792r"
      }
    },
    {
      "cell_type": "code",
      "source": [
        "\n",
        "\n",
        "set.seed( 102191 )\n",
        "\n",
        "# calcula cuantos encestes logra una jugadora con indice de enceste prob\n",
        "# haciendo qyt tiros libres\n",
        "\n",
        "ftirar  <- function( prob, qty ){\n",
        "  return( sum( runif(qty) < prob ) )\n",
        "}\n",
        "\n",
        "\n",
        "# defino los jugadoras\n",
        "taurasi <-  0.7\n",
        "peloton    <-  ( 501:599 ) / 1000\n",
        "jugadoras  <-  c( taurasi, peloton )\n",
        "\n",
        "\n",
        "cat( \"Aciertos Ganadora\", \"\\t\", \"Nueva Ronda\", \"\\n\")\n",
        "\n",
        "for( i in 1:10 ){\n",
        "  vaciertos  <- mapply( ftirar, jugadoras, 10 )  # cada jugadora tira 10 tiros libres\n",
        "  mejor  <- which.max( vaciertos )\n",
        "  aciertos_torneo  <- vaciertos[ mejor ]\n",
        "\n",
        "  aciertos_segunda  <- ftirar( jugadoras[ mejor ], 10 )\n",
        "\n",
        "  cat( aciertos_torneo, \"\\t\\t\\t\", aciertos_segunda, \"\\n\" )\n",
        "}"
      ],
      "metadata": {
        "id": "3o6MUbsqUOPe",
        "colab": {
          "base_uri": "https://localhost:8080/"
        },
        "outputId": "98ddba83-40af-441f-c450-801a00d9818e"
      },
      "execution_count": null,
      "outputs": [
        {
          "output_type": "stream",
          "name": "stdout",
          "text": [
            "Aciertos Ganadora \t Nueva Ronda \n",
            "10 \t\t\t 5 \n",
            "8 \t\t\t 7 \n",
            "9 \t\t\t 5 \n",
            "9 \t\t\t 7 \n",
            "9 \t\t\t 5 \n",
            "9 \t\t\t 7 \n",
            "10 \t\t\t 3 \n",
            "9 \t\t\t 5 \n",
            "10 \t\t\t 7 \n",
            "8 \t\t\t 2 \n"
          ]
        }
      ]
    },
    {
      "cell_type": "markdown",
      "source": [
        "Lo que se observa en este caso es “La maldición del ganador”,\n",
        "<br>la performance que la jugadora que logró más aciertos en la competencia general luego NO LA PUEDE MANTENER,\n",
        "<br>en todos los casos vemos que en la nueva ronda de diez tiene menos aciertos que en la primera ronda de diez.\n",
        "<br>La primera ronda  la jugadora que resultó ganadora fue debido a la suerte, y esa suerte ya no la acompaña para la segunda ronda de 10 tiros libres.\n",
        "\n",
        "Relacionado con las competencias Kaggle, una forma de pensar esto es  \"¿Cómo le va a ir al mejor modelo del Public Leaderboard en el Private?\" ,  esta es la razón por la que los puntajes que vemos en el Private son inferiores al Public.\n",
        "La primer ronda puede verse como quedarnos con el mejor modelo del Public Leaderboard, la nueva ronda es como le va a ese modelo en el Private Leaderboard.\n",
        "<br>Elegir el mejor modelo del Public, suele ser una pésima estrategia."
      ],
      "metadata": {
        "id": "fFOmnBma8Fuf"
      }
    },
    {
      "cell_type": "markdown",
      "source": [
        "### El overfitting en su plenitud\n",
        "\n",
        "¿Cuándo es más extremo el efecto de “La maldición del ganador” ?\n",
        "<br>Supongamos por un momento que ahora, en otro pueblo,  tenemos 100 jugadoras nuevas, todas con un “índice de enceste” de 0.70 ;  recordar que ese valor jamás es conocido por la cazatalentos.\n",
        "\n",
        "<br>Ahora nos ponemos más estrictos, y las hacemos tirar 100 veces a cada una, elegimos a la ganadora, y solo a esa ganadora la hacemos tirar 100 nuevos tiros libres.\n",
        "<br> Podemos pensarlo como que la cazatalentos se lleva a la mejor jugadora a la gran ciudad, le habla maravillas de ella a la entrenadora, y la entrenadora dice “probémosla a ver si es tan buena como decís, que haga 100 tiros libres aquí y ahora”"
      ],
      "metadata": {
        "id": "yvPC7A4x9fPl"
      }
    },
    {
      "cell_type": "code",
      "source": [
        "\n",
        "\n",
        "set.seed( 102191 )\n",
        "\n",
        "# calcula cuantos encestes logra una jugadora con indice de enceste prob\n",
        "# que hace qyt tiros libres\n",
        "\n",
        "ftirar  <- function( prob, qty ){\n",
        "  return( sum( runif(qty) < prob ) )\n",
        "}\n",
        "\n",
        "\n",
        "# defino los jugadoras\n",
        "jugadoras  <- rep( 0.7, 100 )\n",
        "\n",
        "\n",
        "\n",
        "\n",
        "cat( \"Aciertos Ganadora\", \"\\t\", \"Nueva Ronda\", \"\\n\")\n",
        "for( i in 1:10 ){\n",
        "  vaciertos  <- mapply( ftirar, jugadoras, 100 )  # cada jugadora tira 100 tiros libres\n",
        "  mejor  <- which.max( vaciertos )\n",
        "  aciertos_torneo  <- vaciertos[ mejor ]\n",
        "\n",
        "  aciertos_segunda  <- ftirar( jugadoras[ mejor ], 100 )\n",
        "\n",
        "  cat( aciertos_torneo, \"\\t\\t\\t\", aciertos_segunda, \"\\n\" )\n",
        "}"
      ],
      "metadata": {
        "id": "Ro2WAmmi9vGq",
        "colab": {
          "base_uri": "https://localhost:8080/"
        },
        "outputId": "8df9c32b-50b0-4831-dda4-5fa8e36ed7cf"
      },
      "execution_count": null,
      "outputs": [
        {
          "output_type": "stream",
          "name": "stdout",
          "text": [
            "Aciertos Ganadora \t Nueva Ronda \n",
            "82 \t\t\t 68 \n",
            "82 \t\t\t 78 \n",
            "83 \t\t\t 78 \n",
            "79 \t\t\t 64 \n",
            "82 \t\t\t 69 \n",
            "81 \t\t\t 73 \n",
            "78 \t\t\t 71 \n",
            "80 \t\t\t 69 \n",
            "82 \t\t\t 61 \n",
            "80 \t\t\t 73 \n"
          ]
        }
      ]
    },
    {
      "cell_type": "markdown",
      "source": [
        "Nuevamente vemos, que el puntaje alcanzado por la mejor jugadora cuando compitió contra las otras 99,  NO ES VUELTO A ALCANZAR  en la nueva ronda de 100 tiros libres que hace esa jugadora.\n",
        "<br>Este efecto es exactamente el mismo que vemos cuando alguien se empecina en lograr en el Leaderboard Público el mayor puntaje de la clase,  le va muy bien en el Público, pero se derrumba catastróficamente en el Privado.\n",
        "<br>Decimos que  “overfitió / sobreajustó el Leaderboard Publico”."
      ],
      "metadata": {
        "id": "XjDoJam6Bi30"
      }
    },
    {
      "cell_type": "markdown",
      "source": [
        "### 2.5 medida de la diferencia\n",
        "\n",
        "Ahora nos preguntamos, en este caso, en promedio, cuanto más aciertos tiene la ganadora (debido a la suerte)  en la primera ronda  con respecto a la segunda ?\n"
      ],
      "metadata": {
        "id": "y3VZbvqTBuPq"
      }
    },
    {
      "cell_type": "code",
      "source": [
        "\n",
        "\n",
        "set.seed( 102191 )\n",
        "\n",
        "# calcula cuantos encestes logra una jugadora con indice de enceste prob\n",
        "# que hace qyt tiros libres\n",
        "\n",
        "ftirar  <- function( prob, qty ){\n",
        "  return( sum( runif(qty) < prob ) )\n",
        "}\n",
        "\n",
        "\n",
        "# defino las jugadoras\n",
        "jugadoras  <- rep( 0.7, 100 )\n",
        "\n",
        "\n",
        "\n",
        "\n",
        "suma_diferencias <- 0\n",
        "\n",
        "for( i in 1:10000 ){\n",
        "  vaciertos  <- mapply( ftirar, jugadoras, 100 )  # cada jugador tira 100 tiros libres\n",
        "  mejor  <- which.max( vaciertos )\n",
        "  aciertos_torneo  <- vaciertos[ mejor ]\n",
        "\n",
        "  aciertos_segunda  <- ftirar( jugadoras[mejor], 100 )\n",
        "\n",
        "  suma_diferencias  <- suma_diferencias +  (aciertos_torneo - aciertos_segunda )\n",
        "}\n",
        "\n",
        "\n",
        "cat( \"Diferencia promedio:\",  suma_diferencias / 10000 )\n"
      ],
      "metadata": {
        "id": "c2i376B9BzHX",
        "colab": {
          "base_uri": "https://localhost:8080/"
        },
        "outputId": "9cf5b212-7f39-43ca-8694-dd83912f6ab6"
      },
      "execution_count": null,
      "outputs": [
        {
          "output_type": "stream",
          "name": "stdout",
          "text": [
            "Diferencia promedio: 11.0609"
          ]
        }
      ]
    },
    {
      "cell_type": "markdown",
      "source": [
        "Exactamente este mismo efecto se da en el marketing digital.  Si en un A/B testing se prueban cien alternativas y se elige a la que tiene más efectividad, se observará que en un nuevo experimento disminuirá el rendimiento de esa alternativa.\n",
        "\n",
        "También sucede si se prueban muchos medicamentos al mismo tiempo,   el que resulte más efectivo disminuirá su efectividad en la nueva prueba.\n",
        "\n",
        "Este problema es llamado “El problema de las múltiples comparaciones”"
      ],
      "metadata": {
        "id": "J8DD6d8qBzaF"
      }
    },
    {
      "cell_type": "markdown",
      "source": [
        "### 2.6 una sola jugadora MUY buena\n",
        "\n",
        "Sexto caso,  ¿cuándo se atenúa/desaparece  el overfitting?\n",
        "Supongamos 99 jugadoras con un índice de enceste de 0.60   y  ahora sumamos a la adolescente Diana Taurasi con su superlativo índice de enceste del 0.85\n",
        "Los hacemos tirar a todas 100 tiros libres, llevamos a la ganadora a la gran ciudad, y allí le contamos a la entrenadora de nuestra ganadora Diana Taurasi."
      ],
      "metadata": {
        "id": "tkt4OngiCI_O"
      }
    },
    {
      "cell_type": "code",
      "source": [
        "\n",
        "\n",
        "set.seed( 102191 )\n",
        "\n",
        "# calcula cuantos encestes logra una jugadora con indice de enceste prob\n",
        "# que hace qyt tiros libres\n",
        "\n",
        "ftirar  <- function( prob, qty ){\n",
        "  return( sum( runif(qty) < prob ) )\n",
        "}\n",
        "\n",
        "\n",
        "# defino las jugadoras\n",
        "taurasi    <- 0.85\n",
        "peloton   <- rep( 0.6, 99 )  # jugadoras identicas\n",
        "jugadoras <- c( taurasi, peloton )\n",
        "\n",
        "\n",
        "\n",
        "cat( \"Aciertos Ganadora\", \"\\t\", \"Nueva Ronda\", \"\\n\")\n",
        "\n",
        "for( i in 1:10 ){\n",
        "  vaciertos  <- mapply( ftirar, jugadoras, 100 )  # cada jugadora tira 100 tiros libres\n",
        "  mejor  <- which.max( vaciertos )\n",
        "  aciertos_torneo  <- vaciertos[ mejor ]\n",
        "\n",
        "  aciertos_segunda  <- ftirar( jugadoras[ mejor ], 100 )\n",
        "\n",
        "  cat(aciertos_torneo, \"\\t\\t\\t\", aciertos_segunda, \"\\n\" )\n",
        "}\n",
        "\n"
      ],
      "metadata": {
        "id": "o0N0WPw84JCR",
        "colab": {
          "base_uri": "https://localhost:8080/"
        },
        "outputId": "a1f13703-ae3f-4028-835d-42747ecd80b8"
      },
      "execution_count": null,
      "outputs": [
        {
          "output_type": "stream",
          "name": "stdout",
          "text": [
            "Aciertos Ganadora \t Nueva Ronda \n",
            "88 \t\t\t 91 \n",
            "85 \t\t\t 86 \n",
            "79 \t\t\t 91 \n",
            "86 \t\t\t 81 \n",
            "87 \t\t\t 87 \n",
            "84 \t\t\t 84 \n",
            "86 \t\t\t 83 \n",
            "87 \t\t\t 86 \n",
            "85 \t\t\t 77 \n",
            "92 \t\t\t 83 \n"
          ]
        }
      ]
    },
    {
      "cell_type": "markdown",
      "source": [
        "En este caso observamos dos cosas, en primer lugar SIEMPRE la ganadora del torneo fue Diana Taurasi, y en segundo  cuando tuvo que mostrar en la ciudad su performance, fue la misma que en el primer torneo.  \n",
        "<br>Es tan buena Taurasi que le ganó a la que tuvo más suerte del pelotón, el efecto suerte no está afectando a Taurasi porque está sola, y gana por su superioridad, no por la suerte."
      ],
      "metadata": {
        "id": "JEiveN8aCSFQ"
      }
    },
    {
      "cell_type": "markdown",
      "source": [
        "### 2.7 Efectos del tamaño de la ronda\n",
        "\n",
        "La cazatalentos llega ahora a un pueblo donde hay 100 jugadoras las que son mucho más parejas entre sí desde el punto de vista del ratio de enceste.\n",
        "Hay un jugadora, que llamaremos jugadora 1 que tiene un “índice de enceste” de  0.70 ,  es una jugadora buena pero dista mucho de ser Diana Taurasi, jamás estará en el \"WNBA Hall of Fame\".\n",
        "\n",
        "Las 99 jugadoras restantes que llamaremos “el pelotón”  tienen los índices de enceste  { 0.501, 0.0502, 0.503, …, 0.599  }  Es decir la jugadora 1 tiene 0.70 y la mejor jugadora del pelotón tiene 0.599,  o sea hay un poco más de 0.10 de diferencia.  La diferencia de 0.10 es significativa en basket.\n",
        "\n",
        "¿Cuántos tiros libres debe la cazatalentos pedirles que haga cada jugadora para que  si elige a la mejor jugadora tiene la certeza de llevarse a “la verdadero mejor” el 99% de los casos ?\n"
      ],
      "metadata": {
        "id": "BYnlNCcdC3Aa"
      }
    },
    {
      "cell_type": "code",
      "source": [
        "# intencionalmente la mejor jugadora va al final de la lista de jugadoras\n",
        "# porque la funcion which.max() de R hace trampa\n",
        "# si hay un empate ( dos máximos) se queda con la que esta primera en el vector\n",
        "\n",
        "\n",
        "set.seed( 102191 )\n",
        "\n",
        "# calcula cuantos encestes logra una jugadora con indice de enceste prob\n",
        "# que hace qyt tiros libres\n",
        "\n",
        "ftirar  <- function( prob, qty ){\n",
        "  return( sum( runif(qty) < prob ) )\n",
        "}\n",
        "\n",
        "\n",
        "# defino los jugadoras\n",
        "taurasi    <- 0.7\n",
        "peloton    <- ( 501:599 ) / 1000\n",
        "jugadoras  <- c( peloton, taurasi) # intencionalmente la mejor esta al final\n",
        "\n",
        "\n",
        "for( tiros_libres in c(10, 20, 50, 100, 200, 300, 400, 415, 500, 600, 700, 1000 ) ){\n",
        "\n",
        "  ultima_ganadora <- 0\n",
        "\n",
        "  for( i in 1:10000 ) { # diez mil experimentos\n",
        "\n",
        "    vaciertos  <- mapply( ftirar, jugadoras, tiros_libres )\n",
        "    mejor  <- which.max( vaciertos )\n",
        "\n",
        "    if( mejor == 100 )  ultima_ganadora  <- ultima_ganadora + 1\n",
        "  }\n",
        "\n",
        "  cat( tiros_libres, \"\\t\", ultima_ganadora/10000, \"\\n\" )\n",
        "}\n",
        "\n"
      ],
      "metadata": {
        "id": "9lAZ2JWjC_7S",
        "colab": {
          "base_uri": "https://localhost:8080/"
        },
        "outputId": "ae5b0df0-64c9-43d2-8181-a42d01527745"
      },
      "execution_count": null,
      "outputs": [
        {
          "output_type": "stream",
          "name": "stdout",
          "text": [
            "10 \t 0.0299 \n",
            "20 \t 0.0868 \n",
            "50 \t 0.268 \n",
            "100 \t 0.5448 \n",
            "200 \t 0.8532 \n",
            "300 \t 0.9579 \n",
            "400 \t 0.9877 \n",
            "415 \t 0.9911 \n",
            "500 \t 0.9964 \n",
            "600 \t 0.9995 \n",
            "700 \t 0.9999 \n",
            "1000 \t 1 \n"
          ]
        }
      ]
    },
    {
      "cell_type": "markdown",
      "source": [
        "Haciendo tirar 415 tiros libres a cada una de los 100 jugadoras,\n",
        "<br> y quedándose con la ganadora de ese torneo,\n",
        "<br> en el 99.10%   ( 0.9910 )  de los casos se está segura que esa es \"la verdadera mejor\".\n"
      ],
      "metadata": {
        "id": "nusfuHtqDEF3"
      }
    },
    {
      "cell_type": "markdown",
      "source": [
        "## 3 Conclusiones\n",
        "\n",
        "El overfitting aparece cuando se comparan muchas jugadoras (modelos predictivos)  muy parecidas entre sí.  \n",
        "<br> En el modelado predictivo es la situación más común que se tengan modelos con similar poder predictivo ya que generalmente solo difieren apenas en valores de los hiperparámetros o algunas columnas nuevas con feature engineering.\n",
        "\n",
        "Las jugadoras no son determinísticas, sino probabilísticas, con lo cual al comparar muchas parecidas la ganadora es quien además de su talento tuvo más suerte en ese torneo.  La jugadora ganadora ganó por mera suerte, y  NO puede sostener esa suerte en un nuevo torneo, por lo que el puntaje del primer torneo es mentiroso, no se sostiene en el nuevo torneo.\n",
        "\n",
        "El overfitting se atenúa o puede llegar a desaparecer del todo, si en el torneo hay una jugadora ampliamente superior al resto. Esa jugadora SI mantiene su performance de un torneo al otro, ya que su puntaje en el primer torneo fue alto porque es realmente buena, porque no es el máximo de muchos parecidas a ella.\n",
        "\n",
        "La forma de combatir el overfitting es hacer torneos de muchos tiros libres.\n",
        "<br>Para estimar que tan buena es la jugadora ganadora de un torneo, hay que hacerla tirar nuevamente tiros libres.\n",
        "<br>El secreto está en hacer más de un torneo.\n"
      ],
      "metadata": {
        "id": "MJE_DbTMDI2x"
      }
    },
    {
      "cell_type": "markdown",
      "source": [
        "## 4 Desafio Cazatalentos Ordenamiento"
      ],
      "metadata": {
        "id": "on4_A7v8Fn8q"
      }
    },
    {
      "cell_type": "markdown",
      "source": [
        "### 4.1 Enunciado\n",
        "\n",
        "Se reúne la entrenadora  en la gran ciudad con algunas cazatalentos que visitaron regiones distintas.\n",
        "\n",
        "Entrenadora:  Bienvenidas a todas, veo que cada una de ustedes ha traído la estadística de su candidata. Sin embargo, yo debo ordenarlas de mejor a peor, y no me alcanza con que dos de ustedes me digan que que sus candidatas encestaron 80/100, necesito que me relaten exactamente el procedimiento que han seguido para elegir a la mejor jugadora.\n",
        "\n",
        "Cazatalentos 1:  Discúlpeme entrenadora, si dos de nosotras le presentamos casos que en distintos pueblos han encestado exactamente 80 de 100, probabilisticamente esas adolescentes son equivalentes. Es cierto que luego aquí en la gran ciudad el dia de la prueba una podrá encestar 77 de 100, la otra 83,  pero eso es la parte natural del random, ya sabemos que la distribución es binomial.  Ambas son equivalentes, no importa que pasó con el resto de las jugadoras de su pueblo.\n",
        "\n",
        "Entrenadora: Estimada “Cazatalentos 1”  tú estas equivocada, no consideras El Problema de las Multiples Comparaciones; elegir cuales de esas adolescentes vendrán a la gran ciudad a ser evaluadas es mi decisión. Comienza tú contando detalladamente el proceso que has seguido.\n",
        "4\n",
        "\n"
      ],
      "metadata": {
        "id": "6CRZMyXzDOj8"
      }
    },
    {
      "cell_type": "markdown",
      "source": [
        "**Cazatalentos 1**: Llegué a la localidad habían 100 adolescentes en el gimnasio, hice tirar a cada una 100 tiros, solo una obtuvo 80 aciertos, luego un par 79, otro par 78, y así descendían. La que logró 80 aciertos es mi candidata.\n"
      ],
      "metadata": {
        "id": "qrBHwlb-D8Aq"
      }
    },
    {
      "cell_type": "markdown",
      "source": [
        "**Cazatalentos 2:** Llegué a una pequeña ciudad y habían 200 adolescentes en el gimnasio, hice tirar a cada una 100 tiros, solo una obtuvo 80 aciertos, seis 79,  cinco 78, y así descendían. La que logró 80 aciertos es mi candidata."
      ],
      "metadata": {
        "id": "2aqYKT53EbOf"
      }
    },
    {
      "cell_type": "markdown",
      "source": [
        "**Cazatalentos 3:** Yo poseo 25 años de experiencia como cazatalentos y tengo muy buena intuición  para detectar el talento. Llegué a un pueblo donde habían 100 adolescentes, me senté en las gradas del gimnasio y las observé detenidamente mientras precalentaban sin tirar al aro.  A los 10 minutos, me paro, y señalo a una de ellas y le digo :  'tú, la número 13, a tirar 100 tiros; el resto gracias por haber venido pero se pueden ir cada una a su casa”. Y ahí al tirar esos 100 tiros logró 80 aciertos y esa es mi candidata."
      ],
      "metadata": {
        "id": "qVVDhqLLEdsG"
      }
    },
    {
      "cell_type": "markdown",
      "source": [
        "**Cazatalentos 4:** Llegué a minúsculo pueblo con un aro reglamentario en la pared de una escuela, habían solamente 2 adolescentes, hice tirar a cada una 100 tiros, una obtuvo 80 y la otra 75."
      ],
      "metadata": {
        "id": "fLGg_pXHElSG"
      }
    },
    {
      "cell_type": "markdown",
      "source": [
        "**Cazatalentos 5:** Le dice a la entrenadora : “fui a una localidad de 500 habitantes, había una sola adolescente interesada, la hice tirar 100 tiros libres, y encestó 80,  tengo una filmación con mi celular de los 100 tiros, sin edición ni cortes”\n",
        "En realidad, esa adolescente es la sobrina de la cazatalentos, la hizo tirar 10 rondas de 100 tiros cada una, grabó todas, pero tramposamente solo trae la grabación de la mejor ronda a la entrenadora.\n",
        "Los resultados obtenidos por su sobrina son\n",
        "\n",
        "\n",
        "| ronda | Tiros | Encestes |\n",
        "| ---: | ---: | ---: |\n",
        "| 1 | 100 | 68 |\n",
        "| 2 | 100 | 74 |\n",
        "| 3 | 100 | 78 |\n",
        "| 4 | 100 | 70 |\n",
        "| 5 | 100 | 68 |\n",
        "| 6 | 100 | 63 |\n",
        "| 7 | 100 | 80 |\n",
        "| 8 | 100 | 68 |\n",
        "| 9 | 100 | 67 |\n",
        "| 10 | 100 | 65 |\n",
        "\n",
        "\n",
        "(esta deshonestidad de la Cazatalentos 5 no debería parecerle extraña ni causarle gracia, es exactamente lo mismo que elegir como submit final el que le fue mejor en el Public Leaderboard,  algo muy común entre l@s alumn@s ...)\n",
        "<br>Por una persona espía en el pueblo, la entrenadora está al tanto de lo ocurrido y conoce la tabla anterior, usará dicha información para tomar la decisión, aunque no le dirá nada, por esta vez, a la cazatalentos."
      ],
      "metadata": {
        "id": "JGNSv31_EsZA"
      }
    },
    {
      "cell_type": "markdown",
      "source": [
        "**Cazatalentos 6:** Yo disiento con utilizar sesgos como lo hizo la Cazatalentos 3, creo que se deben dar oportunidades inesperadas. Camino al pueblo escuché en la radio los resultados de la quiniela matutina y el 43 fue el numero ganador.\n",
        "\n",
        "Llegué al gimnasio, habia 100 adolescentes, les explique que iba a utilizar criterios objetivos y subjetivos para elegir a la ganadora.  Las hice tirar 100 tiros a todas,  sin embargo ya tenía la decisión tomada de antemano, elegí a la numero 43, quien hizo 79 encestes de 100 tiros.\n",
        "Ni siquiera registré en mi tablet los encestes del resto, quería dar una oportunidad random a una de esas chicas."
      ],
      "metadata": {
        "id": "UvQMpoD6BZCB"
      }
    },
    {
      "cell_type": "markdown",
      "source": [
        "**Cazatalentos 7:** Llegué a la localidad habían 100 adolescentes en el gimnasio, todo perfectamente organizado por la dirección, hice tirar a cada una 100 tiros, solo una obtuvo 80 aciertos, luego un par 79, otro par 78, y así descendían. La que logró 80 aciertos era hasta ese momento mi candidata.\n",
        "<br> Estaba subiendo ya a mi automovil para retirarme, y llega corriendo una nueva adolescente. Me relata que vive en un pequeño paraje sin gimnasio a 60 kilómetros al norte, que tenía una cita con otra cazatalentos, la única adolescente de ese paraje, pero que por un terrible accidente de tránsito en un puente, la otra cazatalentos no pudo llegar a testearla, y le refirió que yo estaraía en este pueblo por lo que hacieno dedo llegó hasta aquí.\n",
        "<br> Con un llamado corroboré su historia, y como estaba con tiempo, reingresé al gimnasio y le hice tirar 100 tiros libres, de los cuales encestó 79.\n",
        "<br> Estoy presentando como mi candidata a esta adolescente de último momento de 79 encestes (y no la previa de 80)."
      ],
      "metadata": {
        "id": "mcBONyY9-KNE"
      }
    },
    {
      "cell_type": "markdown",
      "source": [
        "### 4.2 Desafio\n",
        "\n",
        "Podemos suponer que la supertalentosa Diana Taurasi con su “índice de enceste” del 0.85 es superior a todas las jugadoras evaluadas en los pueblos por las cazatalentos.\n",
        "\n",
        "Desafío : ¿Si usted fuera la entrenadora, como ordena el valor esperado de encestes en una ronda de 100 tiros libres  a cada una de las candidatas propuestas por las cinco cazatalentos ?\n",
        "\n",
        "\n",
        "donde   Ci  < Cj   sii   prob(  #Encestes Ci  <  #Encestes Cj    | 100 tiros cada uno )  >  0.5\n",
        "es decir que, haciendo 100 tiros libres,  más de la mitad de las veces,  Ci va a lograr menos encestes que Cj\n",
        "\n",
        "La entrenadora de la gran ciudad NO quiere traer a la elegida de cada cazatalentos y hacerlas tirar 100 tiros delante de ella para constatar cual logra más encestes en esa ronda. Ella quiere, con la información que le brindó cada cazatalentos sobre el procedimiento y los resultados, elegir la mejor encestadora.\n"
      ],
      "metadata": {
        "id": "PRWG_L4tF0Ip"
      }
    },
    {
      "cell_type": "markdown",
      "source": [
        "### 4.3  Reglas del Desafio\n",
        "\n",
        "\n",
        "*  Entrega\n",
        "      * la entrega se realiza con un solo mensaje en Zulip canal #CazaTalentos\n",
        "         * Ordenamiento,  por ejemplo     C3 <  C6 < C5 <  C7 < C1 < C4 < C2\n",
        "         * Explicacion\n",
        "      * Si necesitará apoyarse en scripts para alguna de las comparaciones\n",
        "          * link a carpeta en GitHub\n",
        "      * Podrá enviar varios mensajes, el único que tendrá valor será el último\n",
        "\n",
        "*  Será muy valioso el intercambio de ideas en Zulip channel  **#laboIBA-CazaTalentos**  topic  **Intercambio de Ideas**, este desafío suele ser muy polémico.\n"
      ],
      "metadata": {
        "id": "WO9JHCzXF-9w"
      }
    },
    {
      "cell_type": "markdown",
      "source": [
        "Probabilidad de la Candidata 1"
      ],
      "metadata": {
        "id": "xFWZtK3g3DJt"
      }
    },
    {
      "cell_type": "code",
      "source": [
        "set.seed(234511)\n",
        "\n",
        "# Define la función e_max_sim que estima el valor esperado del máximo mediante simulación,\n",
        "# replicando el experimento 'reps' veces (cada réplica: generar 100 binomiales, tomar el máximo, luego promediar).\n",
        "e_max_sim <- function(p, reps=1000) {\n",
        "  m <- 100  # Número de ensayos en cada binomial (tiros).\n",
        "  n <- 100  # Número de jugadoras (binomiales independientes).\n",
        "\n",
        "  # Simula 'reps' veces el máximo.\n",
        "  maxes <- replicate(reps, {\n",
        "    scores <- rbinom(n, size=m, prob=p)  # Genera n binomiales Bin(m, p).\n",
        "    max(scores)  # Toma el máximo de los scores.\n",
        "  })\n",
        "\n",
        "  mean(maxes)  # Retorna el promedio de los máximos como estimación de E[max].\n",
        "}\n",
        "\n",
        "# Encuentra p tal que la estimación de E[max] = 80, resolviendo e_max_sim(p) - 80 = 0 en el intervalo [0.5, 0.8].\n",
        "# Nota: Debido al ruido de la simulación, el resultado puede variar ligeramente en cada ejecución.\n",
        "p_C1 <- uniroot(function(p) e_max_sim(p) - 80, c(0.5, 0.8))$root\n",
        "\n",
        "# Imprime p multiplicado por 100 para obtener el porcentaje (aprox. 69%).\n",
        "print(p_C1 * 100)"
      ],
      "metadata": {
        "id": "5eaD-Mf5GHSL",
        "outputId": "97e4e216-e7e0-45b5-810b-8eb3ece3cb81",
        "colab": {
          "base_uri": "https://localhost:8080/"
        }
      },
      "execution_count": 60,
      "outputs": [
        {
          "output_type": "stream",
          "name": "stdout",
          "text": [
            "[1] 68.8285\n"
          ]
        }
      ]
    },
    {
      "cell_type": "markdown",
      "source": [
        "Probabilidad de la Candidata 2"
      ],
      "metadata": {
        "id": "u1eRGZHF3Izs"
      }
    },
    {
      "cell_type": "code",
      "source": [],
      "metadata": {
        "id": "gtvtgFSZ3O80"
      },
      "execution_count": null,
      "outputs": []
    },
    {
      "cell_type": "code",
      "source": [
        "set.seed(234511)\n",
        "# Define la función e_max_sim que estima el valor esperado del máximo mediante simulación,\n",
        "# replicando el experimento 'reps' veces (cada réplica: generar 100 binomiales, tomar el máximo, luego promediar).\n",
        "e_max_sim <- function(p, reps=1000) {\n",
        "  m <- 100  # Número de ensayos en cada binomial (tiros).\n",
        "  n <- 200  # Número de jugadoras (binomiales independientes).\n",
        "\n",
        "  # Simula 'reps' veces el máximo.\n",
        "  maxes <- replicate(reps, {\n",
        "    scores <- rbinom(n, size=m, prob=p)  # Genera n binomiales Bin(m, p).\n",
        "    max(scores)  # Toma el máximo de los scores.\n",
        "  })\n",
        "\n",
        "  mean(maxes)  # Retorna el promedio de los máximos como estimación de E[max].\n",
        "}\n",
        "\n",
        "# Encuentra p tal que la estimación de E[max] = 80, resolviendo e_max_sim(p) - 80 = 0 en el intervalo [0.5, 0.8].\n",
        "# Nota: Debido al ruido de la simulación, el resultado puede variar ligeramente en cada ejecución.\n",
        "p_C2 <- uniroot(function(p) e_max_sim(p) - 80, c(0.5, 0.8))$root\n",
        "\n",
        "# Imprime p multiplicado por 100 para obtener el porcentaje (aprox. 69%).\n",
        "print(p_C2 * 100)"
      ],
      "metadata": {
        "outputId": "ca874ed6-af76-43f8-a3f0-91418adb9885",
        "colab": {
          "base_uri": "https://localhost:8080/"
        },
        "id": "K7KqQJMp3PWR"
      },
      "execution_count": 61,
      "outputs": [
        {
          "output_type": "stream",
          "name": "stdout",
          "text": [
            "[1] 67.64142\n"
          ]
        }
      ]
    },
    {
      "cell_type": "markdown",
      "source": [
        "Probabilidad Candidata 3"
      ],
      "metadata": {
        "id": "QBcZuNMw3UDz"
      }
    },
    {
      "cell_type": "code",
      "source": [
        "set.seed(234511)\n",
        "# Define la función e_max_sim que estima el valor esperado del máximo mediante simulación,\n",
        "# replicando el experimento 'reps' veces (cada réplica: generar 1 binomial, tomar el máximo (que es el único), luego promediar).\n",
        "e_max_sim <- function(p, reps=1000) {\n",
        "  m <- 100  # Número de ensayos en cada binomial (tiros).\n",
        "  n <- 1  # Número de rondas (binomiales independientes, aquí solo una jugadora).\n",
        "\n",
        "  # Simula 'reps' veces el máximo.\n",
        "  maxes <- replicate(reps, {\n",
        "    scores <- rbinom(n, size=m, prob=p)  # Genera n binomiales Bin(m, p).\n",
        "    max(scores)  # Toma el máximo de los scores (equivalente al único score).\n",
        "  })\n",
        "\n",
        "  mean(maxes)  # Retorna el promedio de los máximos como estimación de E[max].\n",
        "}\n",
        "\n",
        "# Encuentra p tal que la estimación de E[max] = 79, resolviendo e_max_sim(p) - 79 = 0 en el intervalo [0.5, 0.8].\n",
        "# Nota: Debido al ruido de la simulación, el resultado puede variar ligeramente en cada ejecución.\n",
        "p_C3 <- uniroot(function(p) e_max_sim(p) - 80, c(0.5, 0.85))$root\n",
        "\n",
        "# Imprime p multiplicado por 100 para obtener el porcentaje (aprox. 79%).\n",
        "print(p_C3 * 100)"
      ],
      "metadata": {
        "colab": {
          "base_uri": "https://localhost:8080/"
        },
        "id": "UId6OOVQ8jUx",
        "outputId": "80d33db2-02a0-47ac-f6a3-a8528556f5e4"
      },
      "execution_count": 62,
      "outputs": [
        {
          "output_type": "stream",
          "name": "stdout",
          "text": [
            "[1] 79.9165\n"
          ]
        }
      ]
    },
    {
      "cell_type": "markdown",
      "source": [
        "Probabilidad Candidata 4"
      ],
      "metadata": {
        "id": "Bts0r8wG4mxS"
      }
    },
    {
      "cell_type": "code",
      "source": [
        "set.seed(234511)\n",
        "# Define la función e_max_sim que estima el valor esperado del máximo mediante simulación,\n",
        "# replicando el experimento 'reps' veces (cada réplica: generar 100 binomiales, tomar el máximo, luego promediar).\n",
        "e_max_sim <- function(p, reps=1000) {\n",
        "  m <- 100  # Número de ensayos en cada binomial (tiros).\n",
        "  n <- 2  # Número de jugadoras (binomiales independientes).\n",
        "\n",
        "  # Simula 'reps' veces el máximo.\n",
        "  maxes <- replicate(reps, {\n",
        "    scores <- rbinom(n, size=m, prob=p)  # Genera n binomiales Bin(m, p).\n",
        "    max(scores)  # Toma el máximo de los scores.\n",
        "  })\n",
        "\n",
        "  mean(maxes)  # Retorna el promedio de los máximos como estimación de E[max].\n",
        "}\n",
        "\n",
        "# Encuentra p tal que la estimación de E[max] = 80, resolviendo e_max_sim(p) - 80 = 0 en el intervalo [0.5, 0.8].\n",
        "# Nota: Debido al ruido de la simulación, el resultado puede variar ligeramente en cada ejecución.\n",
        "p_C4 <- uniroot(function(p) e_max_sim(p) - 80, c(0.5, 0.8))$root\n",
        "\n",
        "# Imprime p multiplicado por 100 para obtener el porcentaje (aprox. 69%).\n",
        "print(p_C4 * 100)"
      ],
      "metadata": {
        "colab": {
          "base_uri": "https://localhost:8080/"
        },
        "id": "fkPxFNhr4wWZ",
        "outputId": "c7b6a50e-17a3-4394-b26b-a208d223e183"
      },
      "execution_count": 63,
      "outputs": [
        {
          "output_type": "stream",
          "name": "stdout",
          "text": [
            "[1] 77.63438\n"
          ]
        }
      ]
    },
    {
      "cell_type": "markdown",
      "source": [
        "Probabilidad Candidata 4"
      ],
      "metadata": {
        "id": "zd4K1DTu46Sz"
      }
    },
    {
      "cell_type": "code",
      "source": [
        "set.seed(234511)\n",
        "# Define la función e_max_sim que estima el valor esperado del máximo mediante simulación,\n",
        "# replicando el experimento 'reps' veces (cada réplica: generar 10 binomiales, tomar el máximo, luego promediar).\n",
        "e_max_sim <- function(p, reps=1000) {\n",
        "  m <- 100  # Número de ensayos en cada binomial (tiros).\n",
        "  n <- 10  # Número de rondas (binomiales independientes).\n",
        "\n",
        "  # Simula 'reps' veces el máximo.\n",
        "  maxes <- replicate(reps, {\n",
        "    scores <- rbinom(n, size=m, prob=p)  # Genera n binomiales Bin(m, p).\n",
        "    max(scores)  # Toma el máximo de los scores.\n",
        "  })\n",
        "\n",
        "  mean(maxes)  # Retorna el promedio de los máximos como estimación de E[max].\n",
        "}\n",
        "\n",
        "# Encuentra p tal que la estimación de E[max] = 80, resolviendo e_max_sim(p) - 80 = 0 en el intervalo [0.5, 0.8].\n",
        "# Nota: Debido al ruido de la simulación, el resultado puede variar ligeramente en cada ejecución.\n",
        "p_C5 <- uniroot(function(p) e_max_sim(p) - 80, c(0.5, 0.8))$root\n",
        "\n",
        "# Imprime p multiplicado por 100 para obtener el porcentaje (aprox. 70%).\n",
        "print(p_C5 * 100)"
      ],
      "metadata": {
        "colab": {
          "base_uri": "https://localhost:8080/"
        },
        "id": "lMEWSLK349UV",
        "outputId": "c21b19ae-632c-47b6-81c6-653f5d6d22dd"
      },
      "execution_count": 64,
      "outputs": [
        {
          "output_type": "stream",
          "name": "stdout",
          "text": [
            "[1] 73.2615\n"
          ]
        }
      ]
    },
    {
      "cell_type": "markdown",
      "source": [
        "Probabilidad Candidata 6"
      ],
      "metadata": {
        "id": "ECpa1NMS6svB"
      }
    },
    {
      "cell_type": "code",
      "source": [
        "set.seed(234511)\n",
        "# Define la función e_max_sim que estima el valor esperado del máximo mediante simulación,\n",
        "# replicando el experimento 'reps' veces (cada réplica: generar 1 binomial, tomar el máximo (que es el único), luego promediar).\n",
        "e_max_sim <- function(p, reps=1000) {\n",
        "  m <- 100  # Número de ensayos en cada binomial (tiros).\n",
        "  n <- 1  # Número de rondas (binomiales independientes, aquí solo una jugadora).\n",
        "\n",
        "  # Simula 'reps' veces el máximo.\n",
        "  maxes <- replicate(reps, {\n",
        "    scores <- rbinom(n, size=m, prob=p)  # Genera n binomiales Bin(m, p).\n",
        "    max(scores)  # Toma el máximo de los scores (equivalente al único score).\n",
        "  })\n",
        "\n",
        "  mean(maxes)  # Retorna el promedio de los máximos como estimación de E[max].\n",
        "}\n",
        "\n",
        "# Encuentra p tal que la estimación de E[max] = 79, resolviendo e_max_sim(p) - 79 = 0 en el intervalo [0.5, 0.8].\n",
        "# Nota: Debido al ruido de la simulación, el resultado puede variar ligeramente en cada ejecución.\n",
        "p_C6 <- uniroot(function(p) e_max_sim(p) - 79, c(0.5, 0.8))$root\n",
        "\n",
        "# Imprime p multiplicado por 100 para obtener el porcentaje (aprox. 79%).\n",
        "print(p_C6 * 100)"
      ],
      "metadata": {
        "colab": {
          "base_uri": "https://localhost:8080/"
        },
        "id": "s8dGovv_6s7p",
        "outputId": "b90fdea0-3d9c-440d-e13c-607feda28782"
      },
      "execution_count": 65,
      "outputs": [
        {
          "output_type": "stream",
          "name": "stdout",
          "text": [
            "[1] 78.90255\n"
          ]
        }
      ]
    },
    {
      "cell_type": "markdown",
      "source": [
        "Probabilidad Candidata 7"
      ],
      "metadata": {
        "id": "ydqtnhEP7tRl"
      }
    },
    {
      "cell_type": "code",
      "source": [
        "set.seed(234511)\n",
        "# Define la función e_max_sim que estima el valor esperado del máximo mediante simulación,\n",
        "# replicando el experimento 'reps' veces (cada réplica: generar 1 binomial, tomar el máximo (que es el único), luego promediar).\n",
        "e_max_sim <- function(p, reps=1000) {\n",
        "  m <- 100  # Número de ensayos en cada binomial (tiros).\n",
        "  n <- 1  # Número de rondas (binomiales independientes, aquí solo una jugadora).\n",
        "\n",
        "  # Simula 'reps' veces el máximo.\n",
        "  maxes <- replicate(reps, {\n",
        "    scores <- rbinom(n, size=m, prob=p)  # Genera n binomiales Bin(m, p).\n",
        "    max(scores)  # Toma el máximo de los scores (equivalente al único score).\n",
        "  })\n",
        "\n",
        "  mean(maxes)  # Retorna el promedio de los máximos como estimación de E[max].\n",
        "}\n",
        "\n",
        "# Encuentra p tal que la estimación de E[max] = 79, resolviendo e_max_sim(p) - 79 = 0 en el intervalo [0.5, 0.8].\n",
        "# Nota: Debido al ruido de la simulación, el resultado puede variar ligeramente en cada ejecución.\n",
        "p_C7 <- uniroot(function(p) e_max_sim(p) - 79, c(0.5, 0.8))$root\n",
        "\n",
        "# Imprime p multiplicado por 100 para obtener el porcentaje (aprox. 79%).\n",
        "print(p_C7 * 100)"
      ],
      "metadata": {
        "colab": {
          "base_uri": "https://localhost:8080/"
        },
        "id": "drLHLpGv7uAd",
        "outputId": "a85d26bf-f323-4c9e-d288-1ea26223672b"
      },
      "execution_count": 66,
      "outputs": [
        {
          "output_type": "stream",
          "name": "stdout",
          "text": [
            "[1] 78.90255\n"
          ]
        }
      ]
    },
    {
      "cell_type": "markdown",
      "source": [],
      "metadata": {
        "id": "NJ53gGOW92rT"
      }
    },
    {
      "cell_type": "code",
      "source": [
        "\n",
        "probs <- c(p_C1, p_C2, p_C3, p_C4, p_C5, p_C6, p_C7)\n",
        "df <- data.frame(Candidata = paste(\"Candidata\", 1:7), Valor_Esperado_Enceste = probs * 100)\n",
        "df <- df[order(df$Valor_Esperado_Enceste, decreasing = TRUE), ]\n",
        "df"
      ],
      "metadata": {
        "colab": {
          "base_uri": "https://localhost:8080/",
          "height": 318
        },
        "id": "s2t5I20I927U",
        "outputId": "1a3df1a4-354a-4de7-9819-d435f8571322"
      },
      "execution_count": 67,
      "outputs": [
        {
          "output_type": "display_data",
          "data": {
            "text/html": [
              "<table class=\"dataframe\">\n",
              "<caption>A data.frame: 7 × 2</caption>\n",
              "<thead>\n",
              "\t<tr><th></th><th scope=col>Candidata</th><th scope=col>Valor_Esperado_Enceste</th></tr>\n",
              "\t<tr><th></th><th scope=col>&lt;chr&gt;</th><th scope=col>&lt;dbl&gt;</th></tr>\n",
              "</thead>\n",
              "<tbody>\n",
              "\t<tr><th scope=row>3</th><td>Candidata 3</td><td>79.91650</td></tr>\n",
              "\t<tr><th scope=row>6</th><td>Candidata 6</td><td>78.90255</td></tr>\n",
              "\t<tr><th scope=row>7</th><td>Candidata 7</td><td>78.90255</td></tr>\n",
              "\t<tr><th scope=row>4</th><td>Candidata 4</td><td>77.63438</td></tr>\n",
              "\t<tr><th scope=row>5</th><td>Candidata 5</td><td>73.26150</td></tr>\n",
              "\t<tr><th scope=row>1</th><td>Candidata 1</td><td>68.82850</td></tr>\n",
              "\t<tr><th scope=row>2</th><td>Candidata 2</td><td>67.64142</td></tr>\n",
              "</tbody>\n",
              "</table>\n"
            ],
            "text/markdown": "\nA data.frame: 7 × 2\n\n| <!--/--> | Candidata &lt;chr&gt; | Valor_Esperado_Enceste &lt;dbl&gt; |\n|---|---|---|\n| 3 | Candidata 3 | 79.91650 |\n| 6 | Candidata 6 | 78.90255 |\n| 7 | Candidata 7 | 78.90255 |\n| 4 | Candidata 4 | 77.63438 |\n| 5 | Candidata 5 | 73.26150 |\n| 1 | Candidata 1 | 68.82850 |\n| 2 | Candidata 2 | 67.64142 |\n\n",
            "text/latex": "A data.frame: 7 × 2\n\\begin{tabular}{r|ll}\n  & Candidata & Valor\\_Esperado\\_Enceste\\\\\n  & <chr> & <dbl>\\\\\n\\hline\n\t3 & Candidata 3 & 79.91650\\\\\n\t6 & Candidata 6 & 78.90255\\\\\n\t7 & Candidata 7 & 78.90255\\\\\n\t4 & Candidata 4 & 77.63438\\\\\n\t5 & Candidata 5 & 73.26150\\\\\n\t1 & Candidata 1 & 68.82850\\\\\n\t2 & Candidata 2 & 67.64142\\\\\n\\end{tabular}\n",
            "text/plain": [
              "  Candidata   Valor_Esperado_Enceste\n",
              "3 Candidata 3 79.91650              \n",
              "6 Candidata 6 78.90255              \n",
              "7 Candidata 7 78.90255              \n",
              "4 Candidata 4 77.63438              \n",
              "5 Candidata 5 73.26150              \n",
              "1 Candidata 1 68.82850              \n",
              "2 Candidata 2 67.64142              "
            ]
          },
          "metadata": {}
        }
      ]
    }
  ]
}